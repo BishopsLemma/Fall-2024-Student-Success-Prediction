{
 "cells": [
  {
   "cell_type": "markdown",
   "metadata": {},
   "source": [
    "# Data cleaning and pre-processing\n",
    "### In this notebook, we clean and pre-process the raw dataset provided by Iowa State University. "
   ]
  },
  {
   "cell_type": "code",
   "execution_count": 14,
   "metadata": {},
   "outputs": [
    {
     "data": {
      "text/html": [
       "<div>\n",
       "<style scoped>\n",
       "    .dataframe tbody tr th:only-of-type {\n",
       "        vertical-align: middle;\n",
       "    }\n",
       "\n",
       "    .dataframe tbody tr th {\n",
       "        vertical-align: top;\n",
       "    }\n",
       "\n",
       "    .dataframe thead th {\n",
       "        text-align: right;\n",
       "    }\n",
       "</style>\n",
       "<table border=\"1\" class=\"dataframe\">\n",
       "  <thead>\n",
       "    <tr style=\"text-align: right;\">\n",
       "      <th></th>\n",
       "      <th>STUDENT</th>\n",
       "      <th>MAJOR_CURR</th>\n",
       "      <th>MAJOR_COLL</th>\n",
       "      <th>CLSFN_YR</th>\n",
       "      <th>ENTRY_SEM_CD</th>\n",
       "      <th>ENTRY_CCYY</th>\n",
       "      <th>LEVEL</th>\n",
       "      <th>SEM_CCYY</th>\n",
       "      <th>SEM_CD</th>\n",
       "      <th>OFFER_DEPT_ABRVN</th>\n",
       "      <th>...</th>\n",
       "      <th>DEG_DATEDB</th>\n",
       "      <th>MAJOR_CURR.1</th>\n",
       "      <th>DEG_DESCR</th>\n",
       "      <th>LAST_RGST_TERM</th>\n",
       "      <th>CLSFN_YR.1</th>\n",
       "      <th>MAJOR_CURR.2</th>\n",
       "      <th>MAJOR_COLL.1</th>\n",
       "      <th>Workday Enrolled in Fall 2024</th>\n",
       "      <th>Workday Enrolled in Fall 2024 Class Standing</th>\n",
       "      <th>Workday Enrolled in Fall 2024 Primary Program of Study</th>\n",
       "    </tr>\n",
       "  </thead>\n",
       "  <tbody>\n",
       "    <tr>\n",
       "      <th>6918</th>\n",
       "      <td>2856</td>\n",
       "      <td>GEOL</td>\n",
       "      <td>S</td>\n",
       "      <td>4</td>\n",
       "      <td>1</td>\n",
       "      <td>1991</td>\n",
       "      <td>U</td>\n",
       "      <td>2014</td>\n",
       "      <td>F</td>\n",
       "      <td>MATH</td>\n",
       "      <td>...</td>\n",
       "      <td>12/18/1999</td>\n",
       "      <td>PHYS</td>\n",
       "      <td>B.S.   LIBERAL ARTS AND SCIENCES              ...</td>\n",
       "      <td>F16</td>\n",
       "      <td>4.0</td>\n",
       "      <td>GEOL</td>\n",
       "      <td>S</td>\n",
       "      <td>NaN</td>\n",
       "      <td>NaN</td>\n",
       "      <td>NaN</td>\n",
       "    </tr>\n",
       "    <tr>\n",
       "      <th>15074</th>\n",
       "      <td>6462</td>\n",
       "      <td>MU BM</td>\n",
       "      <td>S</td>\n",
       "      <td>4</td>\n",
       "      <td>F</td>\n",
       "      <td>2017</td>\n",
       "      <td>U</td>\n",
       "      <td>2020</td>\n",
       "      <td>F</td>\n",
       "      <td>MATH</td>\n",
       "      <td>...</td>\n",
       "      <td>8/5/2023</td>\n",
       "      <td>MU BA</td>\n",
       "      <td>B.A.   LIBERAL ARTS &amp; SCIENCES                ...</td>\n",
       "      <td>123</td>\n",
       "      <td>4.0</td>\n",
       "      <td>MU BM</td>\n",
       "      <td>S</td>\n",
       "      <td>NaN</td>\n",
       "      <td>NaN</td>\n",
       "      <td>NaN</td>\n",
       "    </tr>\n",
       "    <tr>\n",
       "      <th>2952</th>\n",
       "      <td>1233</td>\n",
       "      <td>PHYS</td>\n",
       "      <td>S</td>\n",
       "      <td>2</td>\n",
       "      <td>F</td>\n",
       "      <td>2022</td>\n",
       "      <td>U</td>\n",
       "      <td>2023</td>\n",
       "      <td>F</td>\n",
       "      <td>MATH</td>\n",
       "      <td>...</td>\n",
       "      <td>NaN</td>\n",
       "      <td>NaN</td>\n",
       "      <td>NaN</td>\n",
       "      <td>S24</td>\n",
       "      <td>3.0</td>\n",
       "      <td>PHYS</td>\n",
       "      <td>S</td>\n",
       "      <td>98243202.0</td>\n",
       "      <td>Junior</td>\n",
       "      <td>Physics, B.S.</td>\n",
       "    </tr>\n",
       "    <tr>\n",
       "      <th>7962</th>\n",
       "      <td>3287</td>\n",
       "      <td>MATH</td>\n",
       "      <td>S</td>\n",
       "      <td>4</td>\n",
       "      <td>F</td>\n",
       "      <td>2017</td>\n",
       "      <td>U</td>\n",
       "      <td>2020</td>\n",
       "      <td>S</td>\n",
       "      <td>MATH</td>\n",
       "      <td>...</td>\n",
       "      <td>5/8/2021</td>\n",
       "      <td>MATH</td>\n",
       "      <td>B.S.   LIBERAL ARTS &amp; SCIENCES                ...</td>\n",
       "      <td>S21</td>\n",
       "      <td>4.0</td>\n",
       "      <td>MATH</td>\n",
       "      <td>S</td>\n",
       "      <td>NaN</td>\n",
       "      <td>NaN</td>\n",
       "      <td>NaN</td>\n",
       "    </tr>\n",
       "    <tr>\n",
       "      <th>27897</th>\n",
       "      <td>11951</td>\n",
       "      <td>COM S</td>\n",
       "      <td>S</td>\n",
       "      <td>2</td>\n",
       "      <td>F</td>\n",
       "      <td>2020</td>\n",
       "      <td>U</td>\n",
       "      <td>2021</td>\n",
       "      <td>F</td>\n",
       "      <td>MATH</td>\n",
       "      <td>...</td>\n",
       "      <td>NaN</td>\n",
       "      <td>NaN</td>\n",
       "      <td>NaN</td>\n",
       "      <td>S22</td>\n",
       "      <td>3.0</td>\n",
       "      <td>COM S</td>\n",
       "      <td>S</td>\n",
       "      <td>NaN</td>\n",
       "      <td>NaN</td>\n",
       "      <td>NaN</td>\n",
       "    </tr>\n",
       "  </tbody>\n",
       "</table>\n",
       "<p>5 rows × 27 columns</p>\n",
       "</div>"
      ],
      "text/plain": [
       "       STUDENT MAJOR_CURR MAJOR_COLL  CLSFN_YR ENTRY_SEM_CD  ENTRY_CCYY LEVEL  \\\n",
       "6918      2856       GEOL          S         4            1        1991     U   \n",
       "15074     6462      MU BM          S         4            F        2017     U   \n",
       "2952      1233       PHYS          S         2            F        2022     U   \n",
       "7962      3287       MATH          S         4            F        2017     U   \n",
       "27897    11951      COM S          S         2            F        2020     U   \n",
       "\n",
       "       SEM_CCYY SEM_CD OFFER_DEPT_ABRVN  ...  DEG_DATEDB MAJOR_CURR.1  \\\n",
       "6918       2014      F             MATH  ...  12/18/1999         PHYS   \n",
       "15074      2020      F             MATH  ...    8/5/2023        MU BA   \n",
       "2952       2023      F             MATH  ...         NaN          NaN   \n",
       "7962       2020      S             MATH  ...    5/8/2021         MATH   \n",
       "27897      2021      F             MATH  ...         NaN          NaN   \n",
       "\n",
       "                                               DEG_DESCR LAST_RGST_TERM  \\\n",
       "6918   B.S.   LIBERAL ARTS AND SCIENCES              ...            F16   \n",
       "15074  B.A.   LIBERAL ARTS & SCIENCES                ...            123   \n",
       "2952                                                 NaN            S24   \n",
       "7962   B.S.   LIBERAL ARTS & SCIENCES                ...            S21   \n",
       "27897                                                NaN            S22   \n",
       "\n",
       "       CLSFN_YR.1 MAJOR_CURR.2 MAJOR_COLL.1 Workday Enrolled in Fall 2024  \\\n",
       "6918          4.0         GEOL            S                           NaN   \n",
       "15074         4.0        MU BM            S                           NaN   \n",
       "2952          3.0         PHYS            S                    98243202.0   \n",
       "7962          4.0         MATH            S                           NaN   \n",
       "27897         3.0        COM S            S                           NaN   \n",
       "\n",
       "      Workday Enrolled in Fall 2024 Class Standing  \\\n",
       "6918                                           NaN   \n",
       "15074                                          NaN   \n",
       "2952                                        Junior   \n",
       "7962                                           NaN   \n",
       "27897                                          NaN   \n",
       "\n",
       "      Workday Enrolled in Fall 2024 Primary Program of Study  \n",
       "6918                                                 NaN      \n",
       "15074                                                NaN      \n",
       "2952                                       Physics, B.S.      \n",
       "7962                                                 NaN      \n",
       "27897                                                NaN      \n",
       "\n",
       "[5 rows x 27 columns]"
      ]
     },
     "execution_count": 14,
     "metadata": {},
     "output_type": "execute_result"
    }
   ],
   "source": [
    "# Import data handling libraries\n",
    "import pandas as pd\n",
    "import numpy as np\n",
    "import sys\n",
    "from pathlib import Path\n",
    "\n",
    "# Add root directory to Python path\n",
    "root_dir = Path.cwd().parent  # Go up one level from Notebooks folder\n",
    "if str(root_dir) not in sys.path:\n",
    "    sys.path.append(str(root_dir))\n",
    "\n",
    "# Now import from Source Code directory\n",
    "sys.path.append(str(root_dir / 'Source Code'))\n",
    "from cleaner import *\n",
    "\n",
    "#read in the raw dataset\n",
    "df = pd.read_csv('../Data/Datasets/data_set_10_17.csv')\n",
    "\n",
    "df.sample(5)"
   ]
  },
  {
   "cell_type": "markdown",
   "metadata": {},
   "source": [
    "Before we start with any data cleaning, let's first get a quick look at the columns and statistics in the dataset."
   ]
  },
  {
   "cell_type": "code",
   "execution_count": null,
   "metadata": {},
   "outputs": [
    {
     "name": "stdout",
     "output_type": "stream",
     "text": [
      "Column Summary:\n",
      "Column Name               Description                                       \n",
      "---------------------------------------------------------------------------\n",
      "STUDENT                   student identifier (integer)                      \n",
      "MAJOR_CURR                major at time of taking the course                \n",
      "MAJOR_COLL                College of liberal arts for all courses           \n",
      "CLSFN_YR                  Classification of the year (Freshman, Sophomore, etc.) when course was taken\n",
      "ENTRY_SEM_CD              Semester of enrollment ('F' --> Fall, 'S' --> Spring, '1' --> Summer)\n",
      "ENTRY_CCYY                Year of enrollment                                \n",
      "LEVEL                     Irrelevant, to be dropped                         \n",
      "SEM_CCYY                  Year in which course was taken                    \n",
      "SEM_CD                    Semester in which course was taken                \n",
      "OFFER_DEPT_ABRVN          Same for all rows (Math department)               \n",
      "CRSE                      Course number (3 digit numeric string)            \n",
      "SECT                      Course section                                    \n",
      "GRADE_CATGORY             Values: 'C- OR BELOW', 'ABOVE C-', 'Satisfactory/Pass'\n",
      "CRSE_TITLE                Course title                                      \n",
      "SEM_CCYY.1                Year of graduation; NaN if the student did not graduate\n",
      "SEM_CD.1                  Semester of graduation; NaN if the student did not graduate\n",
      "DEG_CD                    Abbreviation of degree earned; NaN if the student did not graduate\n",
      "DEG_DATEDB                Date of degree; NaN if the student did not graduate\n",
      "MAJOR_CURR.1              Major at time of graduation; NaN if the student did not graduate\n",
      "DEG_DESCR                 Detailed description of the degree, including honors, minors etc.\n",
      "LAST_RGST_TERM            Last registered term                              \n",
      "CLSFN_YR.1                Classification of year when degree was received; NaN if student did not graduate\n",
      "MAJOR_CURR.2              Second major, if any                              \n",
      "MAJOR_COLL.1              College from which degree was obtained            \n",
      "Workday Enrolled in Fall 2024 Workday Enrolled in Fall 2024                     \n",
      "Workday Enrolled in Fall 2024 Class Standing Workday Enrolled in Fall 2024 Class Standing      \n",
      "Workday Enrolled in Fall 2024 Primary Program of Study Workday Enrolled in Fall 2024 Primary Program of Study\n",
      "\n",
      "Rows: 30394\n",
      "Students: 13065\n",
      "Grads: 7622\n",
      "Grad rate: 58.34\n"
     ]
    }
   ],
   "source": [
    "print_column_summary(df)\n",
    "gradestats(df)"
   ]
  },
  {
   "cell_type": "markdown",
   "metadata": {},
   "source": [
    "Each student comes with a unique integer identifier. The rows correspond to each course taken by the student. In the final dataset, we will have only one row per student, and the columns will correspond to courses. So, we begin our cleaning with:\n",
    "\n",
    "1. Drop unnecessary columns at the outset."
   ]
  },
  {
   "cell_type": "code",
   "execution_count": null,
   "metadata": {},
   "outputs": [
    {
     "data": {
      "text/plain": [
       "Index(['STUDENT', 'ENTRY_CCYY', 'ENTRY_SEM_CD', 'SEM_CCYY', 'SEM_CD',\n",
       "       'SEM_CCYY.1', 'SEM_CD.1', 'DEG_CD', 'GRADE_CATGORY', 'CRSE',\n",
       "       'CRSE_TITLE'],\n",
       "      dtype='object')"
      ]
     },
     "execution_count": 3,
     "metadata": {},
     "output_type": "execute_result"
    }
   ],
   "source": [
    "df = drop_initial_cols(df)\n",
    "df.columns"
   ]
  },
  {
   "cell_type": "markdown",
   "metadata": {},
   "source": [
    "2. Next, we format the date/semester columns for entry, course, and graduation. We will combine each pair into a single unique identifier (float), named `ENT_SEM`, `CRSE_SEM`, and `GRAD_SEM`.\n",
    "    - For enrollment, we encode Spring, Summer and Fall as $0.0$, $0.4$, and $0.6$, respectively.   \n",
    "    - For course and graduation, we encode Spring, Summer and Fall as $0.4$, $0.6$, and $1.0$, respectively.\n",
    "    - The new columns are computed by the formula (year mod 2000) + (sem value)\n",
    "    - Thus, if a student enrolled in Fall 2012, and took a particular course in Spring 2014, then `ENT_SEM`$ = 12.6$ and `CRSE_SEM`$ = 14.4$. \n",
    "    - Similarly, if they graduated in Spring 2016, then `GRAD_SEM`$ = 16.4$."
   ]
  },
  {
   "cell_type": "code",
   "execution_count": null,
   "metadata": {},
   "outputs": [
    {
     "data": {
      "text/html": [
       "<div>\n",
       "<style scoped>\n",
       "    .dataframe tbody tr th:only-of-type {\n",
       "        vertical-align: middle;\n",
       "    }\n",
       "\n",
       "    .dataframe tbody tr th {\n",
       "        vertical-align: top;\n",
       "    }\n",
       "\n",
       "    .dataframe thead th {\n",
       "        text-align: right;\n",
       "    }\n",
       "</style>\n",
       "<table border=\"1\" class=\"dataframe\">\n",
       "  <thead>\n",
       "    <tr style=\"text-align: right;\">\n",
       "      <th></th>\n",
       "      <th>ENT_SEM</th>\n",
       "      <th>CRSE_SEM</th>\n",
       "      <th>GRAD_SEM</th>\n",
       "    </tr>\n",
       "  </thead>\n",
       "  <tbody>\n",
       "    <tr>\n",
       "      <th>10678</th>\n",
       "      <td>17.6</td>\n",
       "      <td>18.4</td>\n",
       "      <td>22.4</td>\n",
       "    </tr>\n",
       "    <tr>\n",
       "      <th>8041</th>\n",
       "      <td>12.0</td>\n",
       "      <td>16.0</td>\n",
       "      <td>16.4</td>\n",
       "    </tr>\n",
       "    <tr>\n",
       "      <th>3800</th>\n",
       "      <td>22.6</td>\n",
       "      <td>23.0</td>\n",
       "      <td>NaN</td>\n",
       "    </tr>\n",
       "    <tr>\n",
       "      <th>21920</th>\n",
       "      <td>11.6</td>\n",
       "      <td>15.0</td>\n",
       "      <td>17.4</td>\n",
       "    </tr>\n",
       "    <tr>\n",
       "      <th>1965</th>\n",
       "      <td>22.6</td>\n",
       "      <td>23.0</td>\n",
       "      <td>NaN</td>\n",
       "    </tr>\n",
       "  </tbody>\n",
       "</table>\n",
       "</div>"
      ],
      "text/plain": [
       "       ENT_SEM  CRSE_SEM  GRAD_SEM\n",
       "10678     17.6      18.4      22.4\n",
       "8041      12.0      16.0      16.4\n",
       "3800      22.6      23.0       NaN\n",
       "21920     11.6      15.0      17.4\n",
       "1965      22.6      23.0       NaN"
      ]
     },
     "execution_count": 4,
     "metadata": {},
     "output_type": "execute_result"
    }
   ],
   "source": [
    "df = format_dates(df)\n",
    "df[['ENT_SEM','CRSE_SEM','GRAD_SEM']].sample(5)"
   ]
  },
  {
   "cell_type": "markdown",
   "metadata": {},
   "source": [
    "3. Next, we drop students who enrolled before 2008 (because data is shaky), and also those who enrolled in Spring 2021 or later (since we cannot yet determine if these student will have graduated in 4 years or not)."
   ]
  },
  {
   "cell_type": "code",
   "execution_count": null,
   "metadata": {},
   "outputs": [
    {
     "name": "stdout",
     "output_type": "stream",
     "text": [
      "After removing students who entered before 2008:\n",
      "Rows: 30219\n",
      "Students: 13013\n",
      "Grads: 7578\n",
      "Grad rate: 58.23\n",
      "\n",
      "After dropping students who enrolled in Spring 2021 or later:\n",
      "Rows: 24855\n",
      "Students: 10012\n",
      "Grads: 7385\n",
      "Grad rate: 73.76\n"
     ]
    }
   ],
   "source": [
    "df = remove_by_ENT_SEM(df)"
   ]
  },
  {
   "cell_type": "markdown",
   "metadata": {},
   "source": [
    "4. Next, we drop all students who received a graduate degree. (Note, we completely drop the student even though they may have also received a bachelors degree. This is because it is not clear whether a particular course was taken towards the bachelors degree or graduate degree)."
   ]
  },
  {
   "cell_type": "code",
   "execution_count": null,
   "metadata": {},
   "outputs": [
    {
     "name": "stdout",
     "output_type": "stream",
     "text": [
      "After dropping students who took classes towards a graduate degree\n",
      "Rows: 22362\n",
      "Students: 9689\n",
      "Grads: 7062\n",
      "Grad rate: 72.89\n"
     ]
    }
   ],
   "source": [
    "df = remove_graduate_degrees(df)"
   ]
  },
  {
   "cell_type": "markdown",
   "metadata": {},
   "source": [
    "5. Next, we drop all rows corresponding to courses taken after graduation. \n",
    "    \n",
    "    We also re-format `CRSE_SEM` and `GRAD_SEM` to contain the timestamp relative to `ENT_SEM`, and we multiply by $2.5$ so that fall and spring count as 1 semester and Summer counts as half a semester (so a full year counts as $2.5$ semesters). \n",
    "    \n",
    "    Our final target variable will be $1$ if the student \"graduates in 4 years\"-- for us, this means `GRAD_SEM` is at most $9.5$, which is the typical case when a student enrolls in Fall and graduates in Spring 4 years later.\n",
    "    \n",
    "    Accordingly, we won't consider courses taken after $9.5$ years, so we drop all rows where `CRSE_SEM` is greater than $9.5$."
   ]
  },
  {
   "cell_type": "code",
   "execution_count": null,
   "metadata": {},
   "outputs": [
    {
     "name": "stdout",
     "output_type": "stream",
     "text": [
      "After dropping courses taken after 9.5 semesters:\n",
      "Rows: 21068\n",
      "Students: 9401\n",
      "Grads: 6821\n",
      "Grad rate: 72.56\n",
      "\n",
      "After removing courses taken after graduation:\n",
      "Rows: 21059\n",
      "Students: 9398\n",
      "Grads: 6818\n",
      "Grad rate: 72.55\n"
     ]
    }
   ],
   "source": [
    "df = remove_by_CRSE_SEM(df)"
   ]
  },
  {
   "cell_type": "markdown",
   "metadata": {},
   "source": [
    "6. We remove any duplicate rows at this point. (These exist because some of the original rows were repeated for each degree earned by the student.)"
   ]
  },
  {
   "cell_type": "code",
   "execution_count": null,
   "metadata": {},
   "outputs": [
    {
     "name": "stdout",
     "output_type": "stream",
     "text": [
      "Number of duplicate rows: 1184\n",
      "After dropping duplicates:\n",
      "Rows: 19875\n",
      "Students: 9398\n",
      "Grads: 6818\n",
      "Grad rate: 72.55\n"
     ]
    }
   ],
   "source": [
    "df = remove_duplicates(df)"
   ]
  },
  {
   "cell_type": "markdown",
   "metadata": {},
   "source": [
    "7. Next, we format the course numbers and titles, combine together similar courses, and drop courses that are no longer offered, or which have an overall low enrollment (<50)."
   ]
  },
  {
   "cell_type": "code",
   "execution_count": null,
   "metadata": {},
   "outputs": [
    {
     "name": "stdout",
     "output_type": "stream",
     "text": [
      "After formatting courses and titles, and removing courses with low enrollment:\n",
      "Rows: 18802\n",
      "Students: 9181\n",
      "Grads: 6647\n",
      "Grad rate: 72.4\n"
     ]
    }
   ],
   "source": [
    "df = format_and_drop_CRSE(df)"
   ]
  },
  {
   "cell_type": "markdown",
   "metadata": {},
   "source": [
    "Before continuing with the cleaning, let's pause to make a csv with the remaining courses and their enrollment counts. We will store the courses in a list for the next step of cleaning."
   ]
  },
  {
   "cell_type": "code",
   "execution_count": null,
   "metadata": {},
   "outputs": [
    {
     "name": "stdout",
     "output_type": "stream",
     "text": [
      "Left with 28 courses: ['165', '166', '265', '143', '140', '104', '150', '207', '201', '317', '267', '105', '301', '266', '414', '160', '101', '25', '492', '341', '385', '435', '397', '436', '495', '314', '500', '304']\n"
     ]
    }
   ],
   "source": [
    "df, courses = make_crse_counts_csv(df)"
   ]
  },
  {
   "cell_type": "markdown",
   "metadata": {},
   "source": [
    "8. Next, we format the `GRADE_CATGORY` column, using the value $1$ for 'ABOVE C-' and 'Satisfactory/Pass', and $-1$ for 'C- OR BELOW'.\n",
    "\n",
    "    Then, for each `x` in `courses` (list of all `CRSE` values appearing), we create a column which contains the grade ($\\pm 1$) times the course semester (a float between $0.4$ and $3.8$). Thus, the values in `df[x]` will range from $-3.8$ to $3.8$."
   ]
  },
  {
   "cell_type": "code",
   "execution_count": null,
   "metadata": {},
   "outputs": [],
   "source": [
    "df = make_CRSE_columns(df,courses)"
   ]
  },
  {
   "cell_type": "markdown",
   "metadata": {},
   "source": [
    "9. Finally, we remove the unnecessary columns and aggregate the dataset by student, taking the value in each column that is largest in absolute value (that is, we keep only the data of the last time a particular course was taken by a student). Finally, we add a column `Y` which equals 1 if `GRAD_SEM` is at most $3.8$, and $0$ otherwise. "
   ]
  },
  {
   "cell_type": "code",
   "execution_count": null,
   "metadata": {},
   "outputs": [
    {
     "name": "stdout",
     "output_type": "stream",
     "text": [
      "After aggregating the dataset by student and adding the target variable:\n",
      "Rows: 9181\n",
      "Students 9181\n",
      "Grads: 4496\n",
      "Grad rate: 48.97\n"
     ]
    }
   ],
   "source": [
    "final_cols = ['STUDENT','ENT_SEM','GRAD_SEM'] + courses\n",
    "df = agg_and_add_Y(df,final_cols)"
   ]
  },
  {
   "cell_type": "markdown",
   "metadata": {},
   "source": [
    "10. We're done! So we now save to csv."
   ]
  },
  {
   "cell_type": "code",
   "execution_count": 13,
   "metadata": {},
   "outputs": [],
   "source": [
    "#save the final dataset\n",
    "df.to_csv('../Data/Datasets/dataset_cleaned.csv', index=False)"
   ]
  },
  {
   "cell_type": "markdown",
   "metadata": {},
   "source": [
    "At this point, the cleaning and pre-processing is done. We conclude this notebook by making dictionaries of the math major courses and general math courses."
   ]
  },
  {
   "cell_type": "code",
   "execution_count": 14,
   "metadata": {},
   "outputs": [],
   "source": [
    "crse_dict = \\\n",
    "{'165': 'CALCULUS I',\n",
    " '166': 'CALCULUS II',\n",
    " '265': 'CALCULUS III',\n",
    " '143': 'PREP FOR CALCULUS',\n",
    " '140': 'COLLEGE ALGEBRA',\n",
    " '104': 'INTRO TO PROBABILTY',\n",
    " '150': 'DISC MATH BUS&SOC S',\n",
    " '207': 'MATRCES&LINEAR ALGB',\n",
    " '201': 'INTRO TO PROOFS',\n",
    " '317': 'THRY LINEAR ALGEBRA',\n",
    " '267': 'DIFF EQ & TRANSFMS',\n",
    " '105': 'INTRO TO MATH IDEAS',\n",
    " '301': 'ABSTRACT ALGEBRA I',\n",
    " '266': 'ELEM DIFF EQUATNS',\n",
    " '414': 'ANALYSIS I',\n",
    " '160': 'SURVEY OF CALCULUS',\n",
    " '101': 'ORIENTATION IN MATH',\n",
    " '25': 'HIGH SCHOOL ALGEBRA',\n",
    " '492': 'UNDERGRAD SEMINAR',\n",
    " '341': 'INTR THY PROBAB&S I',\n",
    " '385': 'INTR PART DIFF EQUA',\n",
    " '435': 'GEOMETRY I',\n",
    " '397': 'TEACH SEC SCHL MATH',\n",
    " '436': 'GEOMETRY II',\n",
    " '495': 'INDEPENDENT STUDY',\n",
    " '314': 'GRAPH THEORY',\n",
    " '500': 'GRADUATE MATH',\n",
    " '304': 'COMBINATORICS'}\n",
    "\n",
    "gen_dict = \\\n",
    "{'165': 'CALCULUS I',\n",
    " '166': 'CALCULUS II',\n",
    " '265': 'CALCULUS III',\n",
    " '143': 'PREP FOR CALCULUS',\n",
    " '140': 'COLLEGE ALGEBRA',\n",
    " '104': 'INTRO TO PROBABILTY',\n",
    " '150': 'DISC MATH BUS&SOC S',\n",
    " '207': 'MATRCES&LINEAR ALGB',\n",
    " '267': 'DIFF EQ & TRANSFMS',\n",
    " '105': 'INTRO TO MATH IDEAS',\n",
    " '160': 'SURVEY OF CALCULUS',\n",
    " '25': 'HIGH SCHOOL ALGEBRA'}\n",
    "\n",
    "math_dict = \\\n",
    "{'201': 'INTRO TO PROOFS',\n",
    " '317': 'THRY LINEAR ALGEBRA',\n",
    " '301': 'ABSTRACT ALGEBRA I',\n",
    " '266': 'ELEM DIFF EQUATNS',\n",
    " '414': 'ANALYSIS I',\n",
    " '101': 'ORIENTATION IN MATH',\n",
    " '492': 'UNDERGRAD SEMINAR',\n",
    " '341': 'INTR THY PROBAB&S I',\n",
    " '385': 'INTR PART DIFF EQUA',\n",
    " '435': 'GEOMETRY I',\n",
    " '397': 'TEACH SEC SCHL MATH',\n",
    " '436': 'GEOMETRY II',\n",
    " '495': 'INDEPENDENT STUDY',\n",
    " '314': 'GRAPH THEORY',\n",
    " '500': 'GRADUATE MATH',\n",
    " '304': 'COMBINATORICS'}\n",
    "\n",
    "#save the dictionaries\n",
    "import json\n",
    "with open('../Data/Dictionaries/crse_dict.json', 'w') as fp:\n",
    "    json.dump(crse_dict, fp)\n",
    "with open('../Data/Dictionaries/gen_dict.json', 'w') as fp:\n",
    "    json.dump(gen_dict, fp)\n",
    "with open('../Data/Dictionaries/math_dict.json', 'w') as fp:\n",
    "    json.dump(math_dict, fp)"
   ]
  }
 ],
 "metadata": {
  "kernelspec": {
   "display_name": "erdos_fall_2024",
   "language": "python",
   "name": "python3"
  },
  "language_info": {
   "codemirror_mode": {
    "name": "ipython",
    "version": 3
   },
   "file_extension": ".py",
   "mimetype": "text/x-python",
   "name": "python",
   "nbconvert_exporter": "python",
   "pygments_lexer": "ipython3",
   "version": "3.12.5"
  }
 },
 "nbformat": 4,
 "nbformat_minor": 2
}
