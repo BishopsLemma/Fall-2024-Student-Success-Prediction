{
 "cells": [
  {
   "cell_type": "code",
   "execution_count": 1,
   "id": "023f255e-aba4-4b66-a0c1-d09e5634da34",
   "metadata": {},
   "outputs": [],
   "source": [
    "# Import the usual\n",
    "import pandas as pd\n",
    "import numpy as np"
   ]
  },
  {
   "cell_type": "code",
   "execution_count": 2,
   "id": "07207b24-0773-4a12-8af4-842082c1f2f1",
   "metadata": {},
   "outputs": [],
   "source": [
    "# Read in the latest raw dataset\n",
    "df = pd.read_csv('data_set_11_17.csv')"
   ]
  },
  {
   "cell_type": "code",
   "execution_count": 3,
   "id": "7bb8b969-77d6-4ffb-850c-b730b2bf7579",
   "metadata": {},
   "outputs": [],
   "source": [
    "# Get list of columns\n",
    "# df.columns.tolist()"
   ]
  },
  {
   "cell_type": "code",
   "execution_count": 4,
   "id": "319cc803-5d29-47bd-9b73-70b7a4854873",
   "metadata": {},
   "outputs": [],
   "source": [
    "# Remove unneeded columns\n",
    "column_remove =['MAJOR_COLL', 'CLSFN_YR', 'LEVEL', 'OFFER_DEPT_ABRVN', 'SECT', 'CRSE_TITLE', 'DEG_DATEDB', 'DEG_DESCR', \n",
    "                'LAST_RGST_TERM','CLSFN_YR.1', 'MAJOR_COLL.1', 'Workday Enrolled in Fall 2024', \n",
    "                'Workday Enrolled in Fall 2024 Class Standing', 'Workday Enrolled in Fall 2024 Primary Program of Study']\n",
    "for x in column_remove:\n",
    "    df = df.drop(x,axis=1)"
   ]
  },
  {
   "cell_type": "code",
   "execution_count": 5,
   "id": "719246ef-1675-47ec-85e8-94bbb01b2636",
   "metadata": {},
   "outputs": [],
   "source": [
    "# Recode semesters as follows: Spring = 0, Summer = 0.5, Fall = 0.5\n",
    "sem_list = ['ENTRY_SEM_CD', 'SEM_CD', 'SEM_CD.1']\n",
    "sem_recode = {'S': 0, '1': 0.5, 'F': 0.5}\n",
    "for x in sem_list:\n",
    "    df[x] = df[x].map(pd.Series(sem_recode))"
   ]
  },
  {
   "cell_type": "code",
   "execution_count": 6,
   "id": "4f53537b-92f2-4f13-a25a-c85084419196",
   "metadata": {},
   "outputs": [],
   "source": [
    "# Create new columns to assign unique numbers to entry term, term course was taken, and graduation term (if applicable)\n",
    "# Number will be XX.Y where XX is the last two digits of the year and Y is the semester\n",
    "df['ENT_SEM'] = (df['ENTRY_CCYY'] % 1000) + df['ENTRY_SEM_CD']\n",
    "df['CRSE_SEM'] = (df['SEM_CCYY'] % 1000) + df['SEM_CD']\n",
    "df['GRAD_SEM'] = (df['SEM_CCYY.1'] % 1000) + df['SEM_CD.1']"
   ]
  },
  {
   "cell_type": "code",
   "execution_count": 7,
   "id": "276c6d19-b36f-4f48-a4d6-f03b5adaf57a",
   "metadata": {},
   "outputs": [],
   "source": [
    "# Remove the year and semester columns after recoding\n",
    "year_sem_remove = ['ENTRY_CCYY','ENTRY_SEM_CD','SEM_CCYY','SEM_CD','SEM_CCYY.1','SEM_CD.1']\n",
    "for x in year_sem_remove:\n",
    "    df = df.drop(x,axis=1)"
   ]
  },
  {
   "cell_type": "code",
   "execution_count": 8,
   "id": "d24785e0-9813-4d59-9f87-8a7f46829a68",
   "metadata": {},
   "outputs": [],
   "source": [
    "# Get list of grade types\n",
    "# df['GRADE_CATGORY'].unique()"
   ]
  },
  {
   "cell_type": "code",
   "execution_count": 9,
   "id": "7c98f0f0-83f4-4273-b9d0-77f41f8077b3",
   "metadata": {},
   "outputs": [],
   "source": [
    "# Recode grades as follows: C- or below = -1, Above C- and Satisfactory/Pass = 1\n",
    "grade_recode = {'C- OR BELOW':-1,'ABOVE C-':1,'Satisfactory/Pass':1}\n",
    "df['GRADE_CATGORY'] = df['GRADE_CATGORY'].map(pd.Series(grade_recode))"
   ]
  },
  {
   "cell_type": "code",
   "execution_count": 10,
   "id": "d0ece2b2-c17e-4bb7-bc89-141e4a829087",
   "metadata": {},
   "outputs": [],
   "source": [
    "# Get list of degrees\n",
    "#df['DEG_CD'].unique()"
   ]
  },
  {
   "cell_type": "code",
   "execution_count": 11,
   "id": "a4b6225a-fce7-4ae0-a444-b13eaeeda0e1",
   "metadata": {},
   "outputs": [
    {
     "name": "stdout",
     "output_type": "stream",
     "text": [
      "13065\n"
     ]
    }
   ],
   "source": [
    "# Get the initial number of students\n",
    "print(df[\"STUDENT\"].nunique())"
   ]
  },
  {
   "cell_type": "code",
   "execution_count": 12,
   "id": "433f82d1-618b-4fd6-8a96-8e5b84fef8c9",
   "metadata": {},
   "outputs": [],
   "source": [
    "# Remove any graduate degress\n",
    "degree_remove = ['MS', 'MED', 'MAT', 'MEN', 'MFN', 'MBS', 'PHD', 'MFS', 'MHC', 'MAA', 'MBA', 'MFA', 'MA', 'MTR', 'MHO', 'DVM', 'MCP','MRE']\n",
    "for x in degree_remove:\n",
    "    df = df.drop(df[df['DEG_CD'] == x].index)"
   ]
  },
  {
   "cell_type": "code",
   "execution_count": 13,
   "id": "e065ed81-308c-44f9-b995-d98f7a73fdd9",
   "metadata": {},
   "outputs": [
    {
     "name": "stdout",
     "output_type": "stream",
     "text": [
      "13052\n"
     ]
    }
   ],
   "source": [
    "# Number of students check\n",
    "print(df[\"STUDENT\"].nunique())"
   ]
  },
  {
   "cell_type": "code",
   "execution_count": 14,
   "id": "5c6844af-e4fb-4f10-9a7d-3d37385821ce",
   "metadata": {},
   "outputs": [],
   "source": [
    "# Remove the degree column as we no longer need it\n",
    "df = df.drop('DEG_CD',axis=1)"
   ]
  },
  {
   "cell_type": "code",
   "execution_count": 15,
   "id": "d71e2b27-3a60-45f0-b446-64d48e8f60e5",
   "metadata": {},
   "outputs": [],
   "source": [
    "# Remove students that enrolled before Summer 2010\n",
    "df = df[ df['ENT_SEM'] >= 10.5] "
   ]
  },
  {
   "cell_type": "code",
   "execution_count": 16,
   "id": "49477b24-4a8a-4cb9-8e70-767029c04237",
   "metadata": {},
   "outputs": [
    {
     "name": "stdout",
     "output_type": "stream",
     "text": [
      "12973\n"
     ]
    }
   ],
   "source": [
    "# Number of students check\n",
    "print(df[\"STUDENT\"].nunique())"
   ]
  },
  {
   "cell_type": "code",
   "execution_count": 17,
   "id": "a48e9295-e274-40d5-91bb-19fced9b632c",
   "metadata": {},
   "outputs": [],
   "source": [
    "# Remove students that enrolled after Fall 2020\n",
    "df = df[ (df['ENT_SEM'] < 21)] "
   ]
  },
  {
   "cell_type": "code",
   "execution_count": 18,
   "id": "0ec2a3cd-b7e2-416a-adc9-c27bb10e195c",
   "metadata": {},
   "outputs": [
    {
     "name": "stdout",
     "output_type": "stream",
     "text": [
      "9958\n"
     ]
    }
   ],
   "source": [
    "# Number of students check\n",
    "print(df[\"STUDENT\"].nunique())"
   ]
  },
  {
   "cell_type": "code",
   "execution_count": 19,
   "id": "e6bc3df7-1030-4057-996b-b80439f929fb",
   "metadata": {},
   "outputs": [],
   "source": [
    "# Remove students that graduated before 2014\n",
    "df = df[(df['GRAD_SEM'] >= 14) | (df['GRAD_SEM'].isnull())]"
   ]
  },
  {
   "cell_type": "code",
   "execution_count": 20,
   "id": "0442512e-cc3e-4c65-a09b-765c0d783be6",
   "metadata": {},
   "outputs": [
    {
     "name": "stdout",
     "output_type": "stream",
     "text": [
      "9955\n"
     ]
    }
   ],
   "source": [
    "# Number of students check\n",
    "print(df[\"STUDENT\"].nunique())"
   ]
  },
  {
   "cell_type": "code",
   "execution_count": 21,
   "id": "c00ed75b-1fd0-4b5d-a077-838712e56d06",
   "metadata": {},
   "outputs": [],
   "source": [
    "# Remove courses taken after graduating\n",
    "df = df[  ( df['CRSE_SEM'] <= df['GRAD_SEM']  ) |  (df['GRAD_SEM'].isnull())  ] "
   ]
  },
  {
   "cell_type": "code",
   "execution_count": 22,
   "id": "80214d5d-cced-4b9f-9ca2-6379e20a30db",
   "metadata": {},
   "outputs": [
    {
     "name": "stdout",
     "output_type": "stream",
     "text": [
      "9936\n",
      "23346\n"
     ]
    }
   ],
   "source": [
    "# Number of students/rows check\n",
    "print(df[\"STUDENT\"].nunique())\n",
    "print(len(df))"
   ]
  },
  {
   "cell_type": "code",
   "execution_count": 23,
   "id": "f992b91a-3b86-4862-b06e-39591e281d68",
   "metadata": {},
   "outputs": [],
   "source": [
    "# Sanity check - make sure courses are taken after enrollment and enrollment occurs before graduation\n",
    "df = df[  ( df['ENT_SEM'] <= df['CRSE_SEM']  )  & (  (df['ENT_SEM'] <= df['GRAD_SEM']) |   (df['GRAD_SEM'].isnull())   )  ]"
   ]
  },
  {
   "cell_type": "code",
   "execution_count": 24,
   "id": "f0537bc1-8bd0-4c57-99f2-4bfcad42b8b2",
   "metadata": {},
   "outputs": [
    {
     "name": "stdout",
     "output_type": "stream",
     "text": [
      "9936\n",
      "23346\n"
     ]
    }
   ],
   "source": [
    "# Number of students/rows check - nothing should change\n",
    "print(df[\"STUDENT\"].nunique())\n",
    "print(len(df))"
   ]
  },
  {
   "cell_type": "code",
   "execution_count": 25,
   "id": "373afc96-a753-4167-92c0-20fdca750485",
   "metadata": {},
   "outputs": [],
   "source": [
    "# Next we want to remove courses taken above the ``at most 8 full semesters attended'' window \n",
    "# and students that graduated below the ``at least 4 full semesters attended'' window\n",
    "# First we update 'CRSE_SEM' and 'GRAD_SEM' to be relative to 'ENT_SEM'\n",
    "\n",
    "df['CRSE_SEM'] = 2*(  df['CRSE_SEM'] - df['ENT_SEM'] ) + 1\n",
    "df['GRAD_SEM'] = 2*(df['GRAD_SEM'] - df['ENT_SEM']) + 1\n",
    "\n",
    "# Remove courses taken after 8 full semesters attended\n",
    "df = df[ df['CRSE_SEM'] < 9  ]\n",
    "\n",
    "# Remove students that graduate before 4 full semestesr attended\n",
    "df = df [ (df['GRAD_SEM'] >= 4) | (df['GRAD_SEM'].isnull()) ]"
   ]
  },
  {
   "cell_type": "code",
   "execution_count": 26,
   "id": "7674bd93-3f8c-42df-be9e-8da969cc354e",
   "metadata": {},
   "outputs": [
    {
     "name": "stdout",
     "output_type": "stream",
     "text": [
      "9697\n",
      "22291\n"
     ]
    }
   ],
   "source": [
    "# Number of students/rows check\n",
    "print(df[\"STUDENT\"].nunique())\n",
    "print(len(df))"
   ]
  },
  {
   "cell_type": "code",
   "execution_count": 27,
   "id": "8c19211b-4c42-4c55-a888-153987ca0750",
   "metadata": {},
   "outputs": [],
   "source": [
    "# Remove the ENT_SEM column as it is no longer needed\n",
    "df.drop('ENT_SEM',axis=1,inplace=True)"
   ]
  },
  {
   "cell_type": "code",
   "execution_count": 28,
   "id": "4fa0f046-3f1d-46fb-af4b-2078c755967d",
   "metadata": {},
   "outputs": [],
   "source": [
    "# Next goal is to remove the repeated information due to students with multiple degrees\n",
    "# First, create a column that indicates the students with multiple degrees\n",
    "df['NUM_DEG'] = df.groupby('STUDENT')['MAJOR_CURR.1'].transform('nunique')\n",
    "\n",
    "# Second, we flag those students where MAJOR_CURR.2 matches some entry in MAJOR_CURR.1\n",
    "df['DEG_FLAG'] = df.groupby('STUDENT',group_keys=False).apply(lambda x: x['MAJOR_CURR.2'].isin(x['MAJOR_CURR.1']),include_groups=False)\n",
    "\n",
    "# Next, we will create a column that either lists the `first' major of the student\n",
    "# or has a 0 if the student has multiple degrees and the row is information regarding a second/third/etc.\n",
    "\n",
    "def major_detect(row):\n",
    "    if (row['NUM_DEG'] == 0):\n",
    "        val = row['MAJOR_CURR.2']\n",
    "    elif (row['NUM_DEG'] == 1):\n",
    "        val = row['MAJOR_CURR.1']\n",
    "    elif (row['MAJOR_CURR.2'] == row['MAJOR_CURR.1']):\n",
    "        val = row['MAJOR_CURR.1']\n",
    "    elif (row['DEG_FLAG'] == False)  & (row['MAJOR_CURR'] == row['MAJOR_CURR.1']):\n",
    "        val = row['MAJOR_CURR.1']\n",
    "    else:\n",
    "        val = 0\n",
    "    return val\n",
    "\n",
    "df['MAJOR'] = df.apply(major_detect,axis=1)\n",
    "\n",
    "# Those with a 0 in 'MAJOR' are safe for removal\n",
    "df = df.drop(df[df['MAJOR'] == 0].index)"
   ]
  },
  {
   "cell_type": "code",
   "execution_count": 29,
   "id": "0cc01923-9d6e-42c8-a788-d5904a67db3a",
   "metadata": {},
   "outputs": [
    {
     "name": "stdout",
     "output_type": "stream",
     "text": [
      "9697\n",
      "20997\n"
     ]
    }
   ],
   "source": [
    "# Number of students/rows check - note number of students should not have changed\n",
    "print(df[\"STUDENT\"].nunique())\n",
    "print(len(df))"
   ]
  },
  {
   "cell_type": "code",
   "execution_count": 30,
   "id": "f307d4df-61ed-4efa-a56a-5f0d935f2e43",
   "metadata": {},
   "outputs": [],
   "source": [
    "# Remove the columns MAJOR_CURR, MAJOR_CURR.1, MAJOR_CURR.2, NUM_DEG, and DEG_FLAG as they are no longer needed\n",
    "deg_info_remove = ['MAJOR_CURR','MAJOR_CURR.1','MAJOR_CURR.2','NUM_DEG','DEG_FLAG']\n",
    "for x in deg_info_remove:\n",
    "    df = df.drop(x,axis=1)"
   ]
  },
  {
   "cell_type": "code",
   "execution_count": 31,
   "id": "60b4b6cd-7236-444d-b92c-a93fd4f0e81f",
   "metadata": {},
   "outputs": [],
   "source": [
    "# Get list of courses\n",
    "# crse_list = df['CRSE'].unique()\n",
    "# np.sort(crse_list)"
   ]
  },
  {
   "cell_type": "code",
   "execution_count": 32,
   "id": "bc3bb2b3-03c5-4c59-b03d-8b40a713a8b7",
   "metadata": {},
   "outputs": [],
   "source": [
    "# Remove courses that are not in the current catalog, have variable content, are not `content courses',\n",
    "# are not math department courses, are supplemental courses, and are graduate courses.\n",
    "course_remove = ['25', '30', \n",
    "                 '101', '106', '106X', '139X', '181', '182', '195', '196', \n",
    "                 '202', '202X', '241X', '268', '290', '297', \n",
    "                 '331', '341', '342', '392X', '397', '398', \n",
    "                 '408X', '421', '439', '474', '474X', '490', '490H', '491', '492', '495', '495X', '497', \n",
    "                 '501', '502', '503X', '504', '505', '506X', '507', '510', '511', '515',  '516', '518X', \n",
    "                 '519', '520', '525', '533', '535', '545', '554', '561', '562', '565', '566', '567', '581', \n",
    "                 '601', '603X', '605', '608', '610', '617', '618', '619X', '624', '631', '633', '642', '656', '666']\n",
    "for x in course_remove:\n",
    "    df = df.drop(df[df['CRSE'] == x].index)"
   ]
  },
  {
   "cell_type": "code",
   "execution_count": 33,
   "id": "42eff465-1144-4034-834d-5c24e9cb6c9d",
   "metadata": {},
   "outputs": [
    {
     "name": "stdout",
     "output_type": "stream",
     "text": [
      "9357\n",
      "18878\n"
     ]
    }
   ],
   "source": [
    "# Number of students/rows check\n",
    "print(df[\"STUDENT\"].nunique())\n",
    "print(len(df))"
   ]
  },
  {
   "cell_type": "code",
   "execution_count": 34,
   "id": "46744d4c-9f9d-479e-842f-cf2d959e5e7c",
   "metadata": {},
   "outputs": [],
   "source": [
    "# Remove X (experimental) and H (honors section)\n",
    "df['CRSE'] = df['CRSE'].str.replace('X', '')\n",
    "df['CRSE'] = df['CRSE'].str.replace('H', '')"
   ]
  },
  {
   "cell_type": "code",
   "execution_count": 35,
   "id": "1000daf9-e590-4fba-b541-956632d98fb0",
   "metadata": {},
   "outputs": [],
   "source": [
    "# Relabel 403 as 302 (abstract algebra 2) and 142 as 145 (trigonmetry)\n",
    "df['CRSE'] = df['CRSE'].replace('403', '302')\n",
    "df['CRSE'] = df['CRSE'].replace('142', '145')"
   ]
  },
  {
   "cell_type": "code",
   "execution_count": 36,
   "id": "862d3e15-0b9d-4bf7-ba5a-1c1480eb136e",
   "metadata": {},
   "outputs": [],
   "source": [
    "# Next we will elimate repeated attempts and keep the most recent (successful) attempt\n",
    "# First we update 'GRADE_CATGORY' to be 'GRADE_CATGORY'*'CRSE_SEM' so it ranges from -8 to 8\n",
    "df['GRADE_CATGORY'] = df['GRADE_CATGORY'] * df['CRSE_SEM']\n",
    "\n",
    "# Second we rank grades from 1-16, where 1-8 corresponds to -1 to -8 and 9-16 corresponds to 1 to 8\n",
    "df['GRADE_RANK'] = np.where( df['GRADE_CATGORY'] < 0, abs(df['GRADE_CATGORY']), df['GRADE_CATGORY'] + 8  )\n",
    "\n",
    "# Third, we detect if there are any repeated attempts at a course and rank them\n",
    "df['CRSE_RANK'] = df.groupby(['STUDENT','CRSE'])['GRADE_RANK'].rank(method='first',ascending=False)\n",
    "\n",
    "# # Those with a value > 1 in 'CRSE_RANK' are safe for removal\n",
    "df = df.drop(df[df['CRSE_RANK'] > 1].index)"
   ]
  },
  {
   "cell_type": "code",
   "execution_count": 37,
   "id": "2e153197-6948-4c5b-955c-45d673d57f0c",
   "metadata": {},
   "outputs": [
    {
     "name": "stdout",
     "output_type": "stream",
     "text": [
      "9357\n",
      "18261\n"
     ]
    }
   ],
   "source": [
    "# Number of students/rows check - number of students should not have changed\n",
    "print(df[\"STUDENT\"].nunique())\n",
    "print(len(df))"
   ]
  },
  {
   "cell_type": "code",
   "execution_count": 38,
   "id": "73076e6e-1051-4b8f-b93b-5711b3327b0b",
   "metadata": {},
   "outputs": [
    {
     "data": {
      "text/plain": [
       "np.int64(0)"
      ]
     },
     "execution_count": 38,
     "metadata": {},
     "output_type": "execute_result"
    }
   ],
   "source": [
    "# Check that there are no more duplicated rows\n",
    "dup_check = df[['STUDENT','CRSE']]\n",
    "dup_check.duplicated().sum()"
   ]
  },
  {
   "cell_type": "code",
   "execution_count": 39,
   "id": "721a4b11-f337-4923-b8ed-c703e6e26e49",
   "metadata": {},
   "outputs": [],
   "source": [
    "# Remove the CRSE_SEM, GRADE_RANK, CRSE_RANK columns as they are no longer needed\n",
    "rank_remove = ['CRSE_SEM','GRADE_RANK','CRSE_RANK']\n",
    "for x in rank_remove:\n",
    "    df = df.drop(x,axis=1)"
   ]
  },
  {
   "cell_type": "code",
   "execution_count": 40,
   "id": "18b1b8dc-4f15-419f-954d-8d3f7f62e555",
   "metadata": {},
   "outputs": [
    {
     "data": {
      "text/plain": [
       "CRSE\n",
       "165    0.144242\n",
       "166    0.266141\n",
       "265    0.355293\n",
       "143    0.439954\n",
       "140    0.511089\n",
       "104    0.575215\n",
       "150    0.634303\n",
       "207    0.682164\n",
       "201    0.720662\n",
       "267    0.755873\n",
       "317    0.790647\n",
       "105    0.819342\n",
       "301    0.843054\n",
       "414    0.865670\n",
       "266    0.887684\n",
       "160    0.906686\n",
       "385    0.918679\n",
       "435    0.929084\n",
       "436    0.938777\n",
       "314    0.947703\n",
       "304    0.954165\n",
       "373    0.960407\n",
       "350    0.966595\n",
       "151    0.971962\n",
       "365    0.976945\n",
       "415    0.981819\n",
       "145    0.986583\n",
       "302    0.990745\n",
       "240    0.993648\n",
       "481    0.995893\n",
       "407    0.997317\n",
       "424    0.998576\n",
       "441    0.999014\n",
       "442    0.999343\n",
       "469    0.999562\n",
       "422    0.999781\n",
       "423    1.000000\n",
       "Name: count, dtype: float64"
      ]
     },
     "execution_count": 40,
     "metadata": {},
     "output_type": "execute_result"
    }
   ],
   "source": [
    "# Final cleaning task is to remove courses with ``low'' enrollment\n",
    "# We will determine this by getting a count of the number of times a course appears\n",
    "# Put it in decesending order, then divide the cumsum by the sum\n",
    "crse_value = df['CRSE'].value_counts()\n",
    "crse_value.cumsum()/crse_value.sum()"
   ]
  },
  {
   "cell_type": "code",
   "execution_count": 41,
   "id": "05e8bdc4-b1e6-43ac-81a5-b59652d910c3",
   "metadata": {},
   "outputs": [],
   "source": [
    "# In light of the previous cell, we will cut out every course above 302 because at that point we have accounted for 99% of the data\n",
    "final_cut = ['240','481','407', '424', '441', '442', '469', '422','423']\n",
    "for x in final_cut:\n",
    "    df = df.drop(df[df['CRSE'] == x].index)"
   ]
  },
  {
   "cell_type": "code",
   "execution_count": 42,
   "id": "31e5f5cb-4755-4db2-bf24-c10288d174b7",
   "metadata": {},
   "outputs": [
    {
     "name": "stdout",
     "output_type": "stream",
     "text": [
      "9353\n"
     ]
    }
   ],
   "source": [
    "# Final number of students check\n",
    "print(df[\"STUDENT\"].nunique())"
   ]
  },
  {
   "cell_type": "code",
   "execution_count": 43,
   "id": "73eece8a-5f56-4eba-bdfe-5eb72bf0640e",
   "metadata": {},
   "outputs": [],
   "source": [
    "# We add one column for each course and enter either a 0 (if course is not taken) or \n",
    "# the value of round('GRADE_CATGORY' * 'CRSE_SEM') (this will range from -8 to 8)\n",
    "courses = df['CRSE'].unique().tolist()\n",
    "courses.sort()\n",
    "for x in courses:\n",
    "    df[x] = np.where(df['CRSE'] == x, df['GRADE_CATGORY'], 0) "
   ]
  },
  {
   "cell_type": "code",
   "execution_count": 44,
   "id": "c595fa7e-a330-481f-b6ee-9229111188e4",
   "metadata": {},
   "outputs": [],
   "source": [
    "# Remove the CRSE and GRADE_CATGORY, columns as they are no longer needed\n",
    "crse_info_remove = ['CRSE','GRADE_CATGORY']\n",
    "for x in crse_info_remove:\n",
    "    df = df.drop(x,axis=1)"
   ]
  },
  {
   "cell_type": "code",
   "execution_count": 45,
   "id": "7562b77b-355e-4143-b9d0-2abcb8655657",
   "metadata": {},
   "outputs": [],
   "source": [
    "# We add the final column indicated if a student gradudated within 8 full semesters (0 = no, 1 = yes)\n",
    "df['GRADUATE'] = np.where(df['GRAD_SEM'] <= 8, 1, 0)"
   ]
  },
  {
   "cell_type": "code",
   "execution_count": 46,
   "id": "ba5bf4dc-067d-4169-b7b5-a0e8791e28bf",
   "metadata": {},
   "outputs": [],
   "source": [
    "# Remove the GRAD_SEM colum as it is no longer needed\n",
    "df.drop('GRAD_SEM',axis=1,inplace=True)"
   ]
  },
  {
   "cell_type": "code",
   "execution_count": 47,
   "id": "be7e2094-ea2c-48ee-b7ee-f864264c1f0b",
   "metadata": {},
   "outputs": [],
   "source": [
    "# We now group by student, keeping the first row of any columns with str values and\n",
    "# choosing the maximum value (with respect to absolute value) for columns with numeric values \n",
    "\n",
    "def custom_agg(group):\n",
    "    result = {}\n",
    "    for col in group.columns:\n",
    "        if group[col].dtype == 'object':\n",
    "            result[col] = group[col].iloc[0] \n",
    "        else:\n",
    "            result[col] = max( group[col], key = abs)\n",
    "    return pd.Series(result)\n",
    "\n",
    "df = df.groupby('STUDENT').apply(custom_agg,include_groups=False)"
   ]
  },
  {
   "cell_type": "code",
   "execution_count": 48,
   "id": "9fb058c9-bbab-40b0-a0e6-4d2ab52a9a79",
   "metadata": {},
   "outputs": [],
   "source": [
    "# Final step - recode the 'MAJOR' column so its readable\n",
    "# First get list of majors\n",
    "#sorted(df['MAJOR'].unique())\n",
    "maj_recode = {'A E' : 'Agricultural Engineering',\n",
    " 'A ECL' : 'Animal Ecology',\n",
    " 'A M D' : 'Apparel, Merchandising, and Design',\n",
    " 'A TR': 'Athletic Training',\n",
    " 'ACCT' : 'Accounting',\n",
    " 'ACSCI' : 'Actuarial Science',\n",
    " 'ADVRT' : 'Advertising',\n",
    " 'AER E': 'Aerospace Engineering',\n",
    " 'AG B' : 'Agricultural Business',\n",
    " 'AG ST' : 'Agricultural Studies',\n",
    " 'AGBIO' : 'Agricultural Biochemistry',\n",
    " 'AGLSE' : 'Agricultural and Life Sciences Education',\n",
    " 'AGRON' : 'Agronomy',\n",
    " 'AGRPS' : 'Agricultural and Rural Policy Studies',\n",
    " 'AN S' : 'Animal Science',\n",
    " 'ANTHR' : 'Anthropology',\n",
    " 'ARC' : 'Architecture',\n",
    " 'ARTDN' : 'Art and Design',\n",
    " 'ARTGR' : 'Graphic Design',\n",
    " 'ARTID' : 'Interior Design',\n",
    " 'ARTIS' : 'Integrated Studio Arts',\n",
    " 'AST' : 'Agricultural Systems Technology',\n",
    " 'BBA' : 'Business Administration',\n",
    " 'BCBIO' : 'Bioinformatics and Computational Biology',\n",
    " 'BIOCA' : 'Biochemistry',\n",
    " 'BIOCH' : 'Biochemistry',\n",
    " 'BIOL' : 'Biology',\n",
    " 'BIOLA' : 'Biology',\n",
    " 'BIOPH' : 'Biophysics',\n",
    " 'BPM I' : 'Biological/Medical Illustration',\n",
    " 'BSE' : 'Biological Systems Engineering',\n",
    " 'BU AN' : 'Business Analytics',\n",
    " 'BUS U' : 'Business',\n",
    " 'BUSEC' : 'Business Economics',\n",
    " 'C E' : 'Civil Engineering',\n",
    " 'C J' : 'Criminal Justice',\n",
    " 'C R P' : 'Community & Regional Planning',\n",
    " 'CH E' : 'Chemical Engineering',\n",
    " 'CH FS' : 'Child, Adult and Family Services',\n",
    " 'CHEM' : 'Chemisty',\n",
    " 'CJ ST' : 'Criminal Justice Studies',\n",
    " 'CLSCI' : 'Climate Science',\n",
    " 'COM S' : 'Computer Science',\n",
    " 'COMST' : 'Comunication Studies',\n",
    " 'CON E' : 'Construction Engineering',\n",
    " 'CPR E' : 'Computer Engineering',\n",
    " 'CS H' : 'Computer Science',\n",
    " 'CUFSA' : 'Culinary Food Science',\n",
    " 'CUFSH' : 'Culinary Food Science',\n",
    " 'CYB E' : 'Cyber Security Engineering',\n",
    " 'CYBSC' : 'Cyber Security',\n",
    " 'DIETA' : 'Dietetics',\n",
    " 'DIETH' : 'Dietetics',\n",
    " 'DS' : 'Data Science',\n",
    " 'DSGN' : 'Undeclared',\n",
    " 'E CPE' : 'Electrical and Computer Engineering',\n",
    " 'E E' : 'Electrical Engineering',\n",
    " 'EA SC' : 'Earth Science',\n",
    " 'ECE' : 'Early Childhood Education',\n",
    " 'ECON' : 'Economics',\n",
    " 'EL ED' : 'Elementary Education',\n",
    " 'ENGL' : 'English',\n",
    " 'ENGR' : 'Engineering',\n",
    " 'ENGRS' : 'Engineering',\n",
    " 'ENSCA' : 'Environmental Science',\n",
    " 'ENSCS' : 'Environmental Science',\n",
    " 'ENTSP' : 'Entrepreneurship',\n",
    " 'EVENT' : 'Event Management',\n",
    " 'F C P' : 'Financial Counseling and Planning',\n",
    " 'FCEDS' : 'Family and Consumer Sciences',\n",
    " 'FIN' : 'Finance',\n",
    " 'FOR' : 'Forestry',\n",
    " 'FS A' : 'Food Science',\n",
    " 'FS H' : 'Food Science',\n",
    " 'GE AT' : 'Geological and Atmospheric Sciences',\n",
    " 'GEN' : 'Genetics',\n",
    " 'GEN S' : 'Genetics',\n",
    " 'GENPV' : 'General Preveterinary Medicine',\n",
    " 'GEOL' : 'Geology',\n",
    " 'GLOBE' : 'Global Resource Systems',\n",
    " 'HD FS' : 'Human Development and Family Studies',\n",
    " 'HIST' : 'History',\n",
    " 'HORT' : 'Horticulture',\n",
    " 'HRM' : 'Human Resource Management',\n",
    " 'HSP M' : 'Hospitality Management',\n",
    " 'I DES' : 'Interdisciplinary Design',\n",
    " 'I E' : 'Industrial Engineering',\n",
    " 'I TEC' : 'Industrial Technology',\n",
    " 'IND D' : 'Industrial Design',\n",
    " 'INDIS' : 'Interdisciplinary Studies',\n",
    " 'ISBA' : 'Information Systems and Business Analytics',\n",
    " 'JL MC' : 'Journalism and Mass Communication',\n",
    " 'KIN H' : 'Kinesiology and Health',\n",
    " 'L A' : 'Landscape Architecture',\n",
    " 'L ST' : 'Liberal Arts and Sciences',\n",
    " 'LAS' : 'Liberal Arts and Sciences',\n",
    " 'LAS S' : 'Liberal Arts and Sciences',\n",
    " 'LING' : 'Linguistics',\n",
    " 'M E' : 'Mechanical Engineering',\n",
    " 'MAT E' : 'Materials Engineering',\n",
    " 'MATH' : 'Mathematics',\n",
    " 'MGMT' : 'Management',\n",
    " 'MICR' : 'Microbiology',\n",
    " 'MIS' : 'Management Information Systems',\n",
    " 'MKT' : 'Marketing',\n",
    " 'MTEOR' : 'Meteorology',\n",
    " 'MU BA' : 'Music',\n",
    " 'MU BM' : 'Music',\n",
    " 'NRS A' : 'Nursing',\n",
    " 'NRS H' : 'Nursing',\n",
    " 'NS A' : 'Nutritional Science',\n",
    " 'NS H' : 'Nutritional Science',\n",
    " 'OPEN' : 'Open Option',\n",
    " 'P ARC' : 'Architecture',\n",
    " 'P ATR' : 'Athletic Training',\n",
    " 'P BUS' : 'Business',\n",
    " 'P CS' : 'Computer Science',\n",
    " 'P DTH' : 'Dietetics',\n",
    " 'P GR' : 'Graphic Design',\n",
    " 'P H P' : 'Preprofessional Health Programs',\n",
    " 'P ID' : 'Interior Design',\n",
    " 'P IND' : 'Industrial Design',\n",
    " 'P LAW' : 'Preparation for Law',\n",
    " 'P LST' : 'Liberal Studies',\n",
    " 'P MED' : 'Preparation for Human Medicine',\n",
    " 'P R' : 'Public Relations',\n",
    " 'PBPMI' : 'Biological/Medical Illustration',\n",
    " 'PERF' : 'Performing Arts',\n",
    " 'PHIL' : 'Philosophy',\n",
    " 'PHYS' : 'Physics',\n",
    " 'POL S' : 'Political Science',\n",
    " 'PSYCH' : 'Psychology',\n",
    " 'RELIG' : 'Religious Studies',\n",
    " 'S E' : 'Systems Engineering',\n",
    " 'SCM' : 'Supply Chain Management',\n",
    " 'SOC' : 'Sociology',\n",
    " 'SP CM' : 'Speech Communication',\n",
    " 'STAT' : 'Statistics',\n",
    " 'TCOMM' : 'Technical Communication',\n",
    " 'UNDEC' : 'Undeclared',\n",
    " 'V M' : 'Veterinary Medicine',\n",
    " 'W S' : 'Women’s and Gender Studies',\n",
    " 'WGS' : 'Women’s and Gender Studies',\n",
    " 'WLC' : 'World Languages and Cultures'\n",
    "}\n",
    "df['MAJOR'] = df['MAJOR'].map(pd.Series(maj_recode))"
   ]
  },
  {
   "cell_type": "code",
   "execution_count": 49,
   "id": "b9530fe0-90bf-406a-b521-1d815b6c7c4b",
   "metadata": {},
   "outputs": [],
   "source": [
    "# Save full set to csv\n",
    "df.to_csv('lee_full_dataset.csv')"
   ]
  },
  {
   "cell_type": "code",
   "execution_count": 50,
   "id": "7780c500-3f16-4ac1-b02c-e94ba0ba5712",
   "metadata": {},
   "outputs": [],
   "source": [
    "# Next we create three more dataframes\n",
    "# First will only have `general population' courses\n",
    "# Second will only have the `math major' courses\n",
    "# Third will only have math majors\n",
    "gen_math_crse = ['104', '105', '140', '143', '145', '150', '151', '160', '165', '166', '207', '265', '266', '267']\n",
    "math_maj_crse = ['201', '301', '302', '304', '314', '317', '350', '365', '373', '385', '414', '415', '435', '436']\n",
    "\n",
    "df_gen_crse = df.drop(columns = math_maj_crse)\n",
    "df_maj_crse = df.drop(columns = gen_math_crse)\n",
    "df_math = df[df['MAJOR'] == 'Mathematics']"
   ]
  },
  {
   "cell_type": "code",
   "execution_count": 51,
   "id": "e0bb23b7-fd8f-4b64-89cf-c9495526e5ef",
   "metadata": {},
   "outputs": [],
   "source": [
    "# We will remove the students without any grade information from df_gen_crse\n",
    "df_gen_crse['FLAG'] = df[gen_math_crse].abs().sum(axis=1)\n",
    "df_gen_crse = df_gen_crse.drop(df_gen_crse[df_gen_crse['FLAG'] == 0].index)\n",
    "df_gen_crse.drop('FLAG',axis=1,inplace=True)\n",
    "\n",
    "# Same for df_maj_crse\n",
    "df_maj_crse['FLAG'] = df[math_maj_crse].abs().sum(axis=1)\n",
    "df_maj_crse = df_maj_crse.drop(df_maj_crse[df_maj_crse['FLAG'] == 0].index)\n",
    "df_maj_crse.drop('FLAG',axis=1,inplace=True)"
   ]
  },
  {
   "cell_type": "code",
   "execution_count": 52,
   "id": "ab6e67e9-8154-42dc-ac4e-5176554d6621",
   "metadata": {},
   "outputs": [],
   "source": [
    "# Save df_gen_crse and df_maj_crse\n",
    "df_gen_crse.to_csv('lee_gen_dataset.csv')\n",
    "df_maj_crse.to_csv('lee_maj_dataset.csv')"
   ]
  },
  {
   "cell_type": "code",
   "execution_count": 53,
   "id": "659a7015-baf4-46c6-92c9-647f1f39e0fb",
   "metadata": {},
   "outputs": [],
   "source": [
    "# From df_math remove courses that are not requirements for the major and the major column as it is not needed\n",
    "df_math = df_math.drop(columns = ['MAJOR','104', '105', '140', '143', '145', '150', '151', '160', '207'])\n",
    "\n",
    "#Save df_math\n",
    "df_math.to_csv('lee_math_dataset.csv')"
   ]
  },
  {
   "cell_type": "code",
   "execution_count": null,
   "id": "6c80c0a5-2726-4d59-92e7-a4dac06cc0d6",
   "metadata": {},
   "outputs": [],
   "source": []
  }
 ],
 "metadata": {
  "kernelspec": {
   "display_name": "Python 3 (ipykernel)",
   "language": "python",
   "name": "python3"
  },
  "language_info": {
   "codemirror_mode": {
    "name": "ipython",
    "version": 3
   },
   "file_extension": ".py",
   "mimetype": "text/x-python",
   "name": "python",
   "nbconvert_exporter": "python",
   "pygments_lexer": "ipython3",
   "version": "3.12.5"
  }
 },
 "nbformat": 4,
 "nbformat_minor": 5
}
