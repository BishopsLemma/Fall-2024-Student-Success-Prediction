{
 "cells": [
  {
   "cell_type": "code",
   "execution_count": 1,
   "id": "023f255e-aba4-4b66-a0c1-d09e5634da34",
   "metadata": {},
   "outputs": [],
   "source": [
    "# Import the usual\n",
    "import pandas as pd\n",
    "import numpy as np"
   ]
  },
  {
   "cell_type": "code",
   "execution_count": 2,
   "id": "07207b24-0773-4a12-8af4-842082c1f2f1",
   "metadata": {},
   "outputs": [],
   "source": [
    "# Read in the new raw dataset\n",
    "df = pd.read_csv('data_set_11_15.csv')"
   ]
  },
  {
   "cell_type": "code",
   "execution_count": 3,
   "id": "7bb8b969-77d6-4ffb-850c-b730b2bf7579",
   "metadata": {},
   "outputs": [],
   "source": [
    "# Get list of columns\n",
    "# df.columns.tolist()"
   ]
  },
  {
   "cell_type": "code",
   "execution_count": 4,
   "id": "319cc803-5d29-47bd-9b73-70b7a4854873",
   "metadata": {},
   "outputs": [],
   "source": [
    "# Remove unneeded columns\n",
    "column_remove =['MAJOR_COLL', 'CLSFN_YR', 'LEVEL', 'OFFER_DEPT_ABRVN', 'SECT', 'CRSE_TITLE', 'DEG_DATEDB', 'DEG_DESCR', \n",
    "                'LAST_RGST_TERM','CLSFN_YR.1', 'MAJOR_COLL.1', 'Workday Enrolled in Fall 2024', \n",
    "                'Workday Enrolled in Fall 2024 Class Standing', 'Workday Enrolled in Fall 2024 Primary Program of Study']\n",
    "for x in column_remove:\n",
    "    df = df.drop(x,axis=1)"
   ]
  },
  {
   "cell_type": "code",
   "execution_count": 5,
   "id": "719246ef-1675-47ec-85e8-94bbb01b2636",
   "metadata": {},
   "outputs": [],
   "source": [
    "# Recode semesters as follows: Spring = 0.1, Summer = 0.2, Fall = 0.3\n",
    "sem_list = ['ENTRY_SEM_CD', 'SEM_CD', 'SEM_CD.1']\n",
    "sem_recode = {'S': 0.1, '1': 0.2, 'F': 0.3}\n",
    "for x in sem_list:\n",
    "    df[x] = df[x].map(pd.Series(sem_recode))"
   ]
  },
  {
   "cell_type": "code",
   "execution_count": 6,
   "id": "4f53537b-92f2-4f13-a25a-c85084419196",
   "metadata": {},
   "outputs": [],
   "source": [
    "# Create new columns to assign unique numbers to entry term, term course was taken, and graduation term (if applicable)\n",
    "# Number will be XX.Y where XX is the last two digits of the year and Y is the semester\n",
    "df['ENT_SEM'] = (df['ENTRY_CCYY'] % 1000) + df['ENTRY_SEM_CD']\n",
    "df['CRSE_SEM'] = (df['SEM_CCYY'] % 1000) + df['SEM_CD']\n",
    "df['GRAD_SEM'] = (df['SEM_CCYY.1'] % 1000) + df['SEM_CD.1']"
   ]
  },
  {
   "cell_type": "code",
   "execution_count": 7,
   "id": "276c6d19-b36f-4f48-a4d6-f03b5adaf57a",
   "metadata": {},
   "outputs": [],
   "source": [
    "# Remove the year and semester columns after recoding\n",
    "year_sem_remove = ['ENTRY_CCYY','ENTRY_SEM_CD','SEM_CCYY','SEM_CD','SEM_CCYY.1','SEM_CD.1']\n",
    "for x in year_sem_remove:\n",
    "    df = df.drop(x,axis=1)"
   ]
  },
  {
   "cell_type": "code",
   "execution_count": 8,
   "id": "d24785e0-9813-4d59-9f87-8a7f46829a68",
   "metadata": {},
   "outputs": [],
   "source": [
    "# Get list of grade types\n",
    "# df['GRADE_CATGORY'].unique()"
   ]
  },
  {
   "cell_type": "code",
   "execution_count": 9,
   "id": "7c98f0f0-83f4-4273-b9d0-77f41f8077b3",
   "metadata": {},
   "outputs": [],
   "source": [
    "# Recode grades as follows: C- or below = -1, Above C- and Satisfactory/Pass = 1\n",
    "grade_recode = {'C- OR BELOW':-1,'ABOVE C-':1,'Satisfactory/Pass':1}\n",
    "df['GRADE_CATGORY'] = df['GRADE_CATGORY'].map(pd.Series(grade_recode))"
   ]
  },
  {
   "cell_type": "code",
   "execution_count": 10,
   "id": "d0ece2b2-c17e-4bb7-bc89-141e4a829087",
   "metadata": {},
   "outputs": [],
   "source": [
    "# Get list of degrees\n",
    "#df['DEG_CD'].unique()"
   ]
  },
  {
   "cell_type": "code",
   "execution_count": 11,
   "id": "a4b6225a-fce7-4ae0-a444-b13eaeeda0e1",
   "metadata": {},
   "outputs": [
    {
     "name": "stdout",
     "output_type": "stream",
     "text": [
      "13065\n"
     ]
    }
   ],
   "source": [
    "# Get the initial number of students\n",
    "print(df[\"STUDENT\"].nunique())"
   ]
  },
  {
   "cell_type": "code",
   "execution_count": 12,
   "id": "433f82d1-618b-4fd6-8a96-8e5b84fef8c9",
   "metadata": {},
   "outputs": [],
   "source": [
    "# Remove any graduate degress\n",
    "degree_remove = ['MS', 'MED', 'MAT', 'MEN', 'MFN', 'MBS', 'PHD', 'MFS', 'MHC', 'MAA', 'MBA', 'MFA', 'MA', 'MTR', 'MHO', 'DVM', 'MCP','MRE']\n",
    "for x in degree_remove:\n",
    "    df = df.drop(df[df['DEG_CD'] == x].index)"
   ]
  },
  {
   "cell_type": "code",
   "execution_count": 13,
   "id": "e065ed81-308c-44f9-b995-d98f7a73fdd9",
   "metadata": {},
   "outputs": [
    {
     "name": "stdout",
     "output_type": "stream",
     "text": [
      "13052\n"
     ]
    }
   ],
   "source": [
    "# Number of students check\n",
    "print(df[\"STUDENT\"].nunique())"
   ]
  },
  {
   "cell_type": "code",
   "execution_count": 14,
   "id": "5c6844af-e4fb-4f10-9a7d-3d37385821ce",
   "metadata": {},
   "outputs": [],
   "source": [
    "# Remove the degree column as we no longer need it\n",
    "df = df.drop('DEG_CD',axis=1)"
   ]
  },
  {
   "cell_type": "code",
   "execution_count": 15,
   "id": "d71e2b27-3a60-45f0-b446-64d48e8f60e5",
   "metadata": {},
   "outputs": [],
   "source": [
    "# Remove students that enrolled before Summer 2010\n",
    "df = df[ df['ENT_SEM'] >= 10.2] "
   ]
  },
  {
   "cell_type": "code",
   "execution_count": 16,
   "id": "49477b24-4a8a-4cb9-8e70-767029c04237",
   "metadata": {},
   "outputs": [
    {
     "name": "stdout",
     "output_type": "stream",
     "text": [
      "12973\n"
     ]
    }
   ],
   "source": [
    "# Number of students check\n",
    "print(df[\"STUDENT\"].nunique())"
   ]
  },
  {
   "cell_type": "code",
   "execution_count": 17,
   "id": "a48e9295-e274-40d5-91bb-19fced9b632c",
   "metadata": {},
   "outputs": [],
   "source": [
    "# Remove students that enrolled after Fall 2020\n",
    "df = df[ (df['ENT_SEM'] < 21)] "
   ]
  },
  {
   "cell_type": "code",
   "execution_count": 18,
   "id": "0ec2a3cd-b7e2-416a-adc9-c27bb10e195c",
   "metadata": {},
   "outputs": [
    {
     "name": "stdout",
     "output_type": "stream",
     "text": [
      "9958\n"
     ]
    }
   ],
   "source": [
    "# Number of students check\n",
    "print(df[\"STUDENT\"].nunique())"
   ]
  },
  {
   "cell_type": "code",
   "execution_count": 19,
   "id": "e6bc3df7-1030-4057-996b-b80439f929fb",
   "metadata": {},
   "outputs": [],
   "source": [
    "# Remove students that graduated before 2014\n",
    "df = df[(df['GRAD_SEM'] >= 14.1) | (df['GRAD_SEM'].isnull())]"
   ]
  },
  {
   "cell_type": "code",
   "execution_count": 20,
   "id": "0442512e-cc3e-4c65-a09b-765c0d783be6",
   "metadata": {},
   "outputs": [
    {
     "name": "stdout",
     "output_type": "stream",
     "text": [
      "9955\n"
     ]
    }
   ],
   "source": [
    "# Number of students check\n",
    "print(df[\"STUDENT\"].nunique())"
   ]
  },
  {
   "cell_type": "code",
   "execution_count": 21,
   "id": "c00ed75b-1fd0-4b5d-a077-838712e56d06",
   "metadata": {},
   "outputs": [],
   "source": [
    "# Remove courses taken after graduating\n",
    "df = df[  ( df['CRSE_SEM'] <= df['GRAD_SEM']  ) |  (df['GRAD_SEM'].isnull())  ] "
   ]
  },
  {
   "cell_type": "code",
   "execution_count": 22,
   "id": "80214d5d-cced-4b9f-9ca2-6379e20a30db",
   "metadata": {},
   "outputs": [
    {
     "name": "stdout",
     "output_type": "stream",
     "text": [
      "9935\n",
      "23340\n"
     ]
    }
   ],
   "source": [
    "# Number of students/rows check\n",
    "print(df[\"STUDENT\"].nunique())\n",
    "print(len(df))"
   ]
  },
  {
   "cell_type": "code",
   "execution_count": 23,
   "id": "f992b91a-3b86-4862-b06e-39591e281d68",
   "metadata": {},
   "outputs": [],
   "source": [
    "# Sanity check - make sure courses are taken after enrollment and enrollment occurs before graduation\n",
    "df = df[  ( df['ENT_SEM'] <= df['CRSE_SEM']  )  & (  (df['ENT_SEM'] <= df['GRAD_SEM']) |   (df['GRAD_SEM'].isnull())   )  ]"
   ]
  },
  {
   "cell_type": "code",
   "execution_count": 24,
   "id": "f0537bc1-8bd0-4c57-99f2-4bfcad42b8b2",
   "metadata": {},
   "outputs": [
    {
     "name": "stdout",
     "output_type": "stream",
     "text": [
      "9935\n",
      "23340\n"
     ]
    }
   ],
   "source": [
    "# Number of students/rows check - nothing should change\n",
    "print(df[\"STUDENT\"].nunique())\n",
    "print(len(df))"
   ]
  },
  {
   "cell_type": "code",
   "execution_count": 25,
   "id": "373afc96-a753-4167-92c0-20fdca750485",
   "metadata": {},
   "outputs": [],
   "source": [
    "# Next we want to remove courses taken above the ``at most 8 full semesters attended'' window \n",
    "# and students that graduated below the ``at least 6 full semesters attended'' window\n",
    "# To accurately guage this, we first recode ENT_SEM, CRSE_SEM, and GRAD_SEM\n",
    "\n",
    "ent_recode = {10.2 : 1, 10.3: 1,\n",
    "                11.1 : 2, 11.2 : 3, 11.3 : 3, \n",
    "                12.1 : 4, 12.2 : 5, 12.3 : 5,\n",
    "                13.1 : 6, 13.2 : 7, 13.3 : 7,\n",
    "                14.1 : 8, 14.2 : 9, 14.3 : 9, \n",
    "                15.1 : 10, 15.2 : 11, 15.3 : 11,\n",
    "                16.1 : 12, 16.2 : 13, 16.3 : 13,\n",
    "                17.1 : 14, 17.2 : 15, 17.3 : 15,\n",
    "                18.1 : 16, 18.2 : 17, 18.3 : 17,\n",
    "                19.1 : 18, 19.2 : 19, 19.3 : 19,\n",
    "                20.1 : 20, 20.2 : 21, 20.3: 21\n",
    "               }\n",
    "\n",
    "crse_recode =  {14.1 : 9, 14.2 : 9.5, 14.3 : 10, \n",
    "                15.1 : 11, 15.2 : 11.5, 15.3 : 12,\n",
    "                16.1 : 13, 16.2 : 13.5, 16.3 : 14,\n",
    "                17.1 : 15, 17.2 : 15.5, 17.3 : 16,\n",
    "                18.1 : 17, 18.2 : 17.5, 18.3 : 18,\n",
    "                19.1 : 19, 19.2 : 19.5, 19.3 : 20,\n",
    "                20.1 : 21, 20.2 : 21.5, 20.3: 22,\n",
    "                21.1 : 23, 21.2 : 23.5, 21.3 : 24,\n",
    "                22.1 : 25, 22.2 : 25.5, 22.3 : 26,\n",
    "                23.1 : 27, 23.2 : 27.5, 23.3 : 28,\n",
    "                24.1 : 29, 24.2 : 29.5\n",
    "               }\n",
    "\n",
    "grad_recode = {14.1 : 9, 14.2 : 10, 14.3 : 10, \n",
    "                15.1 : 11, 15.2 : 12, 15.3 : 12,\n",
    "                16.1 : 13, 16.2 : 14, 16.3 : 14,\n",
    "                17.1 : 15, 17.2 : 16, 17.3 : 16,\n",
    "                18.1 : 17, 18.2 : 18, 18.3 : 18,\n",
    "                19.1 : 19, 19.2 : 20, 19.3 : 20,\n",
    "                20.1 : 21, 20.2 : 22, 20.3: 22,\n",
    "                21.1 : 23, 21.2 : 24, 21.3 : 24,\n",
    "                22.1 : 25, 22.2 : 26, 22.3 : 26,\n",
    "                23.1 : 27, 23.2 : 28, 23.3 : 28,\n",
    "                24.1 : 29, 24.2 : 30\n",
    "               }\n",
    "\n",
    "# There was probably a clever way to do this, but whatever it works\n",
    "\n",
    "df['ENT_SEM'] = df['ENT_SEM'].map(pd.Series(ent_recode))\n",
    "df['CRSE_SEM'] = df['CRSE_SEM'].map(pd.Series(crse_recode))\n",
    "df['GRAD_SEM'] = df['GRAD_SEM'].map(pd.Series(grad_recode))\n",
    "\n",
    "# Update the course semester and the grad semester to now be relative to the entry semester\n",
    "df['CRSE_SEM'] = df['CRSE_SEM'] - df['ENT_SEM']\n",
    "df['GRAD_SEM'] = df['GRAD_SEM'] - df['ENT_SEM']\n",
    "\n",
    "# Remove courses taken after 8 full semesters\n",
    "df = df[ df['CRSE_SEM'] < 8.1  ]\n",
    "\n",
    "# Remove students that graduated before 6 full semesters\n",
    "df = df [ (df['GRAD_SEM'] >= 6) | (df['GRAD_SEM'].isnull()) ]"
   ]
  },
  {
   "cell_type": "code",
   "execution_count": 26,
   "id": "7674bd93-3f8c-42df-be9e-8da969cc354e",
   "metadata": {},
   "outputs": [
    {
     "name": "stdout",
     "output_type": "stream",
     "text": [
      "9336\n",
      "21494\n"
     ]
    }
   ],
   "source": [
    "# Number of students/rows check\n",
    "print(df[\"STUDENT\"].nunique())\n",
    "print(len(df))"
   ]
  },
  {
   "cell_type": "code",
   "execution_count": 27,
   "id": "8c19211b-4c42-4c55-a888-153987ca0750",
   "metadata": {},
   "outputs": [
    {
     "data": {
      "text/html": [
       "<div>\n",
       "<style scoped>\n",
       "    .dataframe tbody tr th:only-of-type {\n",
       "        vertical-align: middle;\n",
       "    }\n",
       "\n",
       "    .dataframe tbody tr th {\n",
       "        vertical-align: top;\n",
       "    }\n",
       "\n",
       "    .dataframe thead th {\n",
       "        text-align: right;\n",
       "    }\n",
       "</style>\n",
       "<table border=\"1\" class=\"dataframe\">\n",
       "  <thead>\n",
       "    <tr style=\"text-align: right;\">\n",
       "      <th></th>\n",
       "      <th>STUDENT</th>\n",
       "      <th>MAJOR_CURR</th>\n",
       "      <th>CRSE</th>\n",
       "      <th>GRADE_CATGORY</th>\n",
       "      <th>MAJOR_CURR.1</th>\n",
       "      <th>MAJOR_CURR.2</th>\n",
       "      <th>CRSE_SEM</th>\n",
       "      <th>GRAD_SEM</th>\n",
       "    </tr>\n",
       "  </thead>\n",
       "  <tbody>\n",
       "    <tr>\n",
       "      <th>0</th>\n",
       "      <td>0</td>\n",
       "      <td>CHEM</td>\n",
       "      <td>265</td>\n",
       "      <td>-1</td>\n",
       "      <td>CHEM</td>\n",
       "      <td>CHEM</td>\n",
       "      <td>3.0</td>\n",
       "      <td>8.0</td>\n",
       "    </tr>\n",
       "    <tr>\n",
       "      <th>5</th>\n",
       "      <td>3</td>\n",
       "      <td>LAS S</td>\n",
       "      <td>166</td>\n",
       "      <td>1</td>\n",
       "      <td>NaN</td>\n",
       "      <td>LAS S</td>\n",
       "      <td>0.5</td>\n",
       "      <td>NaN</td>\n",
       "    </tr>\n",
       "    <tr>\n",
       "      <th>6</th>\n",
       "      <td>4</td>\n",
       "      <td>COM S</td>\n",
       "      <td>165</td>\n",
       "      <td>1</td>\n",
       "      <td>COM S</td>\n",
       "      <td>COM S</td>\n",
       "      <td>1.0</td>\n",
       "      <td>8.0</td>\n",
       "    </tr>\n",
       "    <tr>\n",
       "      <th>7</th>\n",
       "      <td>4</td>\n",
       "      <td>COM S</td>\n",
       "      <td>166</td>\n",
       "      <td>1</td>\n",
       "      <td>COM S</td>\n",
       "      <td>COM S</td>\n",
       "      <td>2.0</td>\n",
       "      <td>8.0</td>\n",
       "    </tr>\n",
       "    <tr>\n",
       "      <th>8</th>\n",
       "      <td>4</td>\n",
       "      <td>COM S</td>\n",
       "      <td>207</td>\n",
       "      <td>1</td>\n",
       "      <td>COM S</td>\n",
       "      <td>COM S</td>\n",
       "      <td>4.0</td>\n",
       "      <td>8.0</td>\n",
       "    </tr>\n",
       "    <tr>\n",
       "      <th>...</th>\n",
       "      <td>...</td>\n",
       "      <td>...</td>\n",
       "      <td>...</td>\n",
       "      <td>...</td>\n",
       "      <td>...</td>\n",
       "      <td>...</td>\n",
       "      <td>...</td>\n",
       "      <td>...</td>\n",
       "    </tr>\n",
       "    <tr>\n",
       "      <th>30370</th>\n",
       "      <td>13060</td>\n",
       "      <td>PSYCH</td>\n",
       "      <td>140</td>\n",
       "      <td>-1</td>\n",
       "      <td>ENGL</td>\n",
       "      <td>HIST</td>\n",
       "      <td>1.0</td>\n",
       "      <td>10.0</td>\n",
       "    </tr>\n",
       "    <tr>\n",
       "      <th>30371</th>\n",
       "      <td>13060</td>\n",
       "      <td>PSYCH</td>\n",
       "      <td>150</td>\n",
       "      <td>-1</td>\n",
       "      <td>ENGL</td>\n",
       "      <td>HIST</td>\n",
       "      <td>2.5</td>\n",
       "      <td>10.0</td>\n",
       "    </tr>\n",
       "    <tr>\n",
       "      <th>30372</th>\n",
       "      <td>13061</td>\n",
       "      <td>PSYCH</td>\n",
       "      <td>150</td>\n",
       "      <td>1</td>\n",
       "      <td>NaN</td>\n",
       "      <td>PSYCH</td>\n",
       "      <td>2.0</td>\n",
       "      <td>NaN</td>\n",
       "    </tr>\n",
       "    <tr>\n",
       "      <th>30375</th>\n",
       "      <td>13063</td>\n",
       "      <td>ADVRT</td>\n",
       "      <td>151</td>\n",
       "      <td>1</td>\n",
       "      <td>MKT</td>\n",
       "      <td>MKT</td>\n",
       "      <td>5.0</td>\n",
       "      <td>9.0</td>\n",
       "    </tr>\n",
       "    <tr>\n",
       "      <th>30376</th>\n",
       "      <td>13063</td>\n",
       "      <td>OPEN</td>\n",
       "      <td>150</td>\n",
       "      <td>1</td>\n",
       "      <td>MKT</td>\n",
       "      <td>MKT</td>\n",
       "      <td>2.0</td>\n",
       "      <td>9.0</td>\n",
       "    </tr>\n",
       "  </tbody>\n",
       "</table>\n",
       "<p>21494 rows × 8 columns</p>\n",
       "</div>"
      ],
      "text/plain": [
       "       STUDENT MAJOR_CURR CRSE  GRADE_CATGORY MAJOR_CURR.1 MAJOR_CURR.2  \\\n",
       "0            0       CHEM  265             -1         CHEM         CHEM   \n",
       "5            3      LAS S  166              1          NaN        LAS S   \n",
       "6            4      COM S  165              1        COM S        COM S   \n",
       "7            4      COM S  166              1        COM S        COM S   \n",
       "8            4      COM S  207              1        COM S        COM S   \n",
       "...        ...        ...  ...            ...          ...          ...   \n",
       "30370    13060      PSYCH  140             -1         ENGL         HIST   \n",
       "30371    13060      PSYCH  150             -1         ENGL         HIST   \n",
       "30372    13061      PSYCH  150              1          NaN        PSYCH   \n",
       "30375    13063      ADVRT  151              1          MKT          MKT   \n",
       "30376    13063       OPEN  150              1          MKT          MKT   \n",
       "\n",
       "       CRSE_SEM  GRAD_SEM  \n",
       "0           3.0       8.0  \n",
       "5           0.5       NaN  \n",
       "6           1.0       8.0  \n",
       "7           2.0       8.0  \n",
       "8           4.0       8.0  \n",
       "...         ...       ...  \n",
       "30370       1.0      10.0  \n",
       "30371       2.5      10.0  \n",
       "30372       2.0       NaN  \n",
       "30375       5.0       9.0  \n",
       "30376       2.0       9.0  \n",
       "\n",
       "[21494 rows x 8 columns]"
      ]
     },
     "execution_count": 27,
     "metadata": {},
     "output_type": "execute_result"
    }
   ],
   "source": [
    "# Remove the ENT_SEM column as it is no longer needed\n",
    "df.drop('ENT_SEM',axis=1,inplace=True)"
   ]
  },
  {
   "cell_type": "code",
   "execution_count": 28,
   "id": "4fa0f046-3f1d-46fb-af4b-2078c755967d",
   "metadata": {},
   "outputs": [],
   "source": [
    "# Next goal is to remove the repeated information due to students with multiple degrees\n",
    "# First, create a column that indicates the students with multiple degrees\n",
    "df['NUM_DEG'] = df.groupby('STUDENT')['MAJOR_CURR.1'].transform('nunique')\n",
    "\n",
    "# Second, we flag those students where MAJOR_CURR.2 matches some entry in MAJOR_CURR.1\n",
    "df['DEG_FLAG'] = df.groupby('STUDENT',group_keys=False).apply(lambda x: x['MAJOR_CURR.2'].isin(x['MAJOR_CURR.1']),include_groups=False)\n",
    "\n",
    "# Next, we will create a column that either lists the `first' major/degree of the student\n",
    "# or has a 0 if the student has multiple degrees and the row is information regarding the second/third/fourth\n",
    "\n",
    "def major_detect(row):\n",
    "    if (row['NUM_DEG'] == 0):\n",
    "        val = row['MAJOR_CURR.2']\n",
    "    elif (row['NUM_DEG'] == 1):\n",
    "        val = row['MAJOR_CURR.1']\n",
    "    elif (row['MAJOR_CURR.2'] == row['MAJOR_CURR.1']):\n",
    "        val = row['MAJOR_CURR.1']\n",
    "    elif (row['DEG_FLAG'] == False) & (row['MAJOR_CURR'] == row['MAJOR_CURR.1']):\n",
    "        val = row['MAJOR_CURR.1']\n",
    "    else:\n",
    "        val = 0\n",
    "    return val\n",
    "\n",
    "df['MD'] = df.apply(major_detect,axis=1)\n",
    "\n",
    "# Those with a 0 in 'MD' are safe for removal\n",
    "df = df.drop(df[df['MD'] == 0].index)"
   ]
  },
  {
   "cell_type": "code",
   "execution_count": 29,
   "id": "0cc01923-9d6e-42c8-a788-d5904a67db3a",
   "metadata": {},
   "outputs": [
    {
     "name": "stdout",
     "output_type": "stream",
     "text": [
      "9336\n",
      "20231\n"
     ]
    }
   ],
   "source": [
    "# Number of students/rows check - note number of students should not have changed\n",
    "print(df[\"STUDENT\"].nunique())\n",
    "print(len(df))"
   ]
  },
  {
   "cell_type": "code",
   "execution_count": 31,
   "id": "f307d4df-61ed-4efa-a56a-5f0d935f2e43",
   "metadata": {},
   "outputs": [],
   "source": [
    "# Remove the columns MAJOR_CURR, MAJOR_CURR.1, MAJOR_CURR.2, NUM_DEG, and DEG_FLAG as they are no longer needed\n",
    "deg_info_remove = ['MAJOR_CURR','MAJOR_CURR.1','MAJOR_CURR.2','NUM_DEG','DEG_FLAG']\n",
    "for x in deg_info_remove:\n",
    "    df = df.drop(x,axis=1)"
   ]
  },
  {
   "cell_type": "code",
   "execution_count": 32,
   "id": "60b4b6cd-7236-444d-b92c-a93fd4f0e81f",
   "metadata": {},
   "outputs": [],
   "source": [
    "# Get list of courses\n",
    "# crse_list = df['CRSE'].unique()\n",
    "# np.sort(crse_list)"
   ]
  },
  {
   "cell_type": "code",
   "execution_count": 33,
   "id": "bc3bb2b3-03c5-4c59-b03d-8b40a713a8b7",
   "metadata": {},
   "outputs": [],
   "source": [
    "# Remove courses that are not in the current catalog, have variable content, are not `content courses',\n",
    "# are not math department courses, are supplemental courses, and are graduate courses.\n",
    "course_remove = ['25', '30', \n",
    "                 '101', '106', '106X', '139X', '181', '182', '195', '196', \n",
    "                 '202', '202X', '241X', '268', '290', '297', \n",
    "                 '331', '341', '342', '392X', '397', '398', \n",
    "                 '408X', '421', '439', '474', '474X', '490', '490H', '491', '492', '495', '495X', '497', \n",
    "                 '501', '502', '503X', '504', '505', '506X', '507', '510', '511', '515',  '516', '518X', \n",
    "                 '519', '520', '525', '533', '535', '545', '554', '561', '562', '565', '566', '567', '581', \n",
    "                 '601', '603X', '605', '608', '610', '617', '618', '619X', '624', '631', '633', '642', '656', '666']\n",
    "for x in course_remove:\n",
    "    df = df.drop(df[df['CRSE'] == x].index)"
   ]
  },
  {
   "cell_type": "code",
   "execution_count": 34,
   "id": "42eff465-1144-4034-834d-5c24e9cb6c9d",
   "metadata": {},
   "outputs": [
    {
     "name": "stdout",
     "output_type": "stream",
     "text": [
      "9006\n"
     ]
    }
   ],
   "source": [
    "# Number of students check\n",
    "print(df[\"STUDENT\"].nunique())"
   ]
  },
  {
   "cell_type": "code",
   "execution_count": 35,
   "id": "46744d4c-9f9d-479e-842f-cf2d959e5e7c",
   "metadata": {},
   "outputs": [],
   "source": [
    "# Remove X (experimental) and H (honors section)\n",
    "df['CRSE'] = df['CRSE'].str.replace('X', '')\n",
    "df['CRSE'] = df['CRSE'].str.replace('H', '')"
   ]
  },
  {
   "cell_type": "code",
   "execution_count": 36,
   "id": "1000daf9-e590-4fba-b541-956632d98fb0",
   "metadata": {},
   "outputs": [],
   "source": [
    "# Relabel 403 as 302 (abstract algebra 2) and 142 as 145 (trigonmetry)\n",
    "df['CRSE'] = df['CRSE'].replace('403', '302')\n",
    "df['CRSE'] = df['CRSE'].replace('142', '145')"
   ]
  },
  {
   "cell_type": "code",
   "execution_count": 37,
   "id": "73076e6e-1051-4b8f-b93b-5711b3327b0b",
   "metadata": {},
   "outputs": [
    {
     "data": {
      "text/plain": [
       "np.int64(0)"
      ]
     },
     "execution_count": 37,
     "metadata": {},
     "output_type": "execute_result"
    }
   ],
   "source": [
    "# Check that there are no more duplicated rows\n",
    "dup_check = df[['STUDENT','CRSE', 'CRSE_SEM']]\n",
    "dup_check.duplicated().sum()"
   ]
  },
  {
   "cell_type": "code",
   "execution_count": 38,
   "id": "18b1b8dc-4f15-419f-954d-8d3f7f62e555",
   "metadata": {},
   "outputs": [
    {
     "data": {
      "text/plain": [
       "CRSE\n",
       "165    0.154496\n",
       "166    0.283279\n",
       "265    0.373191\n",
       "143    0.459046\n",
       "140    0.527906\n",
       "104    0.585746\n",
       "150    0.641996\n",
       "207    0.690241\n",
       "201    0.728838\n",
       "267    0.764748\n",
       "317    0.798958\n",
       "105    0.826480\n",
       "301    0.849671\n",
       "266    0.871491\n",
       "414    0.893037\n",
       "160    0.911952\n",
       "385    0.923300\n",
       "435    0.933224\n",
       "436    0.942599\n",
       "314    0.950987\n",
       "304    0.956963\n",
       "350    0.962829\n",
       "373    0.968586\n",
       "151    0.973629\n",
       "365    0.978399\n",
       "415    0.983114\n",
       "145    0.987774\n",
       "302    0.991667\n",
       "240    0.994353\n",
       "481    0.996327\n",
       "407    0.997478\n",
       "424    0.998575\n",
       "441    0.999013\n",
       "442    0.999342\n",
       "469    0.999561\n",
       "422    0.999781\n",
       "423    1.000000\n",
       "Name: count, dtype: float64"
      ]
     },
     "execution_count": 38,
     "metadata": {},
     "output_type": "execute_result"
    }
   ],
   "source": [
    "# Final cleaning task is to remove courses with ``low'' enrollment\n",
    "# We will determine this by getting a count of the number of times a course appears\n",
    "# Put it in decesending order, then divide the cumsum by the sum\n",
    "crse_value = df['CRSE'].value_counts()\n",
    "crse_value.cumsum()/crse_value.sum()"
   ]
  },
  {
   "cell_type": "code",
   "execution_count": 39,
   "id": "05e8bdc4-b1e6-43ac-81a5-b59652d910c3",
   "metadata": {},
   "outputs": [],
   "source": [
    "# In light of the previous cell, we will cut out every course above 302 because at that point we have accounted for 99% of the data\n",
    "final_cut = ['240','481','407', '424', '441', '442', '469', '422','423']\n",
    "for x in final_cut:\n",
    "    df = df.drop(df[df['CRSE'] == x].index)"
   ]
  },
  {
   "cell_type": "code",
   "execution_count": 40,
   "id": "31e5f5cb-4755-4db2-bf24-c10288d174b7",
   "metadata": {},
   "outputs": [
    {
     "name": "stdout",
     "output_type": "stream",
     "text": [
      "9002\n"
     ]
    }
   ],
   "source": [
    "# Final number of students check\n",
    "print(df[\"STUDENT\"].nunique())"
   ]
  },
  {
   "cell_type": "code",
   "execution_count": 41,
   "id": "73eece8a-5f56-4eba-bdfe-5eb72bf0640e",
   "metadata": {},
   "outputs": [],
   "source": [
    "# We add one column for each course and enter either a 0 (if course is not taken) or \n",
    "# the value of 'GRADE_CATGORY' * 'CRSE_SEM' (this will range from -8 to 8)\n",
    "courses = df['CRSE'].unique().tolist()\n",
    "courses.sort()\n",
    "for x in courses:\n",
    "    df[x] = np.where(df['CRSE'] == x, df['GRADE_CATGORY'] * df['CRSE_SEM'], 0) "
   ]
  },
  {
   "cell_type": "code",
   "execution_count": 45,
   "id": "c595fa7e-a330-481f-b6ee-9229111188e4",
   "metadata": {},
   "outputs": [],
   "source": [
    "# Remove the CRSE, GRADE_CATGORY, and CRSE_SEM columns as they are no longer needed\n",
    "crse_info_remove = ['CRSE','GRADE_CATGORY', 'CRSE_SEM']\n",
    "for x in crse_info_remove:\n",
    "    df = df.drop(x,axis=1)"
   ]
  },
  {
   "cell_type": "code",
   "execution_count": 47,
   "id": "7562b77b-355e-4143-b9d0-2abcb8655657",
   "metadata": {},
   "outputs": [
    {
     "data": {
      "text/html": [
       "<div>\n",
       "<style scoped>\n",
       "    .dataframe tbody tr th:only-of-type {\n",
       "        vertical-align: middle;\n",
       "    }\n",
       "\n",
       "    .dataframe tbody tr th {\n",
       "        vertical-align: top;\n",
       "    }\n",
       "\n",
       "    .dataframe thead th {\n",
       "        text-align: right;\n",
       "    }\n",
       "</style>\n",
       "<table border=\"1\" class=\"dataframe\">\n",
       "  <thead>\n",
       "    <tr style=\"text-align: right;\">\n",
       "      <th></th>\n",
       "      <th>STUDENT</th>\n",
       "      <th>GRAD_SEM</th>\n",
       "      <th>MD</th>\n",
       "      <th>104</th>\n",
       "      <th>105</th>\n",
       "      <th>140</th>\n",
       "      <th>143</th>\n",
       "      <th>145</th>\n",
       "      <th>150</th>\n",
       "      <th>151</th>\n",
       "      <th>...</th>\n",
       "      <th>317</th>\n",
       "      <th>350</th>\n",
       "      <th>365</th>\n",
       "      <th>373</th>\n",
       "      <th>385</th>\n",
       "      <th>414</th>\n",
       "      <th>415</th>\n",
       "      <th>435</th>\n",
       "      <th>436</th>\n",
       "      <th>GRAD</th>\n",
       "    </tr>\n",
       "  </thead>\n",
       "  <tbody>\n",
       "    <tr>\n",
       "      <th>0</th>\n",
       "      <td>0</td>\n",
       "      <td>8.0</td>\n",
       "      <td>CHEM</td>\n",
       "      <td>0.0</td>\n",
       "      <td>0.0</td>\n",
       "      <td>0.0</td>\n",
       "      <td>0.0</td>\n",
       "      <td>0.0</td>\n",
       "      <td>0.0</td>\n",
       "      <td>0.0</td>\n",
       "      <td>...</td>\n",
       "      <td>0.0</td>\n",
       "      <td>0.0</td>\n",
       "      <td>0.0</td>\n",
       "      <td>0.0</td>\n",
       "      <td>0.0</td>\n",
       "      <td>0.0</td>\n",
       "      <td>0.0</td>\n",
       "      <td>0.0</td>\n",
       "      <td>0.0</td>\n",
       "      <td>1</td>\n",
       "    </tr>\n",
       "    <tr>\n",
       "      <th>5</th>\n",
       "      <td>3</td>\n",
       "      <td>NaN</td>\n",
       "      <td>LAS S</td>\n",
       "      <td>0.0</td>\n",
       "      <td>0.0</td>\n",
       "      <td>0.0</td>\n",
       "      <td>0.0</td>\n",
       "      <td>0.0</td>\n",
       "      <td>0.0</td>\n",
       "      <td>0.0</td>\n",
       "      <td>...</td>\n",
       "      <td>0.0</td>\n",
       "      <td>0.0</td>\n",
       "      <td>0.0</td>\n",
       "      <td>0.0</td>\n",
       "      <td>0.0</td>\n",
       "      <td>0.0</td>\n",
       "      <td>0.0</td>\n",
       "      <td>0.0</td>\n",
       "      <td>0.0</td>\n",
       "      <td>0</td>\n",
       "    </tr>\n",
       "    <tr>\n",
       "      <th>6</th>\n",
       "      <td>4</td>\n",
       "      <td>8.0</td>\n",
       "      <td>COM S</td>\n",
       "      <td>0.0</td>\n",
       "      <td>0.0</td>\n",
       "      <td>0.0</td>\n",
       "      <td>0.0</td>\n",
       "      <td>0.0</td>\n",
       "      <td>0.0</td>\n",
       "      <td>0.0</td>\n",
       "      <td>...</td>\n",
       "      <td>0.0</td>\n",
       "      <td>0.0</td>\n",
       "      <td>0.0</td>\n",
       "      <td>0.0</td>\n",
       "      <td>0.0</td>\n",
       "      <td>0.0</td>\n",
       "      <td>0.0</td>\n",
       "      <td>0.0</td>\n",
       "      <td>0.0</td>\n",
       "      <td>1</td>\n",
       "    </tr>\n",
       "    <tr>\n",
       "      <th>7</th>\n",
       "      <td>4</td>\n",
       "      <td>8.0</td>\n",
       "      <td>COM S</td>\n",
       "      <td>0.0</td>\n",
       "      <td>0.0</td>\n",
       "      <td>0.0</td>\n",
       "      <td>0.0</td>\n",
       "      <td>0.0</td>\n",
       "      <td>0.0</td>\n",
       "      <td>0.0</td>\n",
       "      <td>...</td>\n",
       "      <td>0.0</td>\n",
       "      <td>0.0</td>\n",
       "      <td>0.0</td>\n",
       "      <td>0.0</td>\n",
       "      <td>0.0</td>\n",
       "      <td>0.0</td>\n",
       "      <td>0.0</td>\n",
       "      <td>0.0</td>\n",
       "      <td>0.0</td>\n",
       "      <td>1</td>\n",
       "    </tr>\n",
       "    <tr>\n",
       "      <th>8</th>\n",
       "      <td>4</td>\n",
       "      <td>8.0</td>\n",
       "      <td>COM S</td>\n",
       "      <td>0.0</td>\n",
       "      <td>0.0</td>\n",
       "      <td>0.0</td>\n",
       "      <td>0.0</td>\n",
       "      <td>0.0</td>\n",
       "      <td>0.0</td>\n",
       "      <td>0.0</td>\n",
       "      <td>...</td>\n",
       "      <td>0.0</td>\n",
       "      <td>0.0</td>\n",
       "      <td>0.0</td>\n",
       "      <td>0.0</td>\n",
       "      <td>0.0</td>\n",
       "      <td>0.0</td>\n",
       "      <td>0.0</td>\n",
       "      <td>0.0</td>\n",
       "      <td>0.0</td>\n",
       "      <td>1</td>\n",
       "    </tr>\n",
       "    <tr>\n",
       "      <th>...</th>\n",
       "      <td>...</td>\n",
       "      <td>...</td>\n",
       "      <td>...</td>\n",
       "      <td>...</td>\n",
       "      <td>...</td>\n",
       "      <td>...</td>\n",
       "      <td>...</td>\n",
       "      <td>...</td>\n",
       "      <td>...</td>\n",
       "      <td>...</td>\n",
       "      <td>...</td>\n",
       "      <td>...</td>\n",
       "      <td>...</td>\n",
       "      <td>...</td>\n",
       "      <td>...</td>\n",
       "      <td>...</td>\n",
       "      <td>...</td>\n",
       "      <td>...</td>\n",
       "      <td>...</td>\n",
       "      <td>...</td>\n",
       "      <td>...</td>\n",
       "    </tr>\n",
       "    <tr>\n",
       "      <th>30370</th>\n",
       "      <td>13060</td>\n",
       "      <td>10.0</td>\n",
       "      <td>ENGL</td>\n",
       "      <td>0.0</td>\n",
       "      <td>0.0</td>\n",
       "      <td>-1.0</td>\n",
       "      <td>0.0</td>\n",
       "      <td>0.0</td>\n",
       "      <td>0.0</td>\n",
       "      <td>0.0</td>\n",
       "      <td>...</td>\n",
       "      <td>0.0</td>\n",
       "      <td>0.0</td>\n",
       "      <td>0.0</td>\n",
       "      <td>0.0</td>\n",
       "      <td>0.0</td>\n",
       "      <td>0.0</td>\n",
       "      <td>0.0</td>\n",
       "      <td>0.0</td>\n",
       "      <td>0.0</td>\n",
       "      <td>0</td>\n",
       "    </tr>\n",
       "    <tr>\n",
       "      <th>30371</th>\n",
       "      <td>13060</td>\n",
       "      <td>10.0</td>\n",
       "      <td>ENGL</td>\n",
       "      <td>0.0</td>\n",
       "      <td>0.0</td>\n",
       "      <td>0.0</td>\n",
       "      <td>0.0</td>\n",
       "      <td>0.0</td>\n",
       "      <td>-2.5</td>\n",
       "      <td>0.0</td>\n",
       "      <td>...</td>\n",
       "      <td>0.0</td>\n",
       "      <td>0.0</td>\n",
       "      <td>0.0</td>\n",
       "      <td>0.0</td>\n",
       "      <td>0.0</td>\n",
       "      <td>0.0</td>\n",
       "      <td>0.0</td>\n",
       "      <td>0.0</td>\n",
       "      <td>0.0</td>\n",
       "      <td>0</td>\n",
       "    </tr>\n",
       "    <tr>\n",
       "      <th>30372</th>\n",
       "      <td>13061</td>\n",
       "      <td>NaN</td>\n",
       "      <td>PSYCH</td>\n",
       "      <td>0.0</td>\n",
       "      <td>0.0</td>\n",
       "      <td>0.0</td>\n",
       "      <td>0.0</td>\n",
       "      <td>0.0</td>\n",
       "      <td>2.0</td>\n",
       "      <td>0.0</td>\n",
       "      <td>...</td>\n",
       "      <td>0.0</td>\n",
       "      <td>0.0</td>\n",
       "      <td>0.0</td>\n",
       "      <td>0.0</td>\n",
       "      <td>0.0</td>\n",
       "      <td>0.0</td>\n",
       "      <td>0.0</td>\n",
       "      <td>0.0</td>\n",
       "      <td>0.0</td>\n",
       "      <td>0</td>\n",
       "    </tr>\n",
       "    <tr>\n",
       "      <th>30375</th>\n",
       "      <td>13063</td>\n",
       "      <td>9.0</td>\n",
       "      <td>MKT</td>\n",
       "      <td>0.0</td>\n",
       "      <td>0.0</td>\n",
       "      <td>0.0</td>\n",
       "      <td>0.0</td>\n",
       "      <td>0.0</td>\n",
       "      <td>0.0</td>\n",
       "      <td>5.0</td>\n",
       "      <td>...</td>\n",
       "      <td>0.0</td>\n",
       "      <td>0.0</td>\n",
       "      <td>0.0</td>\n",
       "      <td>0.0</td>\n",
       "      <td>0.0</td>\n",
       "      <td>0.0</td>\n",
       "      <td>0.0</td>\n",
       "      <td>0.0</td>\n",
       "      <td>0.0</td>\n",
       "      <td>0</td>\n",
       "    </tr>\n",
       "    <tr>\n",
       "      <th>30376</th>\n",
       "      <td>13063</td>\n",
       "      <td>9.0</td>\n",
       "      <td>MKT</td>\n",
       "      <td>0.0</td>\n",
       "      <td>0.0</td>\n",
       "      <td>0.0</td>\n",
       "      <td>0.0</td>\n",
       "      <td>0.0</td>\n",
       "      <td>2.0</td>\n",
       "      <td>0.0</td>\n",
       "      <td>...</td>\n",
       "      <td>0.0</td>\n",
       "      <td>0.0</td>\n",
       "      <td>0.0</td>\n",
       "      <td>0.0</td>\n",
       "      <td>0.0</td>\n",
       "      <td>0.0</td>\n",
       "      <td>0.0</td>\n",
       "      <td>0.0</td>\n",
       "      <td>0.0</td>\n",
       "      <td>0</td>\n",
       "    </tr>\n",
       "  </tbody>\n",
       "</table>\n",
       "<p>18088 rows × 32 columns</p>\n",
       "</div>"
      ],
      "text/plain": [
       "       STUDENT  GRAD_SEM     MD  104  105  140  143  145  150  151  ...  317  \\\n",
       "0            0       8.0   CHEM  0.0  0.0  0.0  0.0  0.0  0.0  0.0  ...  0.0   \n",
       "5            3       NaN  LAS S  0.0  0.0  0.0  0.0  0.0  0.0  0.0  ...  0.0   \n",
       "6            4       8.0  COM S  0.0  0.0  0.0  0.0  0.0  0.0  0.0  ...  0.0   \n",
       "7            4       8.0  COM S  0.0  0.0  0.0  0.0  0.0  0.0  0.0  ...  0.0   \n",
       "8            4       8.0  COM S  0.0  0.0  0.0  0.0  0.0  0.0  0.0  ...  0.0   \n",
       "...        ...       ...    ...  ...  ...  ...  ...  ...  ...  ...  ...  ...   \n",
       "30370    13060      10.0   ENGL  0.0  0.0 -1.0  0.0  0.0  0.0  0.0  ...  0.0   \n",
       "30371    13060      10.0   ENGL  0.0  0.0  0.0  0.0  0.0 -2.5  0.0  ...  0.0   \n",
       "30372    13061       NaN  PSYCH  0.0  0.0  0.0  0.0  0.0  2.0  0.0  ...  0.0   \n",
       "30375    13063       9.0    MKT  0.0  0.0  0.0  0.0  0.0  0.0  5.0  ...  0.0   \n",
       "30376    13063       9.0    MKT  0.0  0.0  0.0  0.0  0.0  2.0  0.0  ...  0.0   \n",
       "\n",
       "       350  365  373  385  414  415  435  436  GRAD  \n",
       "0      0.0  0.0  0.0  0.0  0.0  0.0  0.0  0.0     1  \n",
       "5      0.0  0.0  0.0  0.0  0.0  0.0  0.0  0.0     0  \n",
       "6      0.0  0.0  0.0  0.0  0.0  0.0  0.0  0.0     1  \n",
       "7      0.0  0.0  0.0  0.0  0.0  0.0  0.0  0.0     1  \n",
       "8      0.0  0.0  0.0  0.0  0.0  0.0  0.0  0.0     1  \n",
       "...    ...  ...  ...  ...  ...  ...  ...  ...   ...  \n",
       "30370  0.0  0.0  0.0  0.0  0.0  0.0  0.0  0.0     0  \n",
       "30371  0.0  0.0  0.0  0.0  0.0  0.0  0.0  0.0     0  \n",
       "30372  0.0  0.0  0.0  0.0  0.0  0.0  0.0  0.0     0  \n",
       "30375  0.0  0.0  0.0  0.0  0.0  0.0  0.0  0.0     0  \n",
       "30376  0.0  0.0  0.0  0.0  0.0  0.0  0.0  0.0     0  \n",
       "\n",
       "[18088 rows x 32 columns]"
      ]
     },
     "execution_count": 47,
     "metadata": {},
     "output_type": "execute_result"
    }
   ],
   "source": [
    "# We add the final column indicated if a student gradudated within 8 full semesters (0 = no, 1 = yes)\n",
    "df['GRAD'] = np.where(df['GRAD_SEM'] <= 8, 1, 0)"
   ]
  },
  {
   "cell_type": "code",
   "execution_count": 48,
   "id": "ba5bf4dc-067d-4169-b7b5-a0e8791e28bf",
   "metadata": {},
   "outputs": [],
   "source": [
    "# Remove the GRAD_SEM colum as it is no longer needed\n",
    "df.drop('GRAD_SEM',axis=1,inplace=True)"
   ]
  },
  {
   "cell_type": "code",
   "execution_count": 52,
   "id": "be7e2094-ea2c-48ee-b7ee-f864264c1f0b",
   "metadata": {},
   "outputs": [
    {
     "ename": "TypeError",
     "evalue": "abs() takes exactly one argument (0 given)",
     "output_type": "error",
     "traceback": [
      "\u001b[1;31m---------------------------------------------------------------------------\u001b[0m",
      "\u001b[1;31mTypeError\u001b[0m                                 Traceback (most recent call last)",
      "Cell \u001b[1;32mIn[52], line 4\u001b[0m\n\u001b[0;32m      1\u001b[0m \u001b[38;5;66;03m# We now group by student, choosing the max value in each column\u001b[39;00m\n\u001b[0;32m      2\u001b[0m df \u001b[38;5;241m=\u001b[39m df\u001b[38;5;241m.\u001b[39mgroupby(\u001b[38;5;124m'\u001b[39m\u001b[38;5;124mSTUDENT\u001b[39m\u001b[38;5;124m'\u001b[39m)\u001b[38;5;241m.\u001b[39magg({\n\u001b[0;32m      3\u001b[0m     \u001b[38;5;124m'\u001b[39m\u001b[38;5;124mvalue_str\u001b[39m\u001b[38;5;124m'\u001b[39m: \u001b[38;5;124m'\u001b[39m\u001b[38;5;124mfirst\u001b[39m\u001b[38;5;124m'\u001b[39m,\n\u001b[1;32m----> 4\u001b[0m     \u001b[38;5;124m'\u001b[39m\u001b[38;5;124mvalue_int\u001b[39m\u001b[38;5;124m'\u001b[39m: \u001b[38;5;28;43mabs\u001b[39;49m\u001b[43m(\u001b[49m\u001b[43m)\u001b[49m\u001b[38;5;241m.\u001b[39midmax() \n\u001b[0;32m      5\u001b[0m })\u001b[38;5;241m.\u001b[39mreset_index()\n",
      "\u001b[1;31mTypeError\u001b[0m: abs() takes exactly one argument (0 given)"
     ]
    }
   ],
   "source": [
    "# We now group by student, choosing the max value in each column\n",
    "df = df.groupby('STUDENT').agg({\n",
    "    'value_str': 'first',\n",
    "    'value_int': abs().idmax() \n",
    "}).reset_index()"
   ]
  },
  {
   "cell_type": "code",
   "execution_count": 43,
   "id": "b9530fe0-90bf-406a-b521-1d815b6c7c4b",
   "metadata": {},
   "outputs": [],
   "source": [
    "df.to_csv('lee_final_dataset_11_16.csv')"
   ]
  }
 ],
 "metadata": {
  "kernelspec": {
   "display_name": "Python 3 (ipykernel)",
   "language": "python",
   "name": "python3"
  },
  "language_info": {
   "codemirror_mode": {
    "name": "ipython",
    "version": 3
   },
   "file_extension": ".py",
   "mimetype": "text/x-python",
   "name": "python",
   "nbconvert_exporter": "python",
   "pygments_lexer": "ipython3",
   "version": "3.12.5"
  }
 },
 "nbformat": 4,
 "nbformat_minor": 5
}
