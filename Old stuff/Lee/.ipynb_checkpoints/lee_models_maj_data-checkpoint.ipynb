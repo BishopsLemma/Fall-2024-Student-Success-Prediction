{
 "cells": [
  {
   "cell_type": "code",
<<<<<<< Updated upstream
   "execution_count": 2,
=======
   "execution_count": 10,
>>>>>>> Stashed changes
   "id": "3578f778-68bb-4f66-88b0-578c4bfbecc9",
   "metadata": {},
   "outputs": [],
   "source": [
    "#import data handling libraries\n",
    "import pandas as pd\n",
    "import numpy as np\n",
    "\n",
    "#import visualization libraries\n",
    "import matplotlib.pyplot as plt\n",
    "import seaborn as sns\n",
    "\n",
    "#import machine learning libraries\n",
    "import xgboost as xgb\n",
    "from sklearn.model_selection import train_test_split, cross_val_score\n",
    "from sklearn.preprocessing import StandardScaler\n",
    "from sklearn.metrics import accuracy_score, precision_score, recall_score, f1_score, classification_report, confusion_matrix\n",
    "from sklearn.ensemble import RandomForestClassifier\n",
    "from sklearn.model_selection import KFold\n",
    "from sklearn.model_selection import StratifiedKFold\n",
    "from sklearn.model_selection import GridSearchCV\n",
    "from sklearn.model_selection import RandomizedSearchCV\n",
    "\n",
    "from sklearn.neighbors import KNeighborsClassifier\n",
    "from sklearn.discriminant_analysis import LinearDiscriminantAnalysis\n",
    "from sklearn.discriminant_analysis import QuadraticDiscriminantAnalysis\n",
    "from sklearn.naive_bayes import GaussianNB\n",
    "from sklearn.linear_model import LogisticRegression\n",
    "from sklearn.svm import LinearSVC\n",
    "from sklearn.svm import SVC\n",
    "from sklearn.ensemble import RandomForestClassifier\n",
    "\n",
    "from sklearn.pipeline import Pipeline\n",
    "from sklearn.preprocessing import PolynomialFeatures\n",
    "from sklearn.preprocessing import StandardScaler\n",
    "\n",
    "from sklearn.feature_selection import SelectKBest, f_classif"
   ]
  },
  {
   "cell_type": "code",
<<<<<<< Updated upstream
   "execution_count": 3,
=======
   "execution_count": 11,
>>>>>>> Stashed changes
   "id": "6bc3d250-b08f-41f5-a185-f33ada105e30",
   "metadata": {},
   "outputs": [
    {
     "data": {
      "text/html": [
       "<div>\n",
       "<style scoped>\n",
       "    .dataframe tbody tr th:only-of-type {\n",
       "        vertical-align: middle;\n",
       "    }\n",
       "\n",
       "    .dataframe tbody tr th {\n",
       "        vertical-align: top;\n",
       "    }\n",
       "\n",
       "    .dataframe thead th {\n",
       "        text-align: right;\n",
       "    }\n",
       "</style>\n",
       "<table border=\"1\" class=\"dataframe\">\n",
       "  <thead>\n",
       "    <tr style=\"text-align: right;\">\n",
       "      <th></th>\n",
       "      <th>STUDENT</th>\n",
       "      <th>MAJOR</th>\n",
       "      <th>201</th>\n",
       "      <th>301</th>\n",
       "      <th>302</th>\n",
       "      <th>304</th>\n",
       "      <th>314</th>\n",
       "      <th>317</th>\n",
       "      <th>350</th>\n",
       "      <th>365</th>\n",
       "      <th>373</th>\n",
       "      <th>385</th>\n",
       "      <th>414</th>\n",
       "      <th>415</th>\n",
       "      <th>435</th>\n",
       "      <th>436</th>\n",
       "      <th>GRADUATE</th>\n",
       "    </tr>\n",
       "  </thead>\n",
       "  <tbody>\n",
       "    <tr>\n",
       "      <th>0</th>\n",
       "      <td>9</td>\n",
       "      <td>Physics</td>\n",
       "      <td>6.0</td>\n",
       "      <td>0.0</td>\n",
       "      <td>0.0</td>\n",
       "      <td>0.0</td>\n",
       "      <td>0.0</td>\n",
       "      <td>7.0</td>\n",
       "      <td>0.0</td>\n",
       "      <td>0.0</td>\n",
       "      <td>0.0</td>\n",
       "      <td>5.0</td>\n",
       "      <td>0.0</td>\n",
       "      <td>0.0</td>\n",
       "      <td>0.0</td>\n",
       "      <td>0.0</td>\n",
       "      <td>1</td>\n",
       "    </tr>\n",
       "    <tr>\n",
       "      <th>1</th>\n",
       "      <td>27</td>\n",
       "      <td>Computer Science</td>\n",
       "      <td>0.0</td>\n",
       "      <td>0.0</td>\n",
       "      <td>0.0</td>\n",
       "      <td>0.0</td>\n",
       "      <td>0.0</td>\n",
       "      <td>6.0</td>\n",
       "      <td>0.0</td>\n",
       "      <td>0.0</td>\n",
       "      <td>0.0</td>\n",
       "      <td>0.0</td>\n",
       "      <td>0.0</td>\n",
       "      <td>0.0</td>\n",
       "      <td>0.0</td>\n",
       "      <td>0.0</td>\n",
       "      <td>1</td>\n",
       "    </tr>\n",
       "    <tr>\n",
       "      <th>2</th>\n",
       "      <td>33</td>\n",
       "      <td>Nutritional Science</td>\n",
       "      <td>3.0</td>\n",
       "      <td>0.0</td>\n",
       "      <td>0.0</td>\n",
       "      <td>0.0</td>\n",
       "      <td>0.0</td>\n",
       "      <td>0.0</td>\n",
       "      <td>0.0</td>\n",
       "      <td>0.0</td>\n",
       "      <td>0.0</td>\n",
       "      <td>0.0</td>\n",
       "      <td>0.0</td>\n",
       "      <td>0.0</td>\n",
       "      <td>0.0</td>\n",
       "      <td>0.0</td>\n",
       "      <td>0</td>\n",
       "    </tr>\n",
       "    <tr>\n",
       "      <th>3</th>\n",
       "      <td>51</td>\n",
       "      <td>Mathematics</td>\n",
       "      <td>0.0</td>\n",
       "      <td>0.0</td>\n",
       "      <td>0.0</td>\n",
       "      <td>0.0</td>\n",
       "      <td>0.0</td>\n",
       "      <td>0.0</td>\n",
       "      <td>0.0</td>\n",
       "      <td>0.0</td>\n",
       "      <td>7.0</td>\n",
       "      <td>0.0</td>\n",
       "      <td>0.0</td>\n",
       "      <td>0.0</td>\n",
       "      <td>0.0</td>\n",
       "      <td>0.0</td>\n",
       "      <td>1</td>\n",
       "    </tr>\n",
       "    <tr>\n",
       "      <th>4</th>\n",
       "      <td>75</td>\n",
       "      <td>Mathematics</td>\n",
       "      <td>4.0</td>\n",
       "      <td>6.0</td>\n",
       "      <td>0.0</td>\n",
       "      <td>0.0</td>\n",
       "      <td>0.0</td>\n",
       "      <td>5.0</td>\n",
       "      <td>0.0</td>\n",
       "      <td>8.0</td>\n",
       "      <td>0.0</td>\n",
       "      <td>8.0</td>\n",
       "      <td>7.0</td>\n",
       "      <td>0.0</td>\n",
       "      <td>7.0</td>\n",
       "      <td>8.0</td>\n",
       "      <td>1</td>\n",
       "    </tr>\n",
       "  </tbody>\n",
       "</table>\n",
       "</div>"
      ],
      "text/plain": [
       "   STUDENT                MAJOR  201  301  302  304  314  317  350  365  373  \\\n",
       "0        9              Physics  6.0  0.0  0.0  0.0  0.0  7.0  0.0  0.0  0.0   \n",
       "1       27     Computer Science  0.0  0.0  0.0  0.0  0.0  6.0  0.0  0.0  0.0   \n",
       "2       33  Nutritional Science  3.0  0.0  0.0  0.0  0.0  0.0  0.0  0.0  0.0   \n",
       "3       51          Mathematics  0.0  0.0  0.0  0.0  0.0  0.0  0.0  0.0  7.0   \n",
       "4       75          Mathematics  4.0  6.0  0.0  0.0  0.0  5.0  0.0  8.0  0.0   \n",
       "\n",
       "   385  414  415  435  436  GRADUATE  \n",
       "0  5.0  0.0  0.0  0.0  0.0         1  \n",
       "1  0.0  0.0  0.0  0.0  0.0         1  \n",
       "2  0.0  0.0  0.0  0.0  0.0         0  \n",
       "3  0.0  0.0  0.0  0.0  0.0         1  \n",
       "4  8.0  7.0  0.0  7.0  8.0         1  "
      ]
     },
<<<<<<< Updated upstream
     "execution_count": 3,
=======
     "execution_count": 11,
>>>>>>> Stashed changes
     "metadata": {},
     "output_type": "execute_result"
    }
   ],
   "source": [
    "# Read in the major math courses data set\n",
    "df = pd.read_csv('lee_maj_dataset.csv')\n",
    "df.head()"
   ]
  },
  {
   "cell_type": "code",
<<<<<<< Updated upstream
   "execution_count": 4,
=======
   "execution_count": 12,
>>>>>>> Stashed changes
   "id": "a88e7dff-cda0-4771-9aa4-d0e64a65de73",
   "metadata": {},
   "outputs": [
    {
     "name": "stdout",
     "output_type": "stream",
     "text": [
<<<<<<< Updated upstream
      "Total Number of Students: 1015\n",
      "Number of Majors: 55\n",
      "Graduation Rate: 0.6394088669950739\n"
=======
      "Total Number of Students: 1017\n",
      "Number of Majors: 55\n",
      "Graduation Rate: 0.640117994100295\n"
>>>>>>> Stashed changes
     ]
    }
   ],
   "source": [
    "# Get some basic summary stats\n",
    "print('Total Number of Students:', len(df))\n",
    "print('Number of Majors:', df['MAJOR'].nunique())\n",
    "print('Graduation Rate:', df['GRADUATE'].mean() )"
   ]
  },
  {
   "cell_type": "code",
<<<<<<< Updated upstream
   "execution_count": 5,
=======
   "execution_count": 13,
>>>>>>> Stashed changes
   "id": "2a6d2d6e-f03f-4435-b04e-b9cfe6ad593f",
   "metadata": {},
   "outputs": [
    {
     "data": {
      "text/plain": [
       "MAJOR\n",
<<<<<<< Updated upstream
       "Mathematics                     420\n",
       "Physics                         129\n",
       "Computer Science                126\n",
       "Statistics                      109\n",
       "Liberal Arts and Sciences        39\n",
=======
       "Mathematics                     421\n",
       "Physics                         129\n",
       "Computer Science                126\n",
       "Statistics                      109\n",
       "Liberal Arts and Sciences        40\n",
>>>>>>> Stashed changes
       "Economics                        35\n",
       "Meteorology                      21\n",
       "Chemisty                         18\n",
       "Psychology                        9\n",
       "Data Science                      8\n",
       "Biochemistry                      8\n",
       "Biology                           6\n",
       "Finance                           5\n",
       "Mechanical Engineering            4\n",
       "Sociology                         4\n",
       "Political Science                 4\n",
       "World Languages and Cultures      4\n",
       "Chemical Engineering              4\n",
       "Systems Engineering               3\n",
       "Interdisciplinary Studies         3\n",
       "Materials Engineering             3\n",
       "Philosophy                        3\n",
       "Music                             3\n",
       "Genetics                          3\n",
       "Aerospace Engineering             3\n",
       "Name: count, dtype: int64"
      ]
     },
<<<<<<< Updated upstream
     "execution_count": 5,
=======
     "execution_count": 13,
>>>>>>> Stashed changes
     "metadata": {},
     "output_type": "execute_result"
    }
   ],
   "source": [
    "# Top 25 Majors\n",
    "maj_val = df['MAJOR'].value_counts()\n",
    "maj_val.iloc[:25]"
   ]
  },
  {
   "cell_type": "code",
<<<<<<< Updated upstream
   "execution_count": 6,
=======
   "execution_count": 14,
>>>>>>> Stashed changes
   "id": "d5c24897-7228-4b00-b7b7-673a73f1e50f",
   "metadata": {},
   "outputs": [
    {
     "name": "stdout",
     "output_type": "stream",
     "text": [
      "Total enrollment for 201 is 703\n",
<<<<<<< Updated upstream
      "Total enrollment for 301 is 433\n",
      "Total enrollment for 302 is 76\n",
      "Total enrollment for 304 is 118\n",
      "Total enrollment for 314 is 163\n",
      "Total enrollment for 317 is 635\n",
      "Total enrollment for 350 is 113\n",
      "Total enrollment for 365 is 91\n",
      "Total enrollment for 373 is 114\n",
      "Total enrollment for 385 is 219\n",
      "Total enrollment for 414 is 413\n",
      "Total enrollment for 415 is 89\n",
=======
      "Total enrollment for 301 is 434\n",
      "Total enrollment for 302 is 76\n",
      "Total enrollment for 304 is 119\n",
      "Total enrollment for 314 is 163\n",
      "Total enrollment for 317 is 636\n",
      "Total enrollment for 350 is 113\n",
      "Total enrollment for 365 is 92\n",
      "Total enrollment for 373 is 115\n",
      "Total enrollment for 385 is 219\n",
      "Total enrollment for 414 is 414\n",
      "Total enrollment for 415 is 90\n",
>>>>>>> Stashed changes
      "Total enrollment for 435 is 190\n",
      "Total enrollment for 436 is 177\n"
     ]
    }
   ],
   "source": [
    "# Total enrollment for each course\n",
    "courses = df.columns.tolist()[2:16]\n",
    "for x in courses:\n",
    "    print('Total enrollment for', x , 'is', np.count_nonzero(df[x]) )"
   ]
  },
  {
   "cell_type": "code",
<<<<<<< Updated upstream
   "execution_count": 7,
=======
   "execution_count": 15,
>>>>>>> Stashed changes
   "id": "ccea8c4d-cc58-4bba-8bce-d2544302a0ac",
   "metadata": {},
   "outputs": [
    {
     "name": "stdout",
     "output_type": "stream",
     "text": [
      "Success rate for 201 is 0.9345661450924608\n",
<<<<<<< Updated upstream
      "Success rate for 301 is 0.8729792147806005\n",
      "Success rate for 302 is 0.9210526315789473\n",
      "Success rate for 304 is 0.9576271186440678\n",
      "Success rate for 314 is 0.9141104294478528\n",
      "Success rate for 317 is 0.9007874015748032\n",
      "Success rate for 350 is 0.9380530973451328\n",
      "Success rate for 365 is 0.967032967032967\n",
      "Success rate for 373 is 0.9385964912280702\n",
      "Success rate for 385 is 0.9360730593607306\n",
      "Success rate for 414 is 0.8789346246973365\n",
      "Success rate for 415 is 0.9213483146067416\n",
=======
      "Success rate for 301 is 0.8732718894009217\n",
      "Success rate for 302 is 0.9210526315789473\n",
      "Success rate for 304 is 0.957983193277311\n",
      "Success rate for 314 is 0.9141104294478528\n",
      "Success rate for 317 is 0.9009433962264151\n",
      "Success rate for 350 is 0.9380530973451328\n",
      "Success rate for 365 is 0.9565217391304348\n",
      "Success rate for 373 is 0.9391304347826087\n",
      "Success rate for 385 is 0.9360730593607306\n",
      "Success rate for 414 is 0.8768115942028986\n",
      "Success rate for 415 is 0.9222222222222223\n",
>>>>>>> Stashed changes
      "Success rate for 435 is 0.9368421052631579\n",
      "Success rate for 436 is 0.96045197740113\n"
     ]
    }
   ],
   "source": [
    "# Success Rate for each course\n",
    "for x in courses:\n",
    "    print('Success rate for', x , 'is', df[x].gt(0).sum()/np.count_nonzero(df[x]))"
   ]
  },
  {
   "cell_type": "code",
<<<<<<< Updated upstream
   "execution_count": 8,
=======
   "execution_count": 16,
>>>>>>> Stashed changes
   "id": "48b369e3-4909-4ba0-8962-4d329089936a",
   "metadata": {},
   "outputs": [],
   "source": [
    "# Create train-test split\n",
    "X = df.drop(['STUDENT','MAJOR','GRADUATE'], axis=1)\n",
    "y = df['GRADUATE']\n",
    "\n",
    "X_train, X_test, y_train, y_test = train_test_split(X, y, \n",
    "                                                    test_size=0.25, \n",
    "                                                    random_state=42,\n",
    "                                                    shuffle=True,\n",
    "                                                    stratify=y)"
   ]
  },
  {
   "cell_type": "code",
<<<<<<< Updated upstream
   "execution_count": 9,
=======
   "execution_count": 17,
>>>>>>> Stashed changes
   "id": "5dc0b02c-e47d-41b3-9e0d-37688bc91fa1",
   "metadata": {},
   "outputs": [
    {
     "name": "stdout",
     "output_type": "stream",
     "text": [
      "\n",
      "Feature importances for lda:\n",
<<<<<<< Updated upstream
      "304: 0.17654092076995032\n",
      "201: -0.08692971094664362\n",
      "414: 0.08586778683188855\n",
      "373: 0.07393852457400299\n",
      "317: 0.07349427576615612\n",
      "302: 0.07259117810946854\n",
      "350: 0.05575879678770327\n",
      "314: 0.05069359468140333\n",
      "385: 0.04924484188506754\n",
      "365: -0.04275081333094009\n",
      "435: 0.04064362207461165\n",
      "415: 0.011614999937928272\n",
      "301: 0.009351601261673097\n",
      "436: -0.008943559158237916\n",
      "\n",
      "Feature importances for log_reg:\n",
      "304: 0.2504296195841493\n",
      "302: 0.10077211472968549\n",
      "414: 0.08907403147143246\n",
      "373: 0.08726549577770826\n",
      "201: -0.07964893498429966\n",
      "317: 0.07064555215306627\n",
      "314: 0.0685797678289294\n",
      "350: 0.06697035986466725\n",
      "365: -0.04983276033585484\n",
      "435: 0.0489854431250828\n",
      "385: 0.04816151675568201\n",
      "415: 0.023043808510155677\n",
      "436: -0.014351437862566511\n",
      "301: 0.006216709613467106\n",
      "\n",
      "Feature importances for svc_linear:\n",
      "304: 0.08170431238871902\n",
      "201: -0.036696216491700843\n",
      "414: 0.03658276981091624\n",
      "302: 0.033393581369562046\n",
      "373: 0.0321994029927066\n",
      "317: 0.030787898685899616\n",
      "350: 0.024493853650552778\n",
      "314: 0.024028144405665003\n",
      "385: 0.021135831243259424\n",
      "365: -0.019856285490822325\n",
      "435: 0.019344012526682407\n",
      "415: 0.007814301113778595\n",
      "436: -0.004676044087995535\n",
      "301: 0.0033502623201868507\n",
      "\n",
      "Feature importances for lda_poly:\n",
      "314: 0.8368568659762345\n",
      "436: 0.40212282798316457\n",
      "317: 0.3739646383561819\n",
      "385: 0.3344963673871313\n",
      "415: 0.2750786449214704\n",
      "304: 0.23614209605980696\n",
      "414: 0.18522123185394945\n",
      "373: 0.1462536740218536\n",
      "350: 0.08068249429109034\n",
      "435: -0.06678265609676365\n",
      "302: -0.055437487786569005\n",
      "301: -0.043242262625524906\n",
      "365: 0.01837650576026345\n",
      "201: 1.0307350479527415e-17\n",
      "\n",
      "Feature importances for log_reg_poly:\n",
      "385: 5.8826721616026365\n",
      "436: 5.59031839510243\n",
      "314: 4.342531782223164\n",
      "373: 3.2825126138825187\n",
      "201: 2.5113676551311594\n",
      "317: 1.462759407584363\n",
      "415: 1.0272420439185537\n",
      "435: 0.649721834996943\n",
      "365: -0.5055716296227458\n",
      "301: -0.2616442150587275\n",
      "350: -0.17462890582620902\n",
      "304: -0.14771701909187282\n",
      "414: 0.08222720166683536\n",
      "302: 0.015524570045145817\n"
=======
      "304: 0.18352775617213835\n",
      "414: 0.08310323254996788\n",
      "201: -0.0809249618002966\n",
      "373: 0.07786575414270319\n",
      "302: 0.0729090268435322\n",
      "365: -0.06439681088395058\n",
      "314: 0.058294180310927535\n",
      "317: 0.058156066181880114\n",
      "350: 0.05518012067157138\n",
      "385: 0.04979832397785358\n",
      "435: 0.0431947092755703\n",
      "436: -0.014778462150086784\n",
      "415: 0.014110740982337036\n",
      "301: 0.011903173329759504\n",
      "\n",
      "Feature importances for log_reg:\n",
      "304: 0.2652408902986537\n",
      "302: 0.10742715128685405\n",
      "373: 0.09017624774378609\n",
      "414: 0.08836613739296406\n",
      "314: 0.08256198896370337\n",
      "365: -0.07806301432647432\n",
      "201: -0.07240152997242852\n",
      "350: 0.06754584083209235\n",
      "317: 0.05327405739073437\n",
      "435: 0.05107454474951201\n",
      "385: 0.050084155286559115\n",
      "415: 0.029703246863048795\n",
      "436: -0.02147902370564699\n",
      "301: 0.009314885139956736\n",
      "\n",
      "Feature importances for svc_linear:\n",
      "304: 0.08644792968610251\n",
      "414: 0.035772514658870935\n",
      "302: 0.03462022617693658\n",
      "201: -0.03400760186710467\n",
      "373: 0.03351983697625284\n",
      "365: -0.029179121370486696\n",
      "314: 0.028242117422274258\n",
      "350: 0.024820042901929462\n",
      "317: 0.023936394273441037\n",
      "385: 0.021630287629529458\n",
      "435: 0.02004181966612827\n",
      "415: 0.01031079486940674\n",
      "436: -0.006867748621223095\n",
      "301: 0.004555187411277539\n",
      "\n",
      "Feature importances for lda_poly:\n",
      "314: 0.784421825984668\n",
      "317: 0.502085276326042\n",
      "415: 0.37263700864817834\n",
      "385: 0.33560422214333846\n",
      "304: 0.3236666995192208\n",
      "436: 0.2997855301276693\n",
      "373: 0.23564755350310446\n",
      "414: 0.22186455378714043\n",
      "435: 0.1525045646820311\n",
      "301: -0.10738345091329031\n",
      "302: -0.08767195653561755\n",
      "350: 0.050251083594674756\n",
      "365: -0.04762379325465098\n",
      "201: 1.6712854839207932e-17\n",
      "\n",
      "Feature importances for log_reg_poly:\n",
      "314: 3.391256940729887\n",
      "436: 2.377205530403878\n",
      "373: 1.8318142991483086\n",
      "201: 1.6034263901027161\n",
      "317: 1.3763543032326107\n",
      "385: 1.3743429423168307\n",
      "415: 0.8574260039421181\n",
      "414: 0.6752108770861113\n",
      "435: 0.4664490715553901\n",
      "301: -0.445143993022134\n",
      "365: -0.315147692658874\n",
      "304: 0.17229335839476742\n",
      "350: -0.10247543233756544\n",
      "302: -0.09032459035491594\n"
>>>>>>> Stashed changes
     ]
    }
   ],
   "source": [
    "classifiers = {\n",
    "    # Putting linear decision boundary classifiers first\n",
    "    'lda' : LinearDiscriminantAnalysis(),\n",
    "    'log_reg' : LogisticRegression(penalty=None, max_iter= 100000),\n",
    "     'svc_linear' : LinearSVC(dual = 'auto'),\n",
    "\n",
    "    # Quadratic boundaries\n",
    "    'qda' : QuadraticDiscriminantAnalysis(),\n",
    "    'lda_poly' : Pipeline([('scale', StandardScaler()),('poly',PolynomialFeatures(2)),('lda', LinearDiscriminantAnalysis())]),\n",
    "    'log_reg_poly' : Pipeline([('scale', StandardScaler()),('poly',PolynomialFeatures(2)),('log_reg', LogisticRegression(penalty=None, max_iter= 100000))]),\n",
    "    'gnb' : GaussianNB(),\n",
    "\n",
    "    # Complex boundaries\n",
    "    'knn' : Pipeline([('scale', StandardScaler()),('knn', KNeighborsClassifier())]),   \n",
    "    'svc_rbf' : Pipeline([('scale', StandardScaler()),('svc',SVC(kernel= 'rbf'))])\n",
    "}\n",
    "importances = {}\n",
    "\n",
    "for model_name, model in classifiers.items():\n",
    "    model.fit(X_train, y_train)\n",
    "    if hasattr(model, 'named_steps'):\n",
    "        # For pipelines, get the final step\n",
    "        final_model = model.named_steps[list(model.named_steps.keys())[-1]]\n",
    "    else:\n",
    "        final_model = model\n",
    "    \n",
    "    if hasattr(final_model, 'feature_importances_'):\n",
    "        importances[model_name] = final_model.feature_importances_\n",
    "    elif hasattr(final_model, 'coef_'):\n",
    "        importances[model_name] = final_model.coef_[0]  # For linear models\n",
    "        \n",
    "# Print feature importances or coefficients ordered by absolute value\n",
    "for model_name, importance in importances.items():\n",
    "    print(f\"\\nFeature importances for {model_name}:\")\n",
    "    sorted_importances = sorted(zip(X.columns, importance), key=lambda x: abs(x[1]), reverse=True)\n",
    "    for feature_name, value in sorted_importances:\n",
    "        print(f\"{feature_name}: {value}\")"
   ]
  },
  {
   "cell_type": "code",
<<<<<<< Updated upstream
   "execution_count": 10,
=======
   "execution_count": 18,
>>>>>>> Stashed changes
   "id": "53e59d91-57e1-438a-b1d9-ea525e4d89e4",
   "metadata": {},
   "outputs": [
    {
     "name": "stdout",
     "output_type": "stream",
     "text": [
<<<<<<< Updated upstream
      "lda: Mean -logloss = 0.6557, Std = 0.0185\n",
      "log_reg: Mean -logloss = 0.6583, Std = 0.0235\n",
      "svc_linear: Mean -logloss = 0.6531, Std = 0.0146\n",
      "qda: Mean -logloss = 0.5900, Std = 0.0128\n",
      "lda_poly: Mean -logloss = 0.6465, Std = 0.0214\n",
      "log_reg_poly: Mean -logloss = 0.6531, Std = 0.0349\n",
      "gnb: Mean -logloss = 0.5887, Std = 0.0248\n",
      "knn: Mean -logloss = 0.6531, Std = 0.0159\n",
      "svc_rbf: Mean -logloss = 0.7122, Std = 0.0245\n",
      "lda: Mean -logloss = 0.6557, Std = 0.0185\n",
      "log_reg: Mean -logloss = 0.6583, Std = 0.0235\n",
      "svc_linear: Mean -logloss = 0.6531, Std = 0.0146\n",
      "qda: Mean -logloss = 0.5900, Std = 0.0128\n",
      "lda_poly: Mean -logloss = 0.6465, Std = 0.0214\n",
      "log_reg_poly: Mean -logloss = 0.6531, Std = 0.0349\n",
      "gnb: Mean -logloss = 0.5887, Std = 0.0248\n",
      "knn: Mean -logloss = 0.6531, Std = 0.0159\n",
      "svc_rbf: Mean -logloss = 0.7122, Std = 0.0245\n"
=======
      "lda: Mean -logloss = 0.6535, Std = 0.0243\n",
      "log_reg: Mean -logloss = 0.6588, Std = 0.0240\n",
      "svc_linear: Mean -logloss = 0.6456, Std = 0.0223\n",
      "qda: Mean -logloss = 0.5866, Std = 0.0197\n",
      "lda_poly: Mean -logloss = 0.6601, Std = 0.0125\n",
      "log_reg_poly: Mean -logloss = 0.6457, Std = 0.0229\n",
      "gnb: Mean -logloss = 0.5866, Std = 0.0127\n",
      "knn: Mean -logloss = 0.6496, Std = 0.0284\n",
      "svc_rbf: Mean -logloss = 0.6942, Std = 0.0115\n"
>>>>>>> Stashed changes
     ]
    }
   ],
   "source": [
    "cv_results = {}\n",
    "for model_name, model in classifiers.items():\n",
    "    scores = cross_val_score(model, \n",
    "                             X_train, \n",
    "                             y_train, \n",
    "                             cv=5,\n",
    "                             scoring='accuracy')\n",
    "    cv_results[model_name] = scores\n",
<<<<<<< Updated upstream
    "    print(f\"{model_name}: Mean -logloss = {scores.mean():.4f}, Std = {scores.std():.4f}\")\n",
    "\n",
    "# Print the cross-validation results\n",
    "for model_name, scores in cv_results.items():\n",
=======
>>>>>>> Stashed changes
    "    print(f\"{model_name}: Mean -logloss = {scores.mean():.4f}, Std = {scores.std():.4f}\")"
   ]
  },
  {
   "cell_type": "code",
   "execution_count": null,
   "id": "ca0da4fb-d071-4e6a-8ebd-b3ba0a3bd715",
   "metadata": {},
   "outputs": [],
   "source": []
  }
 ],
 "metadata": {
  "kernelspec": {
   "display_name": "Python 3 (ipykernel)",
   "language": "python",
   "name": "python3"
  },
  "language_info": {
   "codemirror_mode": {
    "name": "ipython",
    "version": 3
   },
   "file_extension": ".py",
   "mimetype": "text/x-python",
   "name": "python",
   "nbconvert_exporter": "python",
   "pygments_lexer": "ipython3",
   "version": "3.12.5"
  }
 },
 "nbformat": 4,
 "nbformat_minor": 5
}
