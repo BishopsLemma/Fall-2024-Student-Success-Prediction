{
 "cells": [
  {
   "cell_type": "code",
   "execution_count": 1,
   "id": "1473cb81-cc3d-49fe-8ee2-e384244aab5d",
   "metadata": {},
   "outputs": [],
   "source": [
    "# Import data handling libraries\n",
    "import pandas as pd\n",
    "import numpy as np"
   ]
  },
  {
   "cell_type": "code",
   "execution_count": 2,
   "id": "7e48932a-bb44-4fe4-9d09-eb753c72b325",
   "metadata": {},
   "outputs": [],
   "source": [
    "# Read in the latest raw dataset\n",
    "df = pd.read_csv('data_set_11_17.csv')"
   ]
  },
  {
   "cell_type": "code",
   "execution_count": 3,
   "id": "81c70fe2-728c-4e44-aefd-e7412806be16",
   "metadata": {},
   "outputs": [],
   "source": [
    "# We will begin cleaning by removing unneeded columns\n",
    "column_remove =['MAJOR_COLL', 'CLSFN_YR', 'LEVEL', 'OFFER_DEPT_ABRVN', 'SECT', 'CRSE_TITLE', 'DEG_DATEDB', 'DEG_DESCR', \n",
    "                'LAST_RGST_TERM','CLSFN_YR.1', 'MAJOR_COLL.1', 'Workday Enrolled in Fall 2024', \n",
    "                'Workday Enrolled in Fall 2024 Class Standing', 'Workday Enrolled in Fall 2024 Primary Program of Study']\n",
    "df = df.drop(columns = column_remove)"
   ]
  },
  {
   "cell_type": "code",
   "execution_count": 4,
   "id": "9f1d5027-4081-4770-af05-0cca0b3cea04",
   "metadata": {},
   "outputs": [],
   "source": [
    "# Next task will be to recode how grades are reported, which will be done as follows:\n",
    "# C- or below = -1\n",
    "# Above C- = Satisfactory/Pass = 1\n",
    "grade_recode = {'C- OR BELOW':-1,'ABOVE C-':1,'Satisfactory/Pass':1}\n",
    "df['GRADE_CATGORY'] = df['GRADE_CATGORY'].map(pd.Series(grade_recode))"
   ]
  },
  {
   "cell_type": "code",
   "execution_count": 5,
   "id": "dcc9fbb8-4415-48e7-b822-68e2a9c13713",
   "metadata": {},
   "outputs": [],
   "source": [
    "# Next task will be to recode how years/semesters are repoted in the data\n",
    "# By a ''full'' semester we mean a 16 week semester - these are Fall/Spring at Iowa State\n",
    "# The Summer session is 8 weeks, so it will count as a ``half'' semester\n",
    "# Thus each year has a total of 2.5 semesters\n",
    "# The graduation rate at Iowa State is based on whether or not a student recieves a degree within 6 years\n",
    "# Thus we consider a graduation ``successful'' if it is completed within (2.5)*6 = 15 semesters of enrolling\n",
    "# Since our data for courses begins in Spring 2014, we will only consider those students the enrolled beginning with Summer 2008 \n",
    "# Those enrolled in Summer 2008 were present for half a semester, so we want to Summer 2008 to have the value 0.5 in the data\n",
    "# Following that we would then want Fall 2008 to have value 1.5 in the data as it is a full semester after Summer 2008\n",
    "# Similarly Spring 2009 should have value 2.5, Summer 2009 should have 3, Fall 2009 should be 4, and so on.\n",
    "# Thus we will recode semesters as follows:\n",
    "# Spring = 0, Summer = 0.5, Fall = 1.5\n",
    "# And then compute (2.5)*[YEAR - 2008] + SEMESTER to obtain our desired values for enrollment, when a course was taken, and graduation (if present)\n",
    "\n",
    "sem_list = ['ENTRY_SEM_CD', 'SEM_CD', 'SEM_CD.1']\n",
    "sem_recode = {'S': 0, '1': 0.5, 'F': 1.5}\n",
    "for x in sem_list:\n",
    "    df[x] = df[x].map(pd.Series(sem_recode))\n",
    "\n",
    "df['ENT_SEM'] = (5/2)*(df['ENTRY_CCYY'] - 2008) + df['ENTRY_SEM_CD']\n",
    "df['CRSE_SEM'] = (5/2)*(df['SEM_CCYY'] - 2008) + df['SEM_CD']\n",
    "df['GRAD_SEM'] = (5/2)*(df['SEM_CCYY.1'] - 2008) + df['SEM_CD.1']"
   ]
  },
  {
   "cell_type": "code",
   "execution_count": 6,
   "id": "9a269611-3108-4082-bf25-c4eb75dbeb40",
   "metadata": {},
   "outputs": [],
   "source": [
    "# We can now remove the year and semester columns \n",
    "year_sem_remove = ['ENTRY_CCYY','ENTRY_SEM_CD','SEM_CCYY','SEM_CD','SEM_CCYY.1','SEM_CD.1']\n",
    "df = df.drop(columns = year_sem_remove)"
   ]
  },
  {
   "cell_type": "code",
   "execution_count": 7,
   "id": "bd701a13-92bb-4e74-8f69-3a3bd22dcef2",
   "metadata": {},
   "outputs": [
    {
     "name": "stdout",
     "output_type": "stream",
     "text": [
      "13065\n",
      "30392\n"
     ]
    }
   ],
   "source": [
    "# Next, we will get the initial number of students and number of rows\n",
    "print(df[\"STUDENT\"].nunique())\n",
    "print(len(df))"
   ]
  },
  {
   "cell_type": "code",
   "execution_count": 8,
   "id": "1d653994-daba-4910-9f11-7b7bcee29733",
   "metadata": {},
   "outputs": [],
   "source": [
    "# Remove any graduate degress\n",
    "degree_remove = ['MS', 'MED', 'MAT', 'MEN', 'MFN', 'MBS', 'PHD', 'MFS', 'MHC', 'MAA', 'MBA', 'MFA', 'MA', 'MTR', 'MHO', 'DVM', 'MCP','MRE']\n",
    "for x in degree_remove:\n",
    "    df = df.drop(df[df['DEG_CD'] == x].index)"
   ]
  },
  {
   "cell_type": "code",
   "execution_count": 9,
   "id": "3cd5a73e-5804-4b23-8a19-9332cb1e13ba",
   "metadata": {},
   "outputs": [
    {
     "name": "stdout",
     "output_type": "stream",
     "text": [
      "13052\n",
      "29150\n"
     ]
    }
   ],
   "source": [
    "# Number of students/rows check\n",
    "print(df[\"STUDENT\"].nunique())\n",
    "print(len(df))"
   ]
  },
  {
   "cell_type": "code",
   "execution_count": 10,
   "id": "82d06911-1a02-485e-95fd-423fdc9ff2fc",
   "metadata": {},
   "outputs": [],
   "source": [
    "# Remove the degree column as we no longer need it\n",
    "df = df.drop('DEG_CD',axis=1)"
   ]
  },
  {
   "cell_type": "code",
   "execution_count": 11,
   "id": "e1c688de-2a5f-474e-9bc7-c963fb38d9aa",
   "metadata": {},
   "outputs": [],
   "source": [
    "# Remove students that enrolled before Summer 2008\n",
    "df = df[ df['ENT_SEM'] >= 0.5] "
   ]
  },
  {
   "cell_type": "code",
   "execution_count": 12,
   "id": "8f568096-956c-4103-988e-aeb45fef87a9",
   "metadata": {},
   "outputs": [
    {
     "name": "stdout",
     "output_type": "stream",
     "text": [
      "13000\n",
      "28990\n"
     ]
    }
   ],
   "source": [
    "# Number of students/rows check\n",
    "print(df[\"STUDENT\"].nunique())\n",
    "print(len(df))"
   ]
  },
  {
   "cell_type": "code",
   "execution_count": 13,
   "id": "6ada5e28-350e-4580-807a-a953ab1c0eae",
   "metadata": {},
   "outputs": [],
   "source": [
    "# Our data for courses ends Summer 2024, so the only students in the data who are present for at least 15 semesters\n",
    "# are those who enrolled strictly before Spring 2019 (which is (2.5)(2019-2008) + 0 = 27.5 in our data set) . \n",
    "# We will remove students who enrolled at least in Spring 2019 and did not graduate.\n",
    "df = df.drop( df[ (df['ENT_SEM'] >= 27.5) & (df['GRAD_SEM'].isnull())].index)"
   ]
  },
  {
   "cell_type": "code",
   "execution_count": 14,
   "id": "88ebfddc-c7b5-4c30-a633-c728a2e0ac83",
   "metadata": {},
   "outputs": [
    {
     "name": "stdout",
     "output_type": "stream",
     "text": [
      "9422\n",
      "22734\n"
     ]
    }
   ],
   "source": [
    "# Number of students/rows check\n",
    "print(df[\"STUDENT\"].nunique())\n",
    "print(len(df))"
   ]
  },
  {
   "cell_type": "code",
   "execution_count": 15,
   "id": "352e304e-29aa-4e68-b4cc-8b7c213d68dc",
   "metadata": {},
   "outputs": [],
   "source": [
    "# Next we will remove students that graduated before Spring 2014 (which is (2.5)(2014-2008) + 0 = 15) \n",
    "# as our course data begins this semester and thus any graduation that occurs before this is not associated with our data\n",
    "df = df[(df['GRAD_SEM'] >= 15) | (df['GRAD_SEM'].isnull())]"
   ]
  },
  {
   "cell_type": "code",
   "execution_count": 16,
   "id": "ab0cd276-2364-40de-b621-bf5177f8a8a0",
   "metadata": {},
   "outputs": [
    {
     "name": "stdout",
     "output_type": "stream",
     "text": [
      "9413\n",
      "22669\n"
     ]
    }
   ],
   "source": [
    "# Number of students/rows check\n",
    "print(df[\"STUDENT\"].nunique())\n",
    "print(len(df))"
   ]
  },
  {
   "cell_type": "code",
   "execution_count": 17,
   "id": "3971abfd-5ee5-49d4-8710-2b63e2f4db8a",
   "metadata": {},
   "outputs": [],
   "source": [
    "# Remove courses taken after graduating\n",
    "df = df[  ( df['CRSE_SEM'] <= df['GRAD_SEM']  ) |  (df['GRAD_SEM'].isnull())  ] "
   ]
  },
  {
   "cell_type": "code",
   "execution_count": 18,
   "id": "dd08fd47-4079-4c69-8c53-38a576bbd524",
   "metadata": {},
   "outputs": [
    {
     "name": "stdout",
     "output_type": "stream",
     "text": [
      "9393\n",
      "22565\n"
     ]
    }
   ],
   "source": [
    "# Number of students/rows check\n",
    "print(df[\"STUDENT\"].nunique())\n",
    "print(len(df))"
   ]
  },
  {
   "cell_type": "code",
   "execution_count": 19,
   "id": "cc5933da-0ddd-4387-a574-1332775cb9bc",
   "metadata": {},
   "outputs": [],
   "source": [
    "# Sanity check - make sure courses are taken after enrollment and enrollment occurs before graduation\n",
    "df = df[  ( df['ENT_SEM'] <= df['CRSE_SEM']  )  & (  (df['ENT_SEM'] <= df['GRAD_SEM']) |   (df['GRAD_SEM'].isnull())   )  ]"
   ]
  },
  {
   "cell_type": "code",
   "execution_count": 20,
   "id": "b38bf6ac-5035-4593-951c-399bf4a0fc01",
   "metadata": {},
   "outputs": [
    {
     "name": "stdout",
     "output_type": "stream",
     "text": [
      "9393\n",
      "22565\n"
     ]
    }
   ],
   "source": [
    "# Number of students/rows check - nothing should change\n",
    "print(df[\"STUDENT\"].nunique())\n",
    "print(len(df))"
   ]
  },
  {
   "cell_type": "code",
   "execution_count": 21,
   "id": "e0f82209-8267-4738-922d-1a69755a4784",
   "metadata": {},
   "outputs": [],
   "source": [
    "# Next we want to remove courses taken above the ``at least 15 semesters attended'' window \n",
    "# First we update 'CRSE_SEM' to be relative to 'ENT_SEM' -\n",
    "# Note the + 0.5 is need since our starting point Summer 2008 has value 0.5\n",
    "df['CRSE_SEM'] = (  df['CRSE_SEM'] - df['ENT_SEM'] ) + 0.5\n",
    "\n",
    "# Remove courses taken after at least 15 semesters attended\n",
    "df = df[ df['CRSE_SEM'] <= 15   ]"
   ]
  },
  {
   "cell_type": "code",
   "execution_count": 22,
   "id": "c43e912a-9ff8-427f-8e31-536a546596a1",
   "metadata": {},
   "outputs": [
    {
     "name": "stdout",
     "output_type": "stream",
     "text": [
      "9350\n",
      "22366\n"
     ]
    }
   ],
   "source": [
    "# Number of students/rows check - nothing should change\n",
    "print(df[\"STUDENT\"].nunique())\n",
    "print(len(df))"
   ]
  },
  {
   "cell_type": "code",
   "execution_count": 23,
   "id": "55e5cb3e-97bd-41e5-8e61-c2ae03b44cba",
   "metadata": {},
   "outputs": [],
   "source": [
    "# Next we add a column to indicate graduation \n",
    "df['GRAD_SEM'] = (df['GRAD_SEM'] - df['ENT_SEM']) + 0.5\n",
    "df['GRADUATE'] = np.where(df['GRAD_SEM'] <= 15, 1, 0)"
   ]
  },
  {
   "cell_type": "code",
   "execution_count": 24,
   "id": "5dc26498-b46f-4573-a749-8e7ec42e002e",
   "metadata": {},
   "outputs": [],
   "source": [
    "# We can now remove the 'ENT_SEM' and 'GRAD_SEM' columns\n",
    "sem_remove = ['ENT_SEM','GRAD_SEM']\n",
    "df = df.drop(columns = sem_remove)"
   ]
  },
  {
   "cell_type": "code",
   "execution_count": 25,
   "id": "45601031-ec88-4a1c-97f8-66cf3ef1978d",
   "metadata": {},
   "outputs": [],
   "source": [
    "# Next goal is create a column for each students 'first' major and to remove the repeated information due to students with multiple degrees\n",
    "# First, create a column that indicates the students with multiple degrees\n",
    "df['NUM_DEG'] = df.groupby('STUDENT')['MAJOR_CURR.1'].transform('nunique')\n",
    "\n",
    "# Second, we flag those students where MAJOR_CURR.2 matches some entry in MAJOR_CURR.1\n",
    "df['DEG_FLAG'] = df.groupby('STUDENT',group_keys=False).apply(lambda x: x['MAJOR_CURR.2'].isin(x['MAJOR_CURR.1']),include_groups=False)\n",
    "\n",
    "# Next, we will create a column that either lists the `first' major of the student\n",
    "# or has a 0 if the student has multiple degrees and the row is information regarding a second/third/etc.\n",
    "\n",
    "def major_detect(row):\n",
    "    if (row['NUM_DEG'] == 0):\n",
    "        val = row['MAJOR_CURR.2']\n",
    "    elif (row['NUM_DEG'] == 1):\n",
    "        val = row['MAJOR_CURR.1']\n",
    "    elif (row['MAJOR_CURR.2'] == row['MAJOR_CURR.1']):\n",
    "        val = row['MAJOR_CURR.1']\n",
    "    elif (row['DEG_FLAG'] == False)  & (row['MAJOR_CURR'] == row['MAJOR_CURR.1']):\n",
    "        val = row['MAJOR_CURR.1']\n",
    "    else:\n",
    "        val = 0\n",
    "    return val\n",
    "\n",
    "df['MAJOR'] = df.apply(major_detect,axis=1)\n",
    "\n",
    "# Those with a 0 in 'MAJOR' are safe for removal\n",
    "df = df.drop(df[df['MAJOR'] == 0].index)"
   ]
  },
  {
   "cell_type": "code",
   "execution_count": 26,
   "id": "f21f178d-ff85-45c1-b7ca-c7283cf682d9",
   "metadata": {},
   "outputs": [
    {
     "name": "stdout",
     "output_type": "stream",
     "text": [
      "9350\n",
      "20964\n"
     ]
    }
   ],
   "source": [
    "# Number of students/rows check - note number of students should not have changed\n",
    "print(df[\"STUDENT\"].nunique())\n",
    "print(len(df))"
   ]
  },
  {
   "cell_type": "code",
   "execution_count": 27,
   "id": "22ae9210-f71c-45a6-a8d3-e8ea178c40ed",
   "metadata": {},
   "outputs": [],
   "source": [
    "# Remove the columns MAJOR_CURR, MAJOR_CURR.1, MAJOR_CURR.2, NUM_DEG, and DEG_FLAG as they are no longer needed\n",
    "deg_info_remove = ['MAJOR_CURR','MAJOR_CURR.1','MAJOR_CURR.2','NUM_DEG','DEG_FLAG']\n",
    "df = df.drop(columns = deg_info_remove)"
   ]
  },
  {
   "cell_type": "code",
   "execution_count": 28,
   "id": "14afa302-e203-45eb-9f20-bcc7671c0ac5",
   "metadata": {},
   "outputs": [],
   "source": [
    "# Remove courses that are not in the current catalog, have variable content, are not `content courses',\n",
    "# are not math department courses, are supplemental courses, and are graduate courses.\n",
    "course_remove = ['25', '30', \n",
    "                 '101', '106', '106X', '139X', '181', '182', '195', '196', \n",
    "                 '202', '202X', '241X', '268', '290', '297', \n",
    "                 '331', '341', '342', '392X', '397', '398', \n",
    "                 '408X', '421', '439', '474', '474X', '490', '490H', '491', '492', '495', '495X', '497', '498', \n",
    "                 '501', '502', '503', '503X', '504', '505', '506X', '507', '510', '511', '515',  '516', '518X', \n",
    "                 '519', '520', '525', '533', '535', '545', '554', '561', '562', '565', '566', '567', '581', \n",
    "                 '601', '603X', '605', '608', '610', '617', '618', '619X', '624', '631', '633', '642', '656', '666']\n",
    "for x in course_remove:\n",
    "    df = df.drop(df[df['CRSE'] == x].index)"
   ]
  },
  {
   "cell_type": "code",
   "execution_count": 29,
   "id": "846a12e5-1359-4616-9508-dcba316b0cb2",
   "metadata": {},
   "outputs": [
    {
     "name": "stdout",
     "output_type": "stream",
     "text": [
      "9018\n",
      "18684\n"
     ]
    }
   ],
   "source": [
    "# Number of students/rows check\n",
    "print(df[\"STUDENT\"].nunique())\n",
    "print(len(df))"
   ]
  },
  {
   "cell_type": "code",
   "execution_count": 30,
   "id": "b0b3fcaf-1b44-4458-8b90-9fdc8d97c649",
   "metadata": {},
   "outputs": [],
   "source": [
    "# Remove X (experimental) and H (honors section)\n",
    "df['CRSE'] = df['CRSE'].str.replace('X', '')\n",
    "df['CRSE'] = df['CRSE'].str.replace('H', '')"
   ]
  },
  {
   "cell_type": "code",
   "execution_count": 31,
   "id": "b623017a-864b-48c6-b477-0349c0299ed7",
   "metadata": {},
   "outputs": [],
   "source": [
    "# Relabel 403 as 302 (abstract algebra 2) and 142 as 145 (trigonmetry)\n",
    "df['CRSE'] = df['CRSE'].replace('403', '302')\n",
    "df['CRSE'] = df['CRSE'].replace('142', '145')"
   ]
  },
  {
   "cell_type": "code",
   "execution_count": 32,
   "id": "49902acd-8044-4038-ad80-4d80186784e6",
   "metadata": {},
   "outputs": [],
   "source": [
    "# Next we will elimate repeated attempts and keep the most recent (successful) attempt\n",
    "# First we update 'GRADE_CATGORY' to be 'GRADE_CATGORY'*'CRSE_SEM' \n",
    "# Thus it will range from -15 to 15, incremented by .5\n",
    "df['GRADE_CATGORY'] = df['GRADE_CATGORY'] * df['CRSE_SEM']\n",
    "\n",
    "# Second we assign a rank to the grades from 1-29, so that -0.5 gets least prioerity and 15 gets highest\n",
    "df['GRADE_RANK'] = np.where( df['GRADE_CATGORY'] < 0, abs(df['GRADE_CATGORY']), df['GRADE_CATGORY'] + 15  )\n",
    "\n",
    "# Third, we detect if there are any repeated attempts at a course and rank them\n",
    "df['CRSE_RANK'] = df.groupby(['STUDENT','CRSE'])['GRADE_RANK'].rank(method='first',ascending=False)\n",
    "\n",
    "# # Those with a value > 1 in 'CRSE_RANK' are safe for removal\n",
    "df = df.drop(df[df['CRSE_RANK'] > 1].index)"
   ]
  },
  {
   "cell_type": "code",
   "execution_count": 33,
   "id": "1c80f9e2-70a6-437c-9a1d-822881176e1a",
   "metadata": {},
   "outputs": [
    {
     "name": "stdout",
     "output_type": "stream",
     "text": [
      "9018\n",
      "18075\n"
     ]
    }
   ],
   "source": [
    "# Number of students/rows check - number of students should not have changed\n",
    "print(df[\"STUDENT\"].nunique())\n",
    "print(len(df))"
   ]
  },
  {
   "cell_type": "code",
   "execution_count": 34,
   "id": "34c2f6b2-9ab3-4cf6-94f4-eb2bd81431d3",
   "metadata": {},
   "outputs": [
    {
     "data": {
      "text/plain": [
       "np.int64(0)"
      ]
     },
     "execution_count": 34,
     "metadata": {},
     "output_type": "execute_result"
    }
   ],
   "source": [
    "# Check that there are no more duplicated rows\n",
    "dup_check = df[['STUDENT','CRSE']]\n",
    "dup_check.duplicated().sum()"
   ]
  },
  {
   "cell_type": "code",
   "execution_count": 35,
   "id": "60bd0a81-36e7-4b78-be09-3934499ee4d0",
   "metadata": {},
   "outputs": [],
   "source": [
    "# Remove the CRSE_SEM, GRADE_RANK, CRSE_RANK columns as they are no longer needed\n",
    "rank_remove = ['CRSE_SEM','GRADE_RANK','CRSE_RANK']\n",
    "for x in rank_remove:\n",
    "    df = df.drop(x,axis=1)"
   ]
  },
  {
   "cell_type": "code",
   "execution_count": 36,
   "id": "a39ba2f7-e720-44e1-9b2e-a61f21703862",
   "metadata": {},
   "outputs": [
    {
     "data": {
      "text/plain": [
       "CRSE\n",
       "165    0.134108\n",
       "166    0.249959\n",
       "265    0.337815\n",
       "143    0.413721\n",
       "140    0.485588\n",
       "104    0.552476\n",
       "150    0.611286\n",
       "207    0.659806\n",
       "201    0.698976\n",
       "317    0.735657\n",
       "267    0.770899\n",
       "105    0.799834\n",
       "414    0.826445\n",
       "301    0.852559\n",
       "266    0.875242\n",
       "160    0.894827\n",
       "385    0.907386\n",
       "435    0.919281\n",
       "436    0.930124\n",
       "314    0.939917\n",
       "304    0.947441\n",
       "373    0.954689\n",
       "350    0.961715\n",
       "151    0.968022\n",
       "415    0.973942\n",
       "365    0.979751\n",
       "302    0.984509\n",
       "145    0.989046\n",
       "240    0.992365\n",
       "481    0.994855\n",
       "407    0.996846\n",
       "424    0.998230\n",
       "441    0.998838\n",
       "442    0.999336\n",
       "422    0.999613\n",
       "423    0.999834\n",
       "469    1.000000\n",
       "Name: count, dtype: float64"
      ]
     },
     "execution_count": 36,
     "metadata": {},
     "output_type": "execute_result"
    }
   ],
   "source": [
    "# Final cleaning task is to remove courses with ``low'' enrollment\n",
    "# We will determine this by getting a count of the number of times a course appears\n",
    "# Put it in decesending order, then divide the cumsum by the sum\n",
    "crse_value = df['CRSE'].value_counts()\n",
    "crse_value.cumsum()/crse_value.sum()"
   ]
  },
  {
   "cell_type": "code",
   "execution_count": 37,
   "id": "394a3a6d-b256-4447-bdd9-8da16357b732",
   "metadata": {},
   "outputs": [],
   "source": [
    "# In light of the previous cell, we will cut out every course above 145 because at that point we have accounted for 99% of the data\n",
    "final_cut = ['240','481','407', '424', '441', '442', '422', '423', '469']\n",
    "for x in final_cut:\n",
    "    df = df.drop(df[df['CRSE'] == x].index)"
   ]
  },
  {
   "cell_type": "code",
   "execution_count": 38,
   "id": "6779af10-2340-42cf-8ef7-f2664b7f1af1",
   "metadata": {},
   "outputs": [
    {
     "name": "stdout",
     "output_type": "stream",
     "text": [
      "9014\n",
      "17877\n"
     ]
    }
   ],
   "source": [
    "# Number of students/rows check\n",
    "print(df[\"STUDENT\"].nunique())\n",
    "print(len(df))"
   ]
  },
  {
   "cell_type": "code",
   "execution_count": 39,
   "id": "afe05da8-7be0-4d0a-b030-8a9c947cd137",
   "metadata": {},
   "outputs": [],
   "source": [
    "# We add one column for each course and enter either a 0 (if course is not taken) or \n",
    "# the value of round('GRADE_CATGORY' * 'CRSE_SEM') (this will range from -15 to 15)\n",
    "courses = df['CRSE'].unique().tolist()\n",
    "courses.sort()\n",
    "for x in courses:\n",
    "    df[x] = np.where(df['CRSE'] == x, df['GRADE_CATGORY'], 0) "
   ]
  },
  {
   "cell_type": "code",
   "execution_count": 40,
   "id": "a12047b5-8453-4120-bb5e-f0229f021c39",
   "metadata": {},
   "outputs": [],
   "source": [
    "# Remove the CRSE and GRADE_CATGORY, columns as they are no longer needed\n",
    "crse_info_remove = ['CRSE','GRADE_CATGORY']\n",
    "for x in crse_info_remove:\n",
    "    df = df.drop(x,axis=1)"
   ]
  },
  {
   "cell_type": "code",
   "execution_count": 41,
   "id": "4b7b1e41-f18e-4809-b2dd-5c8a2410e55c",
   "metadata": {},
   "outputs": [],
   "source": [
    "# We now group by student, keeping the first row of any columns with str values and\n",
    "# choosing the maximum value (with respect to absolute value) for columns with numeric values \n",
    "\n",
    "def custom_agg(group):\n",
    "    result = {}\n",
    "    for col in group.columns:\n",
    "        if group[col].dtype == 'object':\n",
    "            result[col] = group[col].iloc[0] \n",
    "        else:\n",
    "            result[col] = max( group[col], key = abs)\n",
    "    return pd.Series(result)\n",
    "\n",
    "df = df.groupby('STUDENT').apply(custom_agg,include_groups=False)"
   ]
  },
  {
   "cell_type": "code",
   "execution_count": 42,
   "id": "694e46bf-4d5e-48b8-9355-88eb9e5df280",
   "metadata": {},
   "outputs": [],
   "source": [
    "# Final step - recode the 'MAJOR' column so its readable\n",
    "# First get list of majors\n",
    "\n",
    "maj_recode = {'A E' : 'Agricultural Engineering',\n",
    " 'A ECL' : 'Animal Ecology',\n",
    " 'A M D' : 'Apparel, Merchandising, and Design',\n",
    " 'A TR': 'Athletic Training',\n",
    " 'ACCT' : 'Accounting',\n",
    " 'ACSCI' : 'Actuarial Science',\n",
    " 'ADVRT' : 'Advertising',\n",
    " 'AER E': 'Aerospace Engineering',\n",
    " 'AG B' : 'Agricultural Business',\n",
    " 'AG ST' : 'Agricultural Studies',\n",
    " 'AGBIO' : 'Agricultural Biochemistry',\n",
    " 'AGLSE' : 'Agricultural and Life Sciences Education',\n",
    " 'AGRON' : 'Agronomy',\n",
    " 'AGRPS' : 'Agricultural and Rural Policy Studies',\n",
    " 'AN S' : 'Animal Science',\n",
    " 'ANTHR' : 'Anthropology',\n",
    " 'ARC' : 'Architecture',\n",
    " 'ARTDN' : 'Art and Design',\n",
    " 'ARTGR' : 'Graphic Design',\n",
    " 'ARTID' : 'Interior Design',\n",
    " 'ARTIS' : 'Integrated Studio Arts',\n",
    " 'AST' : 'Agricultural Systems Technology',\n",
    " 'BBA' : 'Business Administration',\n",
    " 'BCBIO' : 'Bioinformatics and Computational Biology',\n",
    " 'BIOCA' : 'Biochemistry',\n",
    " 'BIOCH' : 'Biochemistry',\n",
    " 'BIOL' : 'Biology',\n",
    " 'BIOLA' : 'Biology',\n",
    " 'BIOPH' : 'Biophysics',\n",
    " 'BPM I' : 'Biological/Medical Illustration',\n",
    " 'BSE' : 'Biological Systems Engineering',\n",
    " 'BU AN' : 'Business Analytics',\n",
    " 'BUS U' : 'Business',\n",
    " 'BUSEC' : 'Business Economics',\n",
    " 'C E' : 'Civil Engineering',\n",
    " 'C J' : 'Criminal Justice',\n",
    " 'C R P' : 'Community & Regional Planning',\n",
    " 'CH E' : 'Chemical Engineering',\n",
    " 'CH FS' : 'Child, Adult and Family Services',\n",
    " 'CHEM' : 'Chemisty',\n",
    " 'CJ ST' : 'Criminal Justice Studies',\n",
    " 'CLSCI' : 'Climate Science',\n",
    " 'COM S' : 'Computer Science',\n",
    " 'COMST' : 'Comunication Studies',\n",
    " 'CON E' : 'Construction Engineering',\n",
    " 'CPR E' : 'Computer Engineering',\n",
    " 'CS H' : 'Computer Science',\n",
    " 'CUFSA' : 'Culinary Food Science',\n",
    " 'CUFSH' : 'Culinary Food Science',\n",
    " 'CYB E' : 'Cyber Security Engineering',\n",
    " 'CYBSC' : 'Cyber Security',\n",
    " 'DIETA' : 'Dietetics',\n",
    " 'DIETH' : 'Dietetics',\n",
    " 'DS' : 'Data Science',\n",
    " 'DSGN' : 'Undeclared',\n",
    " 'E CPE' : 'Electrical and Computer Engineering',\n",
    " 'E E' : 'Electrical Engineering',\n",
    " 'EA SC' : 'Earth Science',\n",
    " 'ECE' : 'Early Childhood Education',\n",
    " 'ECON' : 'Economics',\n",
    " 'EL ED' : 'Elementary Education',\n",
    " 'ENGL' : 'English',\n",
    " 'ENGR' : 'Engineering',\n",
    " 'ENGRS' : 'Engineering',\n",
    " 'ENSCA' : 'Environmental Science',\n",
    " 'ENSCS' : 'Environmental Science',\n",
    " 'ENTSP' : 'Entrepreneurship',\n",
    " 'EVENT' : 'Event Management',\n",
    " 'F C P' : 'Financial Counseling and Planning',\n",
    " 'FCEDS' : 'Family and Consumer Sciences',\n",
    " 'FIN' : 'Finance',\n",
    " 'FOR' : 'Forestry',\n",
    " 'FS A' : 'Food Science',\n",
    " 'FS H' : 'Food Science',\n",
    " 'GE AT' : 'Geological and Atmospheric Sciences',\n",
    " 'GEN' : 'Genetics',\n",
    " 'GEN S' : 'Genetics',\n",
    " 'GENPV' : 'General Preveterinary Medicine',\n",
    " 'GEOL' : 'Geology',\n",
    " 'GLOBE' : 'Global Resource Systems',\n",
    " 'HD FS' : 'Human Development and Family Studies',\n",
    " 'HIST' : 'History',\n",
    " 'HORT' : 'Horticulture',\n",
    " 'HRM' : 'Human Resource Management',\n",
    " 'HSP M' : 'Hospitality Management',\n",
    " 'I DES' : 'Interdisciplinary Design',\n",
    " 'I E' : 'Industrial Engineering',\n",
    " 'I TEC' : 'Industrial Technology',\n",
    " 'IND D' : 'Industrial Design',\n",
    " 'INDIS' : 'Interdisciplinary Studies',\n",
    " 'ISBA' : 'Information Systems and Business Analytics',\n",
    " 'JL MC' : 'Journalism and Mass Communication',\n",
    " 'KIN H' : 'Kinesiology and Health',\n",
    " 'L A' : 'Landscape Architecture',\n",
    " 'L ST' : 'Liberal Arts and Sciences',\n",
    " 'LAS' : 'Liberal Arts and Sciences',\n",
    " 'LAS S' : 'Liberal Arts and Sciences',\n",
    " 'LING' : 'Linguistics',\n",
    " 'M E' : 'Mechanical Engineering',\n",
    " 'MAT E' : 'Materials Engineering',\n",
    " 'MATH' : 'Mathematics',\n",
    " 'MGMT' : 'Management',\n",
    " 'MICR' : 'Microbiology',\n",
    " 'MIS' : 'Management Information Systems',\n",
    " 'MKT' : 'Marketing',\n",
    " 'MTEOR' : 'Meteorology',\n",
    " 'MU BA' : 'Music',\n",
    " 'MU BM' : 'Music',\n",
    " 'NRS A' : 'Nursing',\n",
    " 'NRS H' : 'Nursing',\n",
    " 'NS A' : 'Nutritional Science',\n",
    " 'NS H' : 'Nutritional Science',\n",
    " 'OPEN' : 'Open Option',\n",
    " 'P ARC' : 'Architecture',\n",
    " 'P ATR' : 'Athletic Training',\n",
    " 'P BUS' : 'Business',\n",
    " 'P CS' : 'Computer Science',\n",
    " 'P DTH' : 'Dietetics',\n",
    " 'P GR' : 'Graphic Design',\n",
    " 'P H P' : 'Preprofessional Health Programs',\n",
    " 'P ID' : 'Interior Design',\n",
    " 'P IND' : 'Industrial Design',\n",
    " 'P LAW' : 'Preparation for Law',\n",
    " 'P LST' : 'Liberal Studies',\n",
    " 'P MED' : 'Preparation for Human Medicine',\n",
    " 'P R' : 'Public Relations',\n",
    " 'PBPMI' : 'Biological/Medical Illustration',\n",
    " 'PERF' : 'Performing Arts',\n",
    " 'PHIL' : 'Philosophy',\n",
    " 'PHYS' : 'Physics',\n",
    " 'POL S' : 'Political Science',\n",
    " 'PSYCH' : 'Psychology',\n",
    " 'RELIG' : 'Religious Studies',\n",
    " 'S E' : 'Systems Engineering',\n",
    " 'SCM' : 'Supply Chain Management',\n",
    " 'SOC' : 'Sociology',\n",
    " 'SP CM' : 'Speech Communication',\n",
    " 'STAT' : 'Statistics',\n",
    " 'TCOMM' : 'Technical Communication',\n",
    " 'UNDEC' : 'Undeclared',\n",
    " 'V M' : 'Veterinary Medicine',\n",
    " 'W S' : 'Women’s and Gender Studies',\n",
    " 'WGS' : 'Women’s and Gender Studies',\n",
    " 'WLC' : 'World Languages and Cultures'\n",
    "}\n",
    "df['MAJOR'] = df['MAJOR'].map(pd.Series(maj_recode))"
   ]
  },
  {
   "cell_type": "code",
   "execution_count": 43,
   "id": "0f93a7b4-8860-49d5-aa74-5b2841586fe6",
   "metadata": {},
   "outputs": [],
   "source": [
    "# Save full set to csv\n",
    "df.to_csv('full_dataset.csv')"
   ]
  },
  {
   "cell_type": "code",
   "execution_count": 44,
   "id": "879213c6-5b13-4581-b71a-ae103e427f73",
   "metadata": {},
   "outputs": [],
   "source": [
    "# Next we create three more dataframes\n",
    "# First will only have `general population' courses\n",
    "# Second will only have the `math major' courses\n",
    "# Third will only have math majors\n",
    "gen_math_crse = ['104', '105', '140', '143', '145', '150', '151', '160', '165', '166', '207', '265', '266', '267']\n",
    "math_maj_crse = ['201', '301', '302', '304', '314', '317', '350', '365', '373', '385', '414', '415', '435', '436']\n",
    "\n",
    "df_gen_crse = df.drop(columns = math_maj_crse)\n",
    "df_maj_crse = df.drop(columns = gen_math_crse)\n",
    "df_math = df[df['MAJOR'] == 'Mathematics']"
   ]
  },
  {
   "cell_type": "code",
   "execution_count": 45,
   "id": "87aeb956-f19a-41ae-a5c8-85a3cfb18846",
   "metadata": {},
   "outputs": [],
   "source": [
    "# We will remove the students without any grade information from df_gen_crse\n",
    "df_gen_crse['FLAG'] = df[gen_math_crse].abs().sum(axis=1)\n",
    "df_gen_crse = df_gen_crse.drop(df_gen_crse[df_gen_crse['FLAG'] == 0].index)\n",
    "df_gen_crse.drop('FLAG',axis=1,inplace=True)\n",
    "\n",
    "# Same for df_maj_crse\n",
    "df_maj_crse['FLAG'] = df[math_maj_crse].abs().sum(axis=1)\n",
    "df_maj_crse = df_maj_crse.drop(df_maj_crse[df_maj_crse['FLAG'] == 0].index)\n",
    "df_maj_crse.drop('FLAG',axis=1,inplace=True)"
   ]
  },
  {
   "cell_type": "code",
   "execution_count": 46,
   "id": "c223d296-c659-4455-98cc-8333b072ad8b",
   "metadata": {},
   "outputs": [],
   "source": [
    "# Save df_gen_crse and df_maj_crse\n",
    "df_gen_crse.to_csv('gen_dataset.csv')\n",
    "df_maj_crse.to_csv('maj_dataset.csv')"
   ]
  },
  {
   "cell_type": "code",
   "execution_count": 47,
   "id": "d0cdf3df-0453-4b9e-bff2-a44f1dddbbf0",
   "metadata": {},
   "outputs": [],
   "source": [
    "# From df_math remove courses that are not requirements for the major and the major column as it is not needed\n",
    "df_math = df_math.drop(columns = ['MAJOR','104', '105', '140', '143', '145', '150', '151', '160', '207'])\n",
    "\n",
    "#Save df_math\n",
    "df_math.to_csv('math_dataset.csv')"
   ]
  },
  {
   "cell_type": "code",
   "execution_count": null,
   "id": "e7d3ad0b-57a4-4444-9892-3aa5ee4e22e8",
   "metadata": {},
   "outputs": [],
   "source": []
  }
 ],
 "metadata": {
  "kernelspec": {
   "display_name": "Python 3 (ipykernel)",
   "language": "python",
   "name": "python3"
  },
  "language_info": {
   "codemirror_mode": {
    "name": "ipython",
    "version": 3
   },
   "file_extension": ".py",
   "mimetype": "text/x-python",
   "name": "python",
   "nbconvert_exporter": "python",
   "pygments_lexer": "ipython3",
   "version": "3.12.5"
  }
 },
 "nbformat": 4,
 "nbformat_minor": 5
}
