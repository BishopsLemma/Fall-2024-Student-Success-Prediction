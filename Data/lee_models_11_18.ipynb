{
 "cells": [
  {
   "cell_type": "code",
   "execution_count": null,
   "id": "b249800f-7d97-496a-9d31-da5d32ebb53f",
   "metadata": {},
   "outputs": [],
   "source": [
    "import numpy as np\n",
    "import pandas as pd\n",
    "import math\n",
    "import matplotlib.pyplot as plt\n",
    "import seaborn as sns\n",
    "\n",
    "sns.set_style(\"whitegrid\")\n",
    "\n",
    "from sklearn.metrics import accuracy_score\n",
    "from sklearn.model_selection import train_test_split\n",
    "\n",
    "from sklearn.neighbors import KNeighborsClassifier\n",
    "from sklearn.discriminant_analysis import LinearDiscriminantAnalysis\n",
    "from sklearn.discriminant_analysis import QuadraticDiscriminantAnalysis\n",
    "from sklearn.naive_bayes import GaussianNB\n",
    "from sklearn.linear_model import LogisticRegression\n",
    "from sklearn.svm import LinearSVC\n",
    "from sklearn.svm import SVC\n",
    "\n",
    "from sklearn.pipeline import Pipeline\n",
    "from sklearn.preprocessing import PolynomialFeatures\n",
    "from sklearn.preprocessing import StandardScaler"
   ]
  },
  {
   "cell_type": "code",
   "execution_count": null,
   "id": "f17515c8-56a5-4d54-8bd9-e02a66983080",
   "metadata": {},
   "outputs": [],
   "source": [
    "df = pd.read_csv('lee_final_dataset_11_18.csv')\n",
    "X = df.drop(['STUDENT','MAJ','GRAD'], axis=1)\n",
    "y = df['GRAD']\n",
    "\n",
    "X_train, X_test, y_train, y_test = train_test_split(X, y, \n",
    "                                                    test_size=0.25, \n",
    "                                                    random_state=42,\n",
    "                                                    shuffle=True,\n",
    "                                                    stratify=y)"
   ]
  },
  {
   "cell_type": "code",
   "execution_count": null,
   "id": "a11af26d-f121-4af1-ad93-346c42f7508f",
   "metadata": {},
   "outputs": [],
   "source": [
    "classifiers = {\n",
    "    # Putting linear decision boundary classifiers first\n",
    "    'lda' : LinearDiscriminantAnalysis(),\n",
    "    'log_reg' : LogisticRegression(penalty=None, max_iter= 100000),\n",
    "     'svc_linear' : LinearSVC(dual = 'auto'),\n",
    "\n",
    "    # Quadratic boundaries\n",
    "    'qda' : QuadraticDiscriminantAnalysis(),\n",
    "    'lda_poly' : Pipeline([('scale', StandardScaler()),('poly',PolynomialFeatures(2)),('lda', LinearDiscriminantAnalysis())]),\n",
    "    'log_reg_poly' : Pipeline([('scale', StandardScaler()),('poly',PolynomialFeatures(2)),('log_reg', LogisticRegression(penalty=None, max_iter= 100000))]),\n",
    "    'gnb' : GaussianNB(),\n",
    "\n",
    "    # Complex boundaries\n",
    "    'knn' : Pipeline([('scale', StandardScaler()),('knn', KNeighborsClassifier())]),   \n",
    "    'svc_rbf' : Pipeline([('scale', StandardScaler()),('svc',SVC(kernel= 'rbf'))])\n",
    "}\n",
    "importances = {}\n",
    "\n",
    "for model_name, model in classifiers.items():\n",
    "    model.fit(X_train, y_train)\n",
    "    if hasattr(model, 'named_steps'):\n",
    "        # For pipelines, get the final step\n",
    "        final_model = model.named_steps[list(model.named_steps.keys())[-1]]\n",
    "    else:\n",
    "        final_model = model\n",
    "    \n",
    "    if hasattr(final_model, 'feature_importances_'):\n",
    "        importances[model_name] = final_model.feature_importances_\n",
    "    elif hasattr(final_model, 'coef_'):\n",
    "        importances[model_name] = final_model.coef_[0]  # For linear models\n",
    "        \n",
    "# Print feature importances or coefficients ordered by absolute value\n",
    "for model_name, importance in importances.items():\n",
    "    print(f\"\\nFeature importances for {model_name}:\")\n",
    "    sorted_importances = sorted(zip(X.columns, importance), key=lambda x: abs(x[1]), reverse=True)\n",
    "    for feature_name, value in sorted_importances:\n",
    "        print(f\"{feature_name}: {value}\")"
   ]
  },
  {
   "cell_type": "code",
   "execution_count": null,
   "id": "14906411-c9b2-45b1-b761-0813645f6f0f",
   "metadata": {},
   "outputs": [],
   "source": [
    "for model_name, model in classifiers.items():\n",
    "    model.fit(X_train,y_train)\n",
    "\n",
    "accs = {model_name: accuracy_score(y_test, model.predict(X_test)) for model_name, model in classifiers.items()}\n",
    "\n",
    "accs"
   ]
  },
  {
   "cell_type": "code",
   "execution_count": null,
   "id": "170121ea-f644-4c19-8d01-d15fa620b063",
   "metadata": {},
   "outputs": [],
   "source": []
  }
 ],
 "metadata": {
  "kernelspec": {
   "display_name": "Python 3 (ipykernel)",
   "language": "python",
   "name": "python3"
  },
  "language_info": {
   "codemirror_mode": {
    "name": "ipython",
    "version": 3
   },
   "file_extension": ".py",
   "mimetype": "text/x-python",
   "name": "python",
   "nbconvert_exporter": "python",
   "pygments_lexer": "ipython3",
   "version": "3.12.5"
  }
 },
 "nbformat": 4,
 "nbformat_minor": 5
}
