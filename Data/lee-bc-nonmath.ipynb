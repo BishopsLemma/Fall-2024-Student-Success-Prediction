{
 "cells": [
  {
   "cell_type": "code",
   "execution_count": 13,
   "id": "8dc812a3-3952-443e-a8f2-37c0ab74e840",
   "metadata": {},
   "outputs": [],
   "source": [
    "import numpy as np\n",
    "import pandas as pd\n",
    "import math\n",
    "import matplotlib.pyplot as plt\n",
    "import seaborn as sns\n",
    "\n",
    "sns.set_style(\"whitegrid\")\n",
    "\n",
    "from sklearn.metrics import accuracy_score\n",
    "from sklearn.model_selection import train_test_split\n",
    "\n",
    "from sklearn.neighbors import KNeighborsClassifier\n",
    "from sklearn.discriminant_analysis import LinearDiscriminantAnalysis\n",
    "from sklearn.discriminant_analysis import QuadraticDiscriminantAnalysis\n",
    "from sklearn.naive_bayes import GaussianNB\n",
    "from sklearn.linear_model import LogisticRegression\n",
    "from sklearn.svm import LinearSVC\n",
    "from sklearn.svm import SVC\n",
    "\n",
    "from sklearn.pipeline import Pipeline\n",
    "from sklearn.preprocessing import PolynomialFeatures\n",
    "from sklearn.preprocessing import StandardScaler"
   ]
  },
  {
   "cell_type": "code",
   "execution_count": 14,
   "id": "998672f7-0cb1-4830-a000-10e997de1e77",
   "metadata": {},
   "outputs": [],
   "source": [
    "grades = pd.read_csv('NonMathMajors.csv')"
   ]
  },
  {
   "cell_type": "code",
   "execution_count": 15,
   "id": "8e607426-083f-4e31-86ee-2068e3e90f52",
   "metadata": {},
   "outputs": [],
   "source": [
    "X = grades.drop(['STUDENT','ENTRY_CCYY','SEM_CCYY.1','GRAD','GRAD_TIME','DEG_CD'], axis=1)\n",
    "y = grades['GRAD']"
   ]
  },
  {
   "cell_type": "code",
   "execution_count": 16,
   "id": "423ca13f-6438-4ee7-b78c-05e1402bc860",
   "metadata": {},
   "outputs": [],
   "source": [
    "X_train, X_test, y_train, y_test = train_test_split(X, y, \n",
    "                                                    test_size=0.25, \n",
    "                                                    random_state=42,\n",
    "                                                    shuffle=True,\n",
    "                                                    stratify=y)\n"
   ]
  },
  {
   "cell_type": "code",
   "execution_count": 17,
   "id": "73db7f56-9c9a-4519-8859-63a707802aa1",
   "metadata": {},
   "outputs": [],
   "source": [
    "classifiers = {\n",
    "    # Putting linear decision boundary classifiers first\n",
    "    'lda' : LinearDiscriminantAnalysis(),\n",
    "    'log_reg' : LogisticRegression(penalty=None, max_iter= 100000),\n",
    "     'svc_linear' : LinearSVC(dual = 'auto'),\n",
    "\n",
    "    # Quadratic boundaries\n",
    "    'qda' : QuadraticDiscriminantAnalysis(),\n",
    "    'lda_poly' : Pipeline([('scale', StandardScaler()),('poly',PolynomialFeatures(2)),('lda', LinearDiscriminantAnalysis())]),\n",
    "    'log_reg_poly' : Pipeline([('scale', StandardScaler()),('poly',PolynomialFeatures(2)),('log_reg', LogisticRegression(penalty=None, max_iter= 100000))]),\n",
    "    'gnb' : GaussianNB(),\n",
    "\n",
    "    # Complex boundaries\n",
    "    'knn' : Pipeline([('scale', StandardScaler()),('knn', KNeighborsClassifier())]),   \n",
    "    'svc_rbf' : Pipeline([('scale', StandardScaler()),('svc',SVC(kernel= 'rbf'))])\n",
    "}"
   ]
  },
  {
   "cell_type": "code",
   "execution_count": 20,
   "id": "446d04ee",
   "metadata": {},
   "outputs": [
    {
     "name": "stdout",
     "output_type": "stream",
     "text": [
      "Accuracies: {'lda': 0.8777869529314616, 'log_reg': 0.8777869529314616, 'svc_linear': 0.8777869529314616, 'qda': 0.8352601156069365, 'lda_poly': 0.8757225433526011, 'log_reg_poly': 0.8773740710156895, 'gnb': 0.8129644921552436, 'knn': 0.8447563996696945, 'svc_rbf': 0.8769611890999174}\n",
      "\n",
      "Feature importances for lda:\n",
      "151: -1.0058811224310062\n",
      "160: 0.4939033484722013\n",
      "266: 0.3392349934019342\n",
      "104: 0.3226622722942299\n",
      "166: -0.2973710545958796\n",
      "150: 0.28027780915069817\n",
      "267: -0.23139245795134325\n",
      "140: -0.08724608433932891\n",
      "105: -0.07985312344528141\n",
      "207: -0.06171367092664991\n",
      "165: 0.04110866968772837\n",
      "143: 0.030189241194664287\n",
      "265: 0.02131744694119313\n",
      "\n",
      "Feature importances for log_reg:\n",
      "151: -0.8417418342875841\n",
      "160: 0.5818568919570142\n",
      "104: 0.3457684297822979\n",
      "266: 0.3375931314537306\n",
      "150: 0.29161152904353616\n",
      "166: -0.2800151667946509\n",
      "267: -0.19534476191134004\n",
      "140: -0.0986617821252528\n",
      "105: -0.08011805103018248\n",
      "207: -0.06172200923828945\n",
      "165: 0.03557441710603357\n",
      "143: 0.025441094302742273\n",
      "265: 0.011639187968200779\n",
      "\n",
      "Feature importances for svc_linear:\n",
      "151: -0.212858530936402\n",
      "160: 0.10506933479168111\n",
      "266: 0.07217153331249311\n",
      "104: 0.0687532518242824\n",
      "166: -0.06327508776037175\n",
      "150: 0.05968676210388739\n",
      "267: -0.04920675071552912\n",
      "140: -0.01850105812500626\n",
      "105: -0.016928377349015384\n",
      "207: -0.013113393943013509\n",
      "165: 0.00879474544430105\n",
      "143: 0.006464233682874561\n",
      "265: 0.004562300523971124\n",
      "\n",
      "Feature importances for lda_poly:\n",
      "143: -0.2996378883884322\n",
      "151: -0.153568200409306\n",
      "150: -0.12284840793409349\n",
      "105: 0.09753897689112154\n",
      "166: 0.07326375545541103\n",
      "207: -0.05874692182809845\n",
      "265: 0.05854839036213752\n",
      "140: -0.05382512140604039\n",
      "267: 0.025604553706499104\n",
      "160: -0.022594084433455692\n",
      "266: 0.015531778631256103\n",
      "165: -0.004986171467857371\n",
      "104: -7.58369459400646e-19\n",
      "\n",
      "Feature importances for log_reg_poly:\n",
      "104: 1.0652442312750423\n",
      "105: 0.40724624636503653\n",
      "143: -0.24322711750911938\n",
      "166: 0.20543642978353446\n",
      "266: 0.17635226603810086\n",
      "207: -0.15906084917326505\n",
      "267: 0.14816519475664264\n",
      "140: -0.1442440243303928\n",
      "165: 0.13632143599221574\n",
      "150: -0.07070627535899136\n",
      "160: -0.05237029251293643\n",
      "151: -0.04911660354734125\n",
      "265: 0.015531452082595258\n"
     ]
    }
   ],
   "source": [
    "importances = {}\n",
    "\n",
    "for model_name, model in classifiers.items():\n",
    "    model.fit(X_train, y_train)\n",
    "    if hasattr(model, 'named_steps'):\n",
    "        # For pipelines, get the final step\n",
    "        final_model = model.named_steps[list(model.named_steps.keys())[-1]]\n",
    "    else:\n",
    "        final_model = model\n",
    "    \n",
    "    if hasattr(final_model, 'feature_importances_'):\n",
    "        importances[model_name] = final_model.feature_importances_\n",
    "    elif hasattr(final_model, 'coef_'):\n",
    "        importances[model_name] = final_model.coef_[0]  # For linear models\n",
    "\n",
    "accs = {model_name: accuracy_score(y_test, model.predict(X_test)) for model_name, model in classifiers.items()}\n",
    "\n",
    "# Print accuracies\n",
    "print(\"Accuracies:\", accs)\n",
    "\n",
    "# Print feature importances or coefficients ordered by absolute value\n",
    "for model_name, importance in importances.items():\n",
    "    print(f\"\\nFeature importances for {model_name}:\")\n",
    "    sorted_importances = sorted(zip(X.columns, importance), key=lambda x: abs(x[1]), reverse=True)\n",
    "    for feature_name, value in sorted_importances:\n",
    "        print(f\"{feature_name}: {value}\")"
   ]
  },
  {
   "cell_type": "code",
   "execution_count": 6,
   "id": "75d3f021-0fa2-4b86-ae18-dfeede2ba1ce",
   "metadata": {},
   "outputs": [
    {
     "data": {
      "text/plain": [
       "{'lda': 0.8777869529314616,\n",
       " 'log_reg': 0.8777869529314616,\n",
       " 'svc_linear': 0.8777869529314616,\n",
       " 'qda': 0.8352601156069365,\n",
       " 'lda_poly': 0.8757225433526011,\n",
       " 'log_reg_poly': 0.8773740710156895,\n",
       " 'gnb': 0.8129644921552436,\n",
       " 'knn': 0.8447563996696945,\n",
       " 'svc_rbf': 0.8769611890999174}"
      ]
     },
     "execution_count": 6,
     "metadata": {},
     "output_type": "execute_result"
    }
   ],
   "source": [
    "for model_name, model in classifiers.items():\n",
    "    model.fit(X_train,y_train)\n",
    "\n",
    "accs = {model_name: accuracy_score(y_test, model.predict(X_test)) for model_name, model in classifiers.items()}\n",
    "\n",
    "accs"
   ]
  },
  {
   "cell_type": "code",
   "execution_count": null,
   "id": "c855571b-aad3-4c54-8f92-6003785abbc6",
   "metadata": {},
   "outputs": [],
   "source": []
  }
 ],
 "metadata": {
  "kernelspec": {
   "display_name": "Python 3 (ipykernel)",
   "language": "python",
   "name": "python3"
  },
  "language_info": {
   "codemirror_mode": {
    "name": "ipython",
    "version": 3
   },
   "file_extension": ".py",
   "mimetype": "text/x-python",
   "name": "python",
   "nbconvert_exporter": "python",
   "pygments_lexer": "ipython3",
   "version": "3.12.5"
  }
 },
 "nbformat": 4,
 "nbformat_minor": 5
}
