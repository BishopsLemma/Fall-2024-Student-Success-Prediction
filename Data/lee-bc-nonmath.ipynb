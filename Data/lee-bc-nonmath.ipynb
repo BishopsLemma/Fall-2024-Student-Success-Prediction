{
 "cells": [
  {
   "cell_type": "code",
   "execution_count": 141,
   "id": "8dc812a3-3952-443e-a8f2-37c0ab74e840",
   "metadata": {},
   "outputs": [],
   "source": [
    "import numpy as np\n",
    "import pandas as pd\n",
    "import math\n",
    "import matplotlib.pyplot as plt\n",
    "import seaborn as sns\n",
    "\n",
    "sns.set_style(\"whitegrid\")\n",
    "\n",
    "from sklearn.metrics import accuracy_score\n",
    "from sklearn.model_selection import train_test_split\n",
    "\n",
    "from sklearn.neighbors import KNeighborsClassifier\n",
    "from sklearn.discriminant_analysis import LinearDiscriminantAnalysis\n",
    "from sklearn.discriminant_analysis import QuadraticDiscriminantAnalysis\n",
    "from sklearn.naive_bayes import GaussianNB\n",
    "from sklearn.linear_model import LogisticRegression\n",
    "from sklearn.svm import LinearSVC\n",
    "from sklearn.svm import SVC\n",
    "\n",
    "from sklearn.pipeline import Pipeline\n",
    "from sklearn.preprocessing import PolynomialFeatures\n",
    "from sklearn.preprocessing import StandardScaler"
   ]
  },
  {
   "cell_type": "code",
   "execution_count": 142,
   "id": "998672f7-0cb1-4830-a000-10e997de1e77",
   "metadata": {},
   "outputs": [],
   "source": [
    "grades = pd.read_csv('NonMathMajors.csv')"
   ]
  },
  {
   "cell_type": "code",
   "execution_count": 143,
   "id": "8e607426-083f-4e31-86ee-2068e3e90f52",
   "metadata": {},
   "outputs": [],
   "source": [
    "X = grades.drop(['STUDENT','ENTRY_CCYY','SEM_CCYY.1','GRAD','GRAD_TIME','DEG_CD'], axis=1)\n",
    "y = grades['GRAD']"
   ]
  },
  {
   "cell_type": "code",
   "execution_count": 144,
   "id": "423ca13f-6438-4ee7-b78c-05e1402bc860",
   "metadata": {},
   "outputs": [],
   "source": [
    "X_train, X_test, y_train, y_test = train_test_split(X, y, \n",
    "                                                    test_size=0.25, \n",
    "                                                    random_state=42,\n",
    "                                                    shuffle=True,\n",
    "                                                    stratify=y)\n"
   ]
  },
  {
   "cell_type": "code",
   "execution_count": 145,
   "id": "73db7f56-9c9a-4519-8859-63a707802aa1",
   "metadata": {},
   "outputs": [],
   "source": [
    "classifiers = {\n",
    "    # Putting linear decision boundary classifiers first\n",
    "    'lda' : LinearDiscriminantAnalysis(),\n",
    "    'log_reg' : LogisticRegression(penalty=None, max_iter= 100000),\n",
    "     'svc_linear' : LinearSVC(dual = 'auto'),\n",
    "\n",
    "    # Quadratic boundaries\n",
    "    'qda' : QuadraticDiscriminantAnalysis(),\n",
    "    'lda_poly' : Pipeline([('scale', StandardScaler()),('poly',PolynomialFeatures(2)),('lda', LinearDiscriminantAnalysis())]),\n",
    "    'log_reg_poly' : Pipeline([('scale', StandardScaler()),('poly',PolynomialFeatures(2)),('log_reg', LogisticRegression(penalty=None, max_iter= 100000))]),\n",
    "    'gnb' : GaussianNB(),\n",
    "\n",
    "    # Complex boundaries\n",
    "    'knn' : Pipeline([('scale', StandardScaler()),('knn', KNeighborsClassifier())]),   \n",
    "    'svc_rbf' : Pipeline([('scale', StandardScaler()),('svc',SVC(kernel= 'rbf'))])\n",
    "}"
   ]
  },
  {
   "cell_type": "code",
   "execution_count": 146,
   "id": "75d3f021-0fa2-4b86-ae18-dfeede2ba1ce",
   "metadata": {},
   "outputs": [
    {
     "data": {
      "text/plain": [
       "{'lda': 0.8777869529314616,\n",
       " 'log_reg': 0.8777869529314616,\n",
       " 'svc_linear': 0.8777869529314616,\n",
       " 'qda': 0.8352601156069365,\n",
       " 'lda_poly': 0.8757225433526011,\n",
       " 'log_reg_poly': 0.8773740710156895,\n",
       " 'gnb': 0.8129644921552436,\n",
       " 'knn': 0.8447563996696945,\n",
       " 'svc_rbf': 0.8769611890999174}"
      ]
     },
     "execution_count": 146,
     "metadata": {},
     "output_type": "execute_result"
    }
   ],
   "source": [
    "for model_name, model in classifiers.items():\n",
    "    model.fit(X_train,y_train)\n",
    "\n",
    "accs = {model_name: accuracy_score(y_test, model.predict(X_test)) for model_name, model in classifiers.items()}\n",
    "\n",
    "accs"
   ]
  },
  {
   "cell_type": "code",
   "execution_count": null,
   "id": "c855571b-aad3-4c54-8f92-6003785abbc6",
   "metadata": {},
   "outputs": [],
   "source": []
  }
 ],
 "metadata": {
  "kernelspec": {
   "display_name": "Python 3 (ipykernel)",
   "language": "python",
   "name": "python3"
  },
  "language_info": {
   "codemirror_mode": {
    "name": "ipython",
    "version": 3
   },
   "file_extension": ".py",
   "mimetype": "text/x-python",
   "name": "python",
   "nbconvert_exporter": "python",
   "pygments_lexer": "ipython3",
   "version": "3.12.5"
  }
 },
 "nbformat": 4,
 "nbformat_minor": 5
}
