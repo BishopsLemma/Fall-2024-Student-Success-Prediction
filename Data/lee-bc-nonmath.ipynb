{
 "cells": [
  {
   "cell_type": "code",
   "execution_count": 9,
   "id": "8dc812a3-3952-443e-a8f2-37c0ab74e840",
   "metadata": {},
   "outputs": [],
   "source": [
    "import numpy as np\n",
    "import pandas as pd\n",
    "import math\n",
    "import matplotlib.pyplot as plt\n",
    "import seaborn as sns\n",
    "\n",
    "sns.set_style(\"whitegrid\")\n",
    "\n",
    "from sklearn.metrics import accuracy_score\n",
    "from sklearn.model_selection import train_test_split, cross_val_score\n",
    "\n",
    "from sklearn.neighbors import KNeighborsClassifier\n",
    "from sklearn.discriminant_analysis import LinearDiscriminantAnalysis\n",
    "from sklearn.discriminant_analysis import QuadraticDiscriminantAnalysis\n",
    "from sklearn.naive_bayes import GaussianNB\n",
    "from sklearn.linear_model import LogisticRegression\n",
    "from sklearn.svm import LinearSVC\n",
    "from sklearn.svm import SVC\n",
    "\n",
    "from sklearn.pipeline import Pipeline\n",
    "from sklearn.preprocessing import PolynomialFeatures\n",
    "from sklearn.preprocessing import StandardScaler"
   ]
  },
  {
   "cell_type": "code",
   "execution_count": 10,
   "id": "998672f7-0cb1-4830-a000-10e997de1e77",
   "metadata": {},
   "outputs": [],
   "source": [
    "grades = pd.read_csv('NonMathMajors.csv')"
   ]
  },
  {
   "cell_type": "code",
   "execution_count": 11,
   "id": "8e607426-083f-4e31-86ee-2068e3e90f52",
   "metadata": {},
   "outputs": [],
   "source": [
    "X = grades.drop(['STUDENT','ENTRY_CCYY','SEM_CCYY.1','GRAD','GRAD_TIME','DEG_CD'], axis=1)\n",
    "y = grades['GRAD']"
   ]
  },
  {
   "cell_type": "code",
   "execution_count": 12,
   "id": "423ca13f-6438-4ee7-b78c-05e1402bc860",
   "metadata": {},
   "outputs": [],
   "source": [
    "X_train, X_test, y_train, y_test = train_test_split(X, y, \n",
    "                                                    test_size=0.25, \n",
    "                                                    random_state=42,\n",
    "                                                    shuffle=True,\n",
    "                                                    stratify=y)\n"
   ]
  },
  {
   "cell_type": "code",
   "execution_count": 13,
   "id": "73db7f56-9c9a-4519-8859-63a707802aa1",
   "metadata": {},
   "outputs": [],
   "source": [
    "classifiers = {\n",
    "    # Putting linear decision boundary classifiers first\n",
    "    'lda' : LinearDiscriminantAnalysis(),\n",
    "    'log_reg' : LogisticRegression(penalty=None, max_iter= 100000),\n",
    "     'svc_linear' : LinearSVC(dual = 'auto'),\n",
    "\n",
    "    # Quadratic boundaries\n",
    "    'qda' : QuadraticDiscriminantAnalysis(),\n",
    "    'lda_poly' : Pipeline([('scale', StandardScaler()),('poly',PolynomialFeatures(2)),('lda', LinearDiscriminantAnalysis())]),\n",
    "    'log_reg_poly' : Pipeline([('scale', StandardScaler()),('poly',PolynomialFeatures(2)),('log_reg', LogisticRegression(penalty=None, max_iter= 100000))]),\n",
    "    'gnb' : GaussianNB(),\n",
    "\n",
    "    # Complex boundaries\n",
    "    'knn' : Pipeline([('scale', StandardScaler()),('knn', KNeighborsClassifier())]),   \n",
    "    'svc_rbf' : Pipeline([('scale', StandardScaler()),('svc',SVC(kernel= 'rbf'))])\n",
    "}"
   ]
  },
  {
   "cell_type": "code",
   "execution_count": 14,
   "id": "446d04ee",
   "metadata": {},
   "outputs": [
    {
     "name": "stdout",
     "output_type": "stream",
     "text": [
      "\n",
      "Feature importances for lda:\n",
      "151: -1.0058811224309507\n",
      "160: 0.49390334847216977\n",
      "266: 0.33923499340194685\n",
      "104: 0.3226622722942135\n",
      "166: -0.29737105459588287\n",
      "150: 0.2802778091506886\n",
      "267: -0.23139245795134047\n",
      "140: -0.08724608433932464\n",
      "105: -0.07985312344527754\n",
      "207: -0.06171367092665122\n",
      "165: 0.04110866968772742\n",
      "143: 0.030189241194664655\n",
      "265: 0.021317446941191025\n",
      "\n",
      "Feature importances for log_reg:\n",
      "151: -0.8417418342875841\n",
      "160: 0.5818568919570145\n",
      "104: 0.34576842978229605\n",
      "266: 0.33759313145373093\n",
      "150: 0.29161152904353715\n",
      "166: -0.2800151667946509\n",
      "267: -0.19534476191133926\n",
      "140: -0.09866178212525177\n",
      "105: -0.08011805103018194\n",
      "207: -0.061722009238288945\n",
      "165: 0.03557441710603366\n",
      "143: 0.025441094302739112\n",
      "265: 0.011639187968201925\n",
      "\n",
      "Feature importances for svc_linear:\n",
      "151: -0.21285853090675755\n",
      "160: 0.10506933477277822\n",
      "266: 0.0721715333002807\n",
      "104: 0.06875325183467838\n",
      "166: -0.06327508775966345\n",
      "150: 0.05968676211110577\n",
      "267: -0.04920675073418531\n",
      "140: -0.018501058120744544\n",
      "105: -0.0169283773680735\n",
      "207: -0.013113393936758174\n",
      "165: 0.00879474545231237\n",
      "143: 0.006464233667318629\n",
      "265: 0.0045623005234997314\n",
      "\n",
      "Feature importances for lda_poly:\n",
      "143: -0.299637888388429\n",
      "151: -0.1535682004093037\n",
      "150: -0.12284840793408165\n",
      "105: 0.0975389768910723\n",
      "166: 0.07326375545537904\n",
      "207: -0.05874692182813514\n",
      "265: 0.05854839036216025\n",
      "140: -0.05382512140607368\n",
      "267: 0.025604553706517427\n",
      "160: -0.022594084433461094\n",
      "266: 0.015531778631240965\n",
      "165: -0.004986171467859026\n",
      "104: -7.5836944282440025e-19\n",
      "\n",
      "Feature importances for log_reg_poly:\n",
      "104: 1.068925907892717\n",
      "105: 0.4255293434086007\n",
      "143: -0.24212761040005898\n",
      "166: 0.21430550401401122\n",
      "266: 0.1872546953315675\n",
      "207: -0.1636891004395448\n",
      "267: 0.15029319297268898\n",
      "140: -0.1471852848830521\n",
      "165: 0.14417470606900284\n",
      "150: -0.0703030225231074\n",
      "160: -0.050513274084853205\n",
      "151: -0.04318844258912874\n",
      "265: 0.012777140428521919\n"
     ]
    }
   ],
   "source": [
    "importances = {}\n",
    "\n",
    "for model_name, model in classifiers.items():\n",
    "    model.fit(X_train, y_train)\n",
    "    if hasattr(model, 'named_steps'):\n",
    "        # For pipelines, get the final step\n",
    "        final_model = model.named_steps[list(model.named_steps.keys())[-1]]\n",
    "    else:\n",
    "        final_model = model\n",
    "    \n",
    "    if hasattr(final_model, 'feature_importances_'):\n",
    "        importances[model_name] = final_model.feature_importances_\n",
    "    elif hasattr(final_model, 'coef_'):\n",
    "        importances[model_name] = final_model.coef_[0]  # For linear models\n",
    "\n",
    "\n",
    "# Print feature importances or coefficients ordered by absolute value\n",
    "for model_name, importance in importances.items():\n",
    "    print(f\"\\nFeature importances for {model_name}:\")\n",
    "    sorted_importances = sorted(zip(X.columns, importance), key=lambda x: abs(x[1]), reverse=True)\n",
    "    for feature_name, value in sorted_importances:\n",
    "        print(f\"{feature_name}: {value}\")"
   ]
  },
  {
   "cell_type": "code",
   "execution_count": 15,
   "id": "75d3f021-0fa2-4b86-ae18-dfeede2ba1ce",
   "metadata": {},
   "outputs": [
    {
     "name": "stdout",
     "output_type": "stream",
     "text": [
      "lda: Mean -logloss = 0.8779, Std = 0.0003\n",
      "log_reg: Mean -logloss = 0.8779, Std = 0.0003\n",
      "svc_linear: Mean -logloss = 0.8779, Std = 0.0003\n",
      "qda: Mean -logloss = 0.8183, Std = 0.0261\n",
      "lda_poly: Mean -logloss = 0.8731, Std = 0.0024\n",
      "log_reg_poly: Mean -logloss = 0.8771, Std = 0.0009\n",
      "gnb: Mean -logloss = 0.7971, Std = 0.0285\n",
      "knn: Mean -logloss = 0.8556, Std = 0.0101\n",
      "svc_rbf: Mean -logloss = 0.8780, Std = 0.0005\n"
     ]
    }
   ],
   "source": [
    "cv_results = {}\n",
    "for model_name, model in classifiers.items():\n",
    "    scores = cross_val_score(model, \n",
    "                             X_train, \n",
    "                             y_train, \n",
    "                             cv=5,\n",
    "                             scoring='accuracy')\n",
    "    cv_results[model_name] = scores\n",
    "    print(f\"{model_name}: Mean -logloss = {scores.mean():.4f}, Std = {scores.std():.4f}\")"
   ]
  },
  {
   "cell_type": "code",
   "execution_count": null,
   "id": "c855571b-aad3-4c54-8f92-6003785abbc6",
   "metadata": {},
   "outputs": [],
   "source": []
  }
 ],
 "metadata": {
  "kernelspec": {
   "display_name": "Python 3 (ipykernel)",
   "language": "python",
   "name": "python3"
  },
  "language_info": {
   "codemirror_mode": {
    "name": "ipython",
    "version": 3
   },
   "file_extension": ".py",
   "mimetype": "text/x-python",
   "name": "python",
   "nbconvert_exporter": "python",
   "pygments_lexer": "ipython3",
   "version": "3.12.5"
  }
 },
 "nbformat": 4,
 "nbformat_minor": 5
}
