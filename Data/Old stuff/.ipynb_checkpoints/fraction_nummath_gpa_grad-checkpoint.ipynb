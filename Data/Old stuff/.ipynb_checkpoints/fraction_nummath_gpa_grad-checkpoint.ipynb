{
 "cells": [
  {
   "cell_type": "code",
   "execution_count": 13,
   "metadata": {},
   "outputs": [],
   "source": [
    "# D Larue, 10/24/24\n",
    "# Fraction of graduation given number of math courses and \"GPA\" in them\n",
    "\n",
    "import pandas as pd\n",
    "import numpy as np\n",
    "import matplotlib.pyplot as plt\n",
    "import warnings\n",
    "\n",
    "# read in cleaned data\n",
    "grades = pd.read_csv('newdata.csv')"
   ]
  },
  {
   "cell_type": "code",
   "execution_count": 19,
   "metadata": {},
   "outputs": [
    {
     "name": "stderr",
     "output_type": "stream",
     "text": [
      "C:\\Users\\david\\AppData\\Local\\Temp\\ipykernel_61220\\2904078016.py:37: RuntimeWarning: invalid value encountered in divide\n",
      "  ncr_gpa_pct=ncr_gpa_num/ncr_gpa_den\n"
     ]
    },
    {
     "data": {
      "image/png": "[encoded data removed]",
      "text/plain": [
       "<Figure size 640x480 with 2 Axes>"
      ]
     },
     "metadata": {},
     "output_type": "display_data"
    }
   ],
   "source": [
    "# count courses taken by each student\n",
    "how_many = np.count_nonzero(grades.iloc[:,5:],axis=1)\n",
    "# total the (1,2,3) grades for each student\n",
    "sum_grades = grades.iloc[:,5:].sum(axis=1)\n",
    "# compute a \"grade point average\"\n",
    "gpa=sum_grades/how_many\n",
    "# list of graduation statuses\n",
    "grad=grades.iloc[:,3:4]\n",
    "# number of students\n",
    "num_rows = len(grades)\n",
    "# initialize array that counts the number of graduates for given count of courses, gpa\n",
    "#count_grads = np.zeros((len(how_many),len(gpa)))\n",
    "count_grads = np.zeros((num_rows,num_rows))\n",
    "num_grad_numcrs_gpa=np.zeros((num_rows,num_rows))\n",
    "num_stud_numcrs_gpa=np.zeros((num_rows,num_rows))\n",
    "\n",
    "#rounding gpa to nearest tenth\n",
    "#gpa in 1..3 grade point average, so 1.0, 1.1, ..., 2.9, 3.0, so 21 in length\n",
    "#ncr in 1..18 number of courses, 18 length\n",
    "# magic numbers\n",
    "digits_gpa=1\n",
    "num_gpa = 21\n",
    "num_ncr = 18\n",
    "# numerator, denominator, fraction\n",
    "ncr_gpa_num=np.zeros((num_gpa,num_ncr))\n",
    "ncr_gpa_den=np.zeros((num_gpa,num_ncr))\n",
    "ncr_gpa_pct=np.zeros((num_gpa,num_ncr))\n",
    "for stu in range(num_rows):\n",
    "    stu_num_courses=how_many[stu]\n",
    "    # round gpa, data then is about a range of gpa\n",
    "    stu_gpa=round(gpa[stu],digits_gpa)\n",
    "    # index arithmetic for rounded gpa\n",
    "    stu_num_idx=stu_num_courses-1\n",
    "    stu_gpa_idx=round((stu_gpa-1)*10)\n",
    "    stu_grad=grad.iloc[stu,0]\n",
    "    # count student, and only those who graduate\n",
    "    ncr_gpa_den[stu_gpa_idx,stu_num_idx]+=1\n",
    "    if (stu_grad==1):\n",
    "        ncr_gpa_num[stu_gpa_idx,stu_num_idx]+=1\n",
    "# compute fraction that graduated\n",
    "ncr_gpa_pct=ncr_gpa_num/ncr_gpa_den\n",
    "# zero out the nan's\n",
    "np.nan_to_num(ncr_gpa_pct,nan=0)\n",
    "\n",
    "# plot the fraction of student graduating as a function of number of courses and GPA\n",
    "ax = plt.gca()\n",
    "im = plt.imshow(ncr_gpa_pct, cmap='seismic',origin='lower',aspect=0.5,extent=[1,18,10,30])\n",
    "plt.colorbar(im, orientation='horizontal')\n",
    "plt.xlabel('Number of math courses taken')\n",
    "plt.ylabel('GPA')\n",
    "ax.set_xticks([1,10,18])\n",
    "plt.yticks([10,20,30],[1,2,3])\n",
    "plt.title('Fraction of students graduating')\n",
    "plt.show()"
   ]
  },
  {
   "cell_type": "markdown",
   "metadata": {},
   "source": [
    "Graph of the fraction of students graduating given the number of math courses they have taken and their \"gpa\".\n",
    "Observations: \n",
    "1. More than about 5 math courses gives high (>90%) fraction of graduation; \n",
    "2. Fewer gives about 60% graduate. \n",
    "3. No students take many math courses and get a low GPA."
   ]
  }
 ],
 "metadata": {
  "kernelspec": {
   "display_name": "Python 3 (ipykernel)",
   "language": "python",
   "name": "python3"
  },
  "language_info": {
   "codemirror_mode": {
    "name": "ipython",
    "version": 3
   },
   "file_extension": ".py",
   "mimetype": "text/x-python",
   "name": "python",
   "nbconvert_exporter": "python",
   "pygments_lexer": "ipython3",
   "version": "3.12.5"
  }
 },
 "nbformat": 4,
 "nbformat_minor": 4
}
