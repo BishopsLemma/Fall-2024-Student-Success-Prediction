{
 "cells": [
  {
   "cell_type": "code",
   "execution_count": 1,
   "id": "f21050c1-6321-4980-9a5b-503f238c21ed",
   "metadata": {},
   "outputs": [],
   "source": [
    "import numpy as np\n",
    "import pandas as pd\n",
    "import math\n",
    "import matplotlib.pyplot as plt\n",
    "import seaborn as sns\n",
    "\n",
    "sns.set_style(\"whitegrid\")\n",
    "\n",
    "from sklearn.metrics import accuracy_score\n",
    "from sklearn.model_selection import train_test_split, cross_val_score\n",
    "\n",
    "from sklearn.neighbors import KNeighborsClassifier\n",
    "from sklearn.discriminant_analysis import LinearDiscriminantAnalysis\n",
    "from sklearn.discriminant_analysis import QuadraticDiscriminantAnalysis\n",
    "from sklearn.naive_bayes import GaussianNB\n",
    "from sklearn.linear_model import LogisticRegression\n",
    "from sklearn.svm import LinearSVC\n",
    "from sklearn.svm import SVC\n",
    "\n",
    "from sklearn.pipeline import Pipeline\n",
    "from sklearn.preprocessing import PolynomialFeatures\n",
    "from sklearn.preprocessing import StandardScaler"
   ]
  },
  {
   "cell_type": "code",
   "execution_count": 2,
   "id": "b29d3db8-d77f-459d-8827-962c7e8d29df",
   "metadata": {},
   "outputs": [],
   "source": [
    "grades = pd.read_csv('MathMajors.csv')"
   ]
  },
  {
   "cell_type": "code",
   "execution_count": 3,
   "id": "2bc0c514-9c24-47aa-9ac8-7bc0870c68bb",
   "metadata": {},
   "outputs": [],
   "source": [
    "X = grades.drop(['STUDENT','ENTRY_CCYY','SEM_CCYY.1','GRAD','GRAD_TIME','DEG_CD'], axis=1)\n",
    "y = grades['GRAD']"
   ]
  },
  {
   "cell_type": "code",
   "execution_count": 4,
   "id": "89645bd4-f063-45d4-9e03-cb60605ed6f0",
   "metadata": {},
   "outputs": [],
   "source": [
    "X_train, X_test, y_train, y_test = train_test_split(X, y, \n",
    "                                                    test_size=0.25, \n",
    "                                                    random_state=42,\n",
    "                                                    shuffle=True,\n",
    "                                                    stratify=y)"
   ]
  },
  {
   "cell_type": "code",
   "execution_count": 5,
   "id": "19589e69-7725-4176-b252-a27bc682be78",
   "metadata": {},
   "outputs": [],
   "source": [
    "classifiers = {\n",
    "    # Putting linear decision boundary classifiers first\n",
    "    'lda' : LinearDiscriminantAnalysis(),\n",
    "    'log_reg' : LogisticRegression(penalty=None, max_iter= 100000),\n",
    "     'svc_linear' : LinearSVC(dual = 'auto'),\n",
    "\n",
    "    # Quadratic boundaries\n",
    "    'qda' : QuadraticDiscriminantAnalysis(),\n",
    "    'lda_poly' : Pipeline([('scale', StandardScaler()),('poly',PolynomialFeatures(2)),('lda', LinearDiscriminantAnalysis())]),\n",
    "    'log_reg_poly' : Pipeline([('scale', StandardScaler()),('poly',PolynomialFeatures(2)),('log_reg', LogisticRegression(penalty=None, max_iter= 100000))]),\n",
    "    'gnb' : GaussianNB(),\n",
    "\n",
    "    # Complex boundaries\n",
    "    'knn' : Pipeline([('scale', StandardScaler()),('knn', KNeighborsClassifier())]),   \n",
    "    'svc_rbf' : Pipeline([('scale', StandardScaler()),('svc',SVC(kernel= 'rbf'))])\n",
    "}"
   ]
  },
  {
   "cell_type": "code",
   "execution_count": 6,
   "id": "110e592e-3f79-42a9-92bd-b30829433067",
   "metadata": {},
   "outputs": [
    {
     "name": "stdout",
     "output_type": "stream",
     "text": [
      "lda: Mean -logloss = 0.8772, Std = 0.0014\n",
      "log_reg: Mean -logloss = 0.8778, Std = 0.0004\n",
      "svc_linear: Mean -logloss = 0.8780, Std = 0.0005\n",
      "qda: Mean -logloss = 0.8261, Std = 0.0246\n",
      "lda_poly: Mean -logloss = 0.8651, Std = 0.0039\n",
      "log_reg_poly: Mean -logloss = 0.8700, Std = 0.0034\n",
      "gnb: Mean -logloss = 0.8281, Std = 0.0092\n",
      "knn: Mean -logloss = 0.8662, Std = 0.0058\n",
      "svc_rbf: Mean -logloss = 0.8776, Std = 0.0005\n"
     ]
    }
   ],
   "source": [
    "cv_results = {}\n",
    "for model_name, model in classifiers.items():\n",
    "    scores = cross_val_score(model, \n",
    "                             X_train, \n",
    "                             y_train, \n",
    "                             cv=5,\n",
    "                             scoring='accuracy')\n",
    "    cv_results[model_name] = scores\n",
    "    print(f\"{model_name}: Mean -logloss = {scores.mean():.4f}, Std = {scores.std():.4f}\")"
   ]
  },
  {
   "cell_type": "code",
   "execution_count": null,
   "id": "8bf25b4c-ac14-42f1-b023-9ef3046f636b",
   "metadata": {},
   "outputs": [],
   "source": []
  }
 ],
 "metadata": {
  "kernelspec": {
   "display_name": "Python 3 (ipykernel)",
   "language": "python",
   "name": "python3"
  },
  "language_info": {
   "codemirror_mode": {
    "name": "ipython",
    "version": 3
   },
   "file_extension": ".py",
   "mimetype": "text/x-python",
   "name": "python",
   "nbconvert_exporter": "python",
   "pygments_lexer": "ipython3",
   "version": "3.12.5"
  }
 },
 "nbformat": 4,
 "nbformat_minor": 5
}
