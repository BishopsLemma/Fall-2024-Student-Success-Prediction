{
 "cells": [
  {
   "cell_type": "code",
   "execution_count": 1,
   "id": "f21050c1-6321-4980-9a5b-503f238c21ed",
   "metadata": {},
   "outputs": [],
   "source": [
    "import numpy as np\n",
    "import pandas as pd\n",
    "import math\n",
    "import matplotlib.pyplot as plt\n",
    "import seaborn as sns\n",
    "\n",
    "sns.set_style(\"whitegrid\")\n",
    "\n",
    "from sklearn.metrics import accuracy_score\n",
    "from sklearn.model_selection import train_test_split\n",
    "\n",
    "from sklearn.neighbors import KNeighborsClassifier\n",
    "from sklearn.discriminant_analysis import LinearDiscriminantAnalysis\n",
    "from sklearn.discriminant_analysis import QuadraticDiscriminantAnalysis\n",
    "from sklearn.naive_bayes import GaussianNB\n",
    "from sklearn.linear_model import LogisticRegression\n",
    "from sklearn.svm import LinearSVC\n",
    "from sklearn.svm import SVC\n",
    "\n",
    "from sklearn.pipeline import Pipeline\n",
    "from sklearn.preprocessing import PolynomialFeatures\n",
    "from sklearn.preprocessing import StandardScaler"
   ]
  },
  {
   "cell_type": "code",
   "execution_count": 2,
   "id": "b29d3db8-d77f-459d-8827-962c7e8d29df",
   "metadata": {},
   "outputs": [],
   "source": [
    "grades = pd.read_csv('MathMajors.csv')"
   ]
  },
  {
   "cell_type": "code",
   "execution_count": 3,
   "id": "2bc0c514-9c24-47aa-9ac8-7bc0870c68bb",
   "metadata": {},
   "outputs": [],
   "source": [
    "X = grades.drop(['STUDENT','ENTRY_CCYY','SEM_CCYY.1','GRAD','GRAD_TIME','DEG_CD'], axis=1)\n",
    "y = grades['GRAD']"
   ]
  },
  {
   "cell_type": "code",
   "execution_count": 6,
   "id": "89645bd4-f063-45d4-9e03-cb60605ed6f0",
   "metadata": {},
   "outputs": [],
   "source": [
    "X_train, X_test, y_train, y_test = train_test_split(X, y, \n",
    "                                                    test_size=0.25, \n",
    "                                                    random_state=42,\n",
    "                                                    shuffle=True,\n",
    "                                                    stratify=y)"
   ]
  },
  {
   "cell_type": "code",
   "execution_count": 7,
   "id": "19589e69-7725-4176-b252-a27bc682be78",
   "metadata": {},
   "outputs": [],
   "source": [
    "classifiers = {\n",
    "    # Putting linear decision boundary classifiers first\n",
    "    'lda' : LinearDiscriminantAnalysis(),\n",
    "    'log_reg' : LogisticRegression(penalty=None, max_iter= 100000),\n",
    "     'svc_linear' : LinearSVC(dual = 'auto'),\n",
    "\n",
    "    # Quadratic boundaries\n",
    "    'qda' : QuadraticDiscriminantAnalysis(),\n",
    "    'lda_poly' : Pipeline([('scale', StandardScaler()),('poly',PolynomialFeatures(2)),('lda', LinearDiscriminantAnalysis())]),\n",
    "    'log_reg_poly' : Pipeline([('scale', StandardScaler()),('poly',PolynomialFeatures(2)),('log_reg', LogisticRegression(penalty=None, max_iter= 100000))]),\n",
    "    'gnb' : GaussianNB(),\n",
    "\n",
    "    # Complex boundaries\n",
    "    'knn' : Pipeline([('scale', StandardScaler()),('knn', KNeighborsClassifier())]),   \n",
    "    'svc_rbf' : Pipeline([('scale', StandardScaler()),('svc',SVC(kernel= 'rbf'))])\n",
    "}"
   ]
  },
  {
   "cell_type": "code",
   "execution_count": 8,
   "id": "110e592e-3f79-42a9-92bd-b30829433067",
   "metadata": {},
   "outputs": [
    {
     "data": {
      "text/plain": [
       "{'lda': 0.8769611890999174,\n",
       " 'log_reg': 0.8773740710156895,\n",
       " 'svc_linear': 0.8777869529314616,\n",
       " 'qda': 0.8373245251857968,\n",
       " 'lda_poly': 0.8682906688687035,\n",
       " 'log_reg_poly': 0.8678777869529315,\n",
       " 'gnb': 0.8393889347646573,\n",
       " 'knn': 0.8583815028901735,\n",
       " 'svc_rbf': 0.8765483071841453}"
      ]
     },
     "execution_count": 8,
     "metadata": {},
     "output_type": "execute_result"
    }
   ],
   "source": [
    "for model_name, model in classifiers.items():\n",
    "    model.fit(X_train,y_train)\n",
    "\n",
    "accs = {model_name: accuracy_score(y_test, model.predict(X_test)) for model_name, model in classifiers.items()}\n",
    "\n",
    "accs"
   ]
  },
  {
   "cell_type": "code",
   "execution_count": null,
   "id": "8bf25b4c-ac14-42f1-b023-9ef3046f636b",
   "metadata": {},
   "outputs": [],
   "source": []
  }
 ],
 "metadata": {
  "kernelspec": {
   "display_name": "Python 3 (ipykernel)",
   "language": "python",
   "name": "python3"
  },
  "language_info": {
   "codemirror_mode": {
    "name": "ipython",
    "version": 3
   },
   "file_extension": ".py",
   "mimetype": "text/x-python",
   "name": "python",
   "nbconvert_exporter": "python",
   "pygments_lexer": "ipython3",
   "version": "3.12.5"
  }
 },
 "nbformat": 4,
 "nbformat_minor": 5
}
